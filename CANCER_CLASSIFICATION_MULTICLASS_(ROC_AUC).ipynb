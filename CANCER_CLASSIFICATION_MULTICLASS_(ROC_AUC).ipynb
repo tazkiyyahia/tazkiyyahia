{
  "nbformat": 4,
  "nbformat_minor": 0,
  "metadata": {
    "colab": {
      "name": "CANCER CLASSIFICATION MULTICLASS (ROC-AUC).ipynb",
      "provenance": [],
      "collapsed_sections": [],
      "include_colab_link": true
    },
    "kernelspec": {
      "name": "python3",
      "display_name": "Python 3"
    },
    "language_info": {
      "name": "python"
    }
  },
  "cells": [
    {
      "cell_type": "markdown",
      "metadata": {
        "id": "view-in-github",
        "colab_type": "text"
      },
      "source": [
        "<a href=\"https://colab.research.google.com/github/tazkiyyahia/tazkiyyahia/blob/main/CANCER_CLASSIFICATION_MULTICLASS_(ROC_AUC).ipynb\" target=\"_parent\"><img src=\"https://colab.research.google.com/assets/colab-badge.svg\" alt=\"Open In Colab\"/></a>"
      ]
    },
    {
      "cell_type": "code",
      "execution_count": 1,
      "metadata": {
        "colab": {
          "resources": {
            "http://localhost:8080/nbextensions/google.colab/files.js": {
              "data": "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",
              "ok": true,
              "headers": [
                [
                  "content-type",
                  "application/javascript"
                ]
              ],
              "status": 200,
              "status_text": ""
            }
          },
          "base_uri": "https://localhost:8080/",
          "height": 73
        },
        "id": "oeFOWPsumdp3",
        "outputId": "c90a35cd-feb4-4108-fa8a-e37fae00cd0b"
      },
      "outputs": [
        {
          "output_type": "display_data",
          "data": {
            "text/html": [
              "\n",
              "     <input type=\"file\" id=\"files-386eaf38-e1c7-42d3-883b-f4bd79e94737\" name=\"files[]\" multiple disabled\n",
              "        style=\"border:none\" />\n",
              "     <output id=\"result-386eaf38-e1c7-42d3-883b-f4bd79e94737\">\n",
              "      Upload widget is only available when the cell has been executed in the\n",
              "      current browser session. Please rerun this cell to enable.\n",
              "      </output>\n",
              "      <script src=\"/nbextensions/google.colab/files.js\"></script> "
            ],
            "text/plain": [
              "<IPython.core.display.HTML object>"
            ]
          },
          "metadata": {}
        },
        {
          "output_type": "stream",
          "name": "stdout",
          "text": [
            "Saving data hasil fcbf fix-pheno.csv to data hasil fcbf fix-pheno.csv\n"
          ]
        }
      ],
      "source": [
        "from google.colab import files\n",
        "uploaded=files.upload()"
      ]
    },
    {
      "cell_type": "markdown",
      "source": [
        "INSTALL ALL MODULES&PACKAGES"
      ],
      "metadata": {
        "id": "xJXM0YhhmjRu"
      }
    },
    {
      "cell_type": "code",
      "source": [
        "import pandas as pd\n",
        "from sklearn.metrics import plot_confusion_matrix\n",
        "from sklearn.metrics import plot_precision_recall_curve\n",
        "from sklearn.metrics import plot_roc_curve\n",
        "from sklearn.metrics import precision_recall_fscore_support\n",
        "import numpy as np\n",
        "from collections import Counter\n",
        "import lightgbm as lgb\n",
        "import matplotlib.pyplot as plt\n",
        "import seaborn as sns\n",
        "from sklearn.model_selection import train_test_split\n",
        "from sklearn.preprocessing import StandardScaler\n",
        "from sklearn.ensemble import GradientBoostingClassifier\n",
        "from sklearn.metrics import accuracy_score\n",
        "from sklearn.metrics import make_scorer\n",
        "from sklearn.model_selection import cross_validate\n",
        "from sklearn.metrics import classification_report\n",
        "from sklearn.metrics import confusion_matrix\n",
        "from sklearn.model_selection import GridSearchCV, RandomizedSearchCV, cross_val_score, train_test_split  \n",
        "from sklearn.model_selection import KFold\n",
        "from lightgbm import LGBMClassifier\n",
        "from lightgbm import LGBMModel\n",
        "from lightgbm import LGBMRanker \n",
        "from sklearn.metrics import roc_auc_score\n",
        "from sklearn.preprocessing import LabelEncoder\n",
        "from sklearn.model_selection import GridSearchCV\n",
        "from sklearn.model_selection import ShuffleSplit\n",
        "from sklearn import metrics\n",
        "import sklearn.metrics as metrics\n",
        "from itertools import cycle\n",
        "from sklearn import svm, datasets\n",
        "from sklearn.metrics import roc_curve, auc\n",
        "from sklearn.preprocessing import label_binarize\n",
        "from sklearn.multiclass import OneVsRestClassifier\n",
        "from scipy import interp\n",
        "from numpy import sqrt\n",
        "from numpy import argmax\n",
        "from sklearn.datasets import make_classification\n",
        "from sklearn.linear_model import LogisticRegression\n",
        "from sklearn.metrics import roc_curve\n",
        "from matplotlib import pyplot\n",
        "from imblearn.under_sampling import RandomUnderSampler\n",
        "import warnings\n",
        "warnings.simplefilter(action='ignore', category=FutureWarning)\n",
        "from imblearn.over_sampling import SMOTENC\n",
        "from imblearn.metrics import classification_report_imbalanced\n"
      ],
      "metadata": {
        "id": "7SIo-fxtpISp"
      },
      "execution_count": 2,
      "outputs": []
    },
    {
      "cell_type": "code",
      "source": [
        "from sklearn.metrics import precision_recall_curve"
      ],
      "metadata": {
        "id": "p3wWGdBLrkuX"
      },
      "execution_count": 59,
      "outputs": []
    },
    {
      "cell_type": "markdown",
      "source": [
        "DATASET"
      ],
      "metadata": {
        "id": "SWU0Mi4jpdCV"
      }
    },
    {
      "cell_type": "code",
      "source": [
        "df = pd.read_csv('data hasil fcbf fix-pheno.csv')\n",
        "df.head()\n",
        "df.shape"
      ],
      "metadata": {
        "colab": {
          "base_uri": "https://localhost:8080/"
        },
        "id": "Trf02KswqETV",
        "outputId": "c2e85ddc-9100-4564-9ee9-22253562eb0c"
      },
      "execution_count": 3,
      "outputs": [
        {
          "output_type": "execute_result",
          "data": {
            "text/plain": [
              "(73, 41)"
            ]
          },
          "metadata": {},
          "execution_count": 3
        }
      ]
    },
    {
      "cell_type": "markdown",
      "source": [
        "MENDEFINISIKAN CATEGORICAL FEATURE UNTUK LIGHTGBM"
      ],
      "metadata": {
        "id": "9lofoW6lqKxo"
      }
    },
    {
      "cell_type": "code",
      "source": [
        "cols = [\"ethnic.ch1\",\"m.stage.ch1\",\"Sex.ch1\"]\n",
        "for item in cols:\n",
        "    df[item] = df[item].astype(\"category\").cat.codes +1\n",
        "\n"
      ],
      "metadata": {
        "id": "1RXnzwHiqHs0"
      },
      "execution_count": 4,
      "outputs": []
    },
    {
      "cell_type": "markdown",
      "source": [
        "LABEL ENCODER"
      ],
      "metadata": {
        "id": "RfC6IUwgqbDz"
      }
    },
    {
      "cell_type": "code",
      "source": [
        "labelencoder=LabelEncoder()\n",
        "df['class'] = labelencoder.fit_transform(df['subgroup.ch1'])\n",
        "df[[\"subgroup.ch1\",\"class\"]]\n",
        "\n",
        "#df_y=df[[\"subgroup.ch1\",\"class\"]]\n",
        "#df_y.to_csv('data Y.csv', index=False)\n",
        "#downloaded=files.download('data Y.csv')"
      ],
      "metadata": {
        "colab": {
          "base_uri": "https://localhost:8080/",
          "height": 423
        },
        "id": "HsSb0yRhqaXU",
        "outputId": "6bdd4481-f93b-4673-c8c9-bd96d88b562e"
      },
      "execution_count": 5,
      "outputs": [
        {
          "output_type": "execute_result",
          "data": {
            "text/html": [
              "\n",
              "  <div id=\"df-b95e91e1-6898-432d-a2a2-6034fd254573\">\n",
              "    <div class=\"colab-df-container\">\n",
              "      <div>\n",
              "<style scoped>\n",
              "    .dataframe tbody tr th:only-of-type {\n",
              "        vertical-align: middle;\n",
              "    }\n",
              "\n",
              "    .dataframe tbody tr th {\n",
              "        vertical-align: top;\n",
              "    }\n",
              "\n",
              "    .dataframe thead th {\n",
              "        text-align: right;\n",
              "    }\n",
              "</style>\n",
              "<table border=\"1\" class=\"dataframe\">\n",
              "  <thead>\n",
              "    <tr style=\"text-align: right;\">\n",
              "      <th></th>\n",
              "      <th>subgroup.ch1</th>\n",
              "      <th>class</th>\n",
              "    </tr>\n",
              "  </thead>\n",
              "  <tbody>\n",
              "    <tr>\n",
              "      <th>0</th>\n",
              "      <td>G4</td>\n",
              "      <td>1</td>\n",
              "    </tr>\n",
              "    <tr>\n",
              "      <th>1</th>\n",
              "      <td>G4</td>\n",
              "      <td>1</td>\n",
              "    </tr>\n",
              "    <tr>\n",
              "      <th>2</th>\n",
              "      <td>WNT</td>\n",
              "      <td>3</td>\n",
              "    </tr>\n",
              "    <tr>\n",
              "      <th>3</th>\n",
              "      <td>G4</td>\n",
              "      <td>1</td>\n",
              "    </tr>\n",
              "    <tr>\n",
              "      <th>4</th>\n",
              "      <td>SHH</td>\n",
              "      <td>2</td>\n",
              "    </tr>\n",
              "    <tr>\n",
              "      <th>...</th>\n",
              "      <td>...</td>\n",
              "      <td>...</td>\n",
              "    </tr>\n",
              "    <tr>\n",
              "      <th>68</th>\n",
              "      <td>SHH</td>\n",
              "      <td>2</td>\n",
              "    </tr>\n",
              "    <tr>\n",
              "      <th>69</th>\n",
              "      <td>G4</td>\n",
              "      <td>1</td>\n",
              "    </tr>\n",
              "    <tr>\n",
              "      <th>70</th>\n",
              "      <td>SHH</td>\n",
              "      <td>2</td>\n",
              "    </tr>\n",
              "    <tr>\n",
              "      <th>71</th>\n",
              "      <td>G4</td>\n",
              "      <td>1</td>\n",
              "    </tr>\n",
              "    <tr>\n",
              "      <th>72</th>\n",
              "      <td>G4</td>\n",
              "      <td>1</td>\n",
              "    </tr>\n",
              "  </tbody>\n",
              "</table>\n",
              "<p>73 rows × 2 columns</p>\n",
              "</div>\n",
              "      <button class=\"colab-df-convert\" onclick=\"convertToInteractive('df-b95e91e1-6898-432d-a2a2-6034fd254573')\"\n",
              "              title=\"Convert this dataframe to an interactive table.\"\n",
              "              style=\"display:none;\">\n",
              "        \n",
              "  <svg xmlns=\"http://www.w3.org/2000/svg\" height=\"24px\"viewBox=\"0 0 24 24\"\n",
              "       width=\"24px\">\n",
              "    <path d=\"M0 0h24v24H0V0z\" fill=\"none\"/>\n",
              "    <path d=\"M18.56 5.44l.94 2.06.94-2.06 2.06-.94-2.06-.94-.94-2.06-.94 2.06-2.06.94zm-11 1L8.5 8.5l.94-2.06 2.06-.94-2.06-.94L8.5 2.5l-.94 2.06-2.06.94zm10 10l.94 2.06.94-2.06 2.06-.94-2.06-.94-.94-2.06-.94 2.06-2.06.94z\"/><path d=\"M17.41 7.96l-1.37-1.37c-.4-.4-.92-.59-1.43-.59-.52 0-1.04.2-1.43.59L10.3 9.45l-7.72 7.72c-.78.78-.78 2.05 0 2.83L4 21.41c.39.39.9.59 1.41.59.51 0 1.02-.2 1.41-.59l7.78-7.78 2.81-2.81c.8-.78.8-2.07 0-2.86zM5.41 20L4 18.59l7.72-7.72 1.47 1.35L5.41 20z\"/>\n",
              "  </svg>\n",
              "      </button>\n",
              "      \n",
              "  <style>\n",
              "    .colab-df-container {\n",
              "      display:flex;\n",
              "      flex-wrap:wrap;\n",
              "      gap: 12px;\n",
              "    }\n",
              "\n",
              "    .colab-df-convert {\n",
              "      background-color: #E8F0FE;\n",
              "      border: none;\n",
              "      border-radius: 50%;\n",
              "      cursor: pointer;\n",
              "      display: none;\n",
              "      fill: #1967D2;\n",
              "      height: 32px;\n",
              "      padding: 0 0 0 0;\n",
              "      width: 32px;\n",
              "    }\n",
              "\n",
              "    .colab-df-convert:hover {\n",
              "      background-color: #E2EBFA;\n",
              "      box-shadow: 0px 1px 2px rgba(60, 64, 67, 0.3), 0px 1px 3px 1px rgba(60, 64, 67, 0.15);\n",
              "      fill: #174EA6;\n",
              "    }\n",
              "\n",
              "    [theme=dark] .colab-df-convert {\n",
              "      background-color: #3B4455;\n",
              "      fill: #D2E3FC;\n",
              "    }\n",
              "\n",
              "    [theme=dark] .colab-df-convert:hover {\n",
              "      background-color: #434B5C;\n",
              "      box-shadow: 0px 1px 3px 1px rgba(0, 0, 0, 0.15);\n",
              "      filter: drop-shadow(0px 1px 2px rgba(0, 0, 0, 0.3));\n",
              "      fill: #FFFFFF;\n",
              "    }\n",
              "  </style>\n",
              "\n",
              "      <script>\n",
              "        const buttonEl =\n",
              "          document.querySelector('#df-b95e91e1-6898-432d-a2a2-6034fd254573 button.colab-df-convert');\n",
              "        buttonEl.style.display =\n",
              "          google.colab.kernel.accessAllowed ? 'block' : 'none';\n",
              "\n",
              "        async function convertToInteractive(key) {\n",
              "          const element = document.querySelector('#df-b95e91e1-6898-432d-a2a2-6034fd254573');\n",
              "          const dataTable =\n",
              "            await google.colab.kernel.invokeFunction('convertToInteractive',\n",
              "                                                     [key], {});\n",
              "          if (!dataTable) return;\n",
              "\n",
              "          const docLinkHtml = 'Like what you see? Visit the ' +\n",
              "            '<a target=\"_blank\" href=https://colab.research.google.com/notebooks/data_table.ipynb>data table notebook</a>'\n",
              "            + ' to learn more about interactive tables.';\n",
              "          element.innerHTML = '';\n",
              "          dataTable['output_type'] = 'display_data';\n",
              "          await google.colab.output.renderOutput(dataTable, element);\n",
              "          const docLink = document.createElement('div');\n",
              "          docLink.innerHTML = docLinkHtml;\n",
              "          element.appendChild(docLink);\n",
              "        }\n",
              "      </script>\n",
              "    </div>\n",
              "  </div>\n",
              "  "
            ],
            "text/plain": [
              "   subgroup.ch1  class\n",
              "0            G4      1\n",
              "1            G4      1\n",
              "2           WNT      3\n",
              "3            G4      1\n",
              "4           SHH      2\n",
              "..          ...    ...\n",
              "68          SHH      2\n",
              "69           G4      1\n",
              "70          SHH      2\n",
              "71           G4      1\n",
              "72           G4      1\n",
              "\n",
              "[73 rows x 2 columns]"
            ]
          },
          "metadata": {},
          "execution_count": 5
        }
      ]
    },
    {
      "cell_type": "markdown",
      "source": [
        "FEATURE&CLASS"
      ],
      "metadata": {
        "id": "JViFbZ9xquFu"
      }
    },
    {
      "cell_type": "code",
      "source": [
        "sns.displot(df, x=\"subgroup.ch1\")\n",
        "X = df.drop(['subgroup.ch1','class'], axis=1)\n",
        "Y = df['class']\n",
        "Y.shape"
      ],
      "metadata": {
        "colab": {
          "base_uri": "https://localhost:8080/",
          "height": 387
        },
        "id": "GFcGSU7Lq4XT",
        "outputId": "3491b69a-53e9-43a9-aed0-3194a1e8ef9b"
      },
      "execution_count": 6,
      "outputs": [
        {
          "output_type": "execute_result",
          "data": {
            "text/plain": [
              "(73,)"
            ]
          },
          "metadata": {},
          "execution_count": 6
        },
        {
          "output_type": "display_data",
          "data": {
            "image/png": "[encoded data removed]",
            "text/plain": [
              "<Figure size 360x360 with 1 Axes>"
            ]
          },
          "metadata": {
            "needs_background": "light"
          }
        }
      ]
    },
    {
      "cell_type": "markdown",
      "source": [
        "TRAINING-TESTING (70-30%)"
      ],
      "metadata": {
        "id": "D4ql2sQ4rT4q"
      }
    },
    {
      "cell_type": "code",
      "source": [
        "X_train, X_test, y_train, y_test = train_test_split(X, Y, test_size=0.3, random_state=24)\n",
        "print(X_train.shape)\n",
        "print(X_test.shape)\n",
        "print(y_test.shape)\n",
        "print(y_train.shape)\n",
        "print('Train size :',X_train.shape, y_train.shape)\n",
        "print('Test size  :', X_test.shape, y_test.shape)"
      ],
      "metadata": {
        "colab": {
          "base_uri": "https://localhost:8080/"
        },
        "id": "AHiLtxixrBar",
        "outputId": "e6e47d00-8857-4ca7-9e17-65684dbe1585"
      },
      "execution_count": 7,
      "outputs": [
        {
          "output_type": "stream",
          "name": "stdout",
          "text": [
            "(51, 40)\n",
            "(22, 40)\n",
            "(22,)\n",
            "(51,)\n",
            "Train size : (51, 40) (51,)\n",
            "Test size  : (22, 40) (22,)\n"
          ]
        }
      ]
    },
    {
      "cell_type": "markdown",
      "source": [
        "MELIHAT JUMLAH MASING-MASING KELAS"
      ],
      "metadata": {
        "id": "PnnsE5jTr9pI"
      }
    },
    {
      "cell_type": "code",
      "source": [
        "y_train_ = pd.DataFrame(data=y_train,columns=['class'])\n",
        "sns.displot(y_train_, x=\"class\")"
      ],
      "metadata": {
        "colab": {
          "base_uri": "https://localhost:8080/",
          "height": 387
        },
        "id": "J5csNffjsCy4",
        "outputId": "0d9b5e7f-ea8f-4d7f-8486-7e2e6ee029f4"
      },
      "execution_count": 8,
      "outputs": [
        {
          "output_type": "execute_result",
          "data": {
            "text/plain": [
              "<seaborn.axisgrid.FacetGrid at 0x7f745ed2e3d0>"
            ]
          },
          "metadata": {},
          "execution_count": 8
        },
        {
          "output_type": "display_data",
          "data": {
            "image/png": "[encoded data removed]",
            "text/plain": [
              "<Figure size 360x360 with 1 Axes>"
            ]
          },
          "metadata": {
            "needs_background": "light"
          }
        }
      ]
    },
    {
      "cell_type": "markdown",
      "source": [
        "MODEL LIGHTGBM TANPA RESAMPLING"
      ],
      "metadata": {
        "id": "7jx30BNmsH9y"
      }
    },
    {
      "cell_type": "code",
      "source": [
        "param_dict = {\n",
        "    'num_leaves': [4, 8, 12, 20],\n",
        "    'max_depth': [1,2,3,4,5,6,7,8],\n",
        "    'learning_rate':[0.1,0.3,0.5,0.7,0.9]\n",
        "    }\n",
        "\n",
        "\n",
        "clf = lgb.LGBMClassifier(boosting_type='gbdt', objective='multiclass',\n",
        "                         colsample_bytree=1.0, n_estimators=100,\n",
        "                         num_class=4, metric='multi_logloss')\n",
        "\n",
        "gs=GridSearchCV(clf, param_dict, scoring='accuracy', verbose=1,cv=5, n_jobs=1)\n",
        "gs.fit(X_train,y_train)\n",
        "gs.best_params_\n",
        "gs.best_score_\n",
        "gs.best_estimator_"
      ],
      "metadata": {
        "colab": {
          "base_uri": "https://localhost:8080/"
        },
        "id": "eZCYSrR8sXbZ",
        "outputId": "24c92af0-84e8-4808-96c0-ed83c5d83980"
      },
      "execution_count": 9,
      "outputs": [
        {
          "output_type": "stream",
          "name": "stdout",
          "text": [
            "Fitting 5 folds for each of 160 candidates, totalling 800 fits\n"
          ]
        },
        {
          "output_type": "execute_result",
          "data": {
            "text/plain": [
              "LGBMClassifier(max_depth=1, metric='multi_logloss', num_class=4, num_leaves=4,\n",
              "               objective='multiclass')"
            ]
          },
          "metadata": {},
          "execution_count": 9
        }
      ]
    },
    {
      "cell_type": "markdown",
      "source": [
        "HASIL ORIGINAL TANPA RESAMPLING"
      ],
      "metadata": {
        "id": "YAzLTTvIsaD4"
      }
    },
    {
      "cell_type": "code",
      "source": [
        "predict_grid = gs.predict(X_test)\n",
        "print(\"nilai f-1 score       : %0.3f\"% metrics.f1_score(y_test, predict_grid, average='macro'))\n",
        "print(\"nilai akurasi         : %0.3f\"% metrics.accuracy_score(y_test, predict_grid))\n",
        "\n",
        "print('Original Results:',classification_report(y_test, predict_grid))\n",
        "print(confusion_matrix(y_test, predict_grid))\n",
        "print('Akurasi original test = ', accuracy_score(y_test, predict_grid))\n"
      ],
      "metadata": {
        "colab": {
          "base_uri": "https://localhost:8080/"
        },
        "id": "aBt3nHy8szBw",
        "outputId": "4843bc74-7183-461b-e574-115b21f96fe9"
      },
      "execution_count": 10,
      "outputs": [
        {
          "output_type": "stream",
          "name": "stdout",
          "text": [
            "nilai f-1 score       : 0.966\n",
            "nilai akurasi         : 0.955\n",
            "Original Results:               precision    recall  f1-score   support\n",
            "\n",
            "           0       0.86      1.00      0.92         6\n",
            "           1       1.00      0.89      0.94         9\n",
            "           2       1.00      1.00      1.00         4\n",
            "           3       1.00      1.00      1.00         3\n",
            "\n",
            "    accuracy                           0.95        22\n",
            "   macro avg       0.96      0.97      0.97        22\n",
            "weighted avg       0.96      0.95      0.95        22\n",
            "\n",
            "[[6 0 0 0]\n",
            " [1 8 0 0]\n",
            " [0 0 4 0]\n",
            " [0 0 0 3]]\n",
            "Akurasi original test =  0.9545454545454546\n"
          ]
        }
      ]
    },
    {
      "cell_type": "code",
      "source": [
        "print(predict_grid)"
      ],
      "metadata": {
        "colab": {
          "base_uri": "https://localhost:8080/"
        },
        "id": "owzgthisiQSw",
        "outputId": "7978914e-a7e5-424f-d8cb-32e9682fd65a"
      },
      "execution_count": 11,
      "outputs": [
        {
          "output_type": "stream",
          "name": "stdout",
          "text": [
            "[1 0 3 2 2 3 1 0 0 0 2 0 1 1 1 3 0 0 1 1 2 1]\n"
          ]
        }
      ]
    },
    {
      "cell_type": "markdown",
      "source": [
        "CONFUSSION MATRIX ORIGINAL "
      ],
      "metadata": {
        "id": "1_vF5zNDtIpQ"
      }
    },
    {
      "cell_type": "code",
      "source": [
        "classes =[]\n",
        "labeles=np.unique(y_train)\n",
        "for v in labeles:\n",
        "    classes.append('Class '+ str(v))\n",
        "print(classes)\n",
        "classes\n",
        "\n",
        "cnf_matrix = confusion_matrix(y_test, predict_grid, labels=labeles)\n",
        "cnf_matrix\n",
        "\n",
        "f = sns.heatmap(cnf_matrix, annot=True)"
      ],
      "metadata": {
        "colab": {
          "base_uri": "https://localhost:8080/",
          "height": 287
        },
        "id": "qgm3hdUCtTi_",
        "outputId": "7f3a7612-ed25-4c12-acad-c53eae342de3"
      },
      "execution_count": 12,
      "outputs": [
        {
          "output_type": "stream",
          "name": "stdout",
          "text": [
            "['Class 0', 'Class 1', 'Class 2', 'Class 3']\n"
          ]
        },
        {
          "output_type": "display_data",
          "data": {
            "image/png": "[encoded data removed]",
            "text/plain": [
              "<Figure size 432x288 with 2 Axes>"
            ]
          },
          "metadata": {
            "needs_background": "light"
          }
        }
      ]
    },
    {
      "cell_type": "markdown",
      "source": [
        "****LGB TRAIN ORIGINAL **********************************"
      ],
      "metadata": {
        "id": "nXsSvegatbhl"
      }
    },
    {
      "cell_type": "markdown",
      "source": [
        "DATASET&CATEGORICAL FEATURE"
      ],
      "metadata": {
        "id": "yH_uqqL4tpJN"
      }
    },
    {
      "cell_type": "code",
      "source": [
        "lgb_train = lgb.Dataset(X_train, label= y_train)\n",
        "lgb_test = lgb.Dataset(X_test, y_test)\n",
        "cate_features_name = [\"ethnic.ch1\",\"m.stage.ch1\",\"Sex.ch1\"]"
      ],
      "metadata": {
        "id": "Y6Hf0AjjtiKu"
      },
      "execution_count": 13,
      "outputs": []
    },
    {
      "cell_type": "markdown",
      "source": [
        "TRAINING MODEL"
      ],
      "metadata": {
        "id": "gdaX3bE0txhm"
      }
    },
    {
      "cell_type": "code",
      "source": [
        "param = {\n",
        "'boosting_type': 'gbdt',\n",
        "'objective': 'multiclass',\n",
        "'metric': 'multi_logloss',\n",
        "'num_class':4,\n",
        "'max_depth':1,\n",
        "'num_leaves':4,\n",
        "'learning_rate':0.1\n",
        "}\n",
        "\n",
        "gbm = lgb.train(\n",
        "param,\n",
        "lgb_train,\n",
        "categorical_feature = cate_features_name,\n",
        "num_boost_round=100,\n",
        "valid_sets=[lgb_train, lgb_test],\n",
        "early_stopping_rounds=10\n",
        ")\n",
        "\n",
        "gbm.best_iteration\n",
        "gbm.best_score\n"
      ],
      "metadata": {
        "colab": {
          "base_uri": "https://localhost:8080/"
        },
        "id": "o8tL6O84tzl1",
        "outputId": "ba355b62-f050-4487-fbdc-740f84861802"
      },
      "execution_count": 14,
      "outputs": [
        {
          "output_type": "stream",
          "name": "stdout",
          "text": [
            "[1]\ttraining's multi_logloss: 1.03921\tvalid_1's multi_logloss: 1.28661\n",
            "Training until validation scores don't improve for 10 rounds.\n",
            "[2]\ttraining's multi_logloss: 0.972346\tvalid_1's multi_logloss: 1.22007\n",
            "[3]\ttraining's multi_logloss: 0.911803\tvalid_1's multi_logloss: 1.15934\n",
            "[4]\ttraining's multi_logloss: 0.85578\tvalid_1's multi_logloss: 1.10015\n",
            "[5]\ttraining's multi_logloss: 0.804159\tvalid_1's multi_logloss: 1.04521\n",
            "[6]\ttraining's multi_logloss: 0.757026\tvalid_1's multi_logloss: 1.00042\n",
            "[7]\ttraining's multi_logloss: 0.712879\tvalid_1's multi_logloss: 0.946324\n",
            "[8]\ttraining's multi_logloss: 0.671325\tvalid_1's multi_logloss: 0.898597\n",
            "[9]\ttraining's multi_logloss: 0.633029\tvalid_1's multi_logloss: 0.858381\n",
            "[10]\ttraining's multi_logloss: 0.596795\tvalid_1's multi_logloss: 0.812015\n",
            "[11]\ttraining's multi_logloss: 0.563122\tvalid_1's multi_logloss: 0.779697\n",
            "[12]\ttraining's multi_logloss: 0.531594\tvalid_1's multi_logloss: 0.739934\n",
            "[13]\ttraining's multi_logloss: 0.502047\tvalid_1's multi_logloss: 0.703707\n",
            "[14]\ttraining's multi_logloss: 0.474066\tvalid_1's multi_logloss: 0.671951\n",
            "[15]\ttraining's multi_logloss: 0.448069\tvalid_1's multi_logloss: 0.637611\n",
            "[16]\ttraining's multi_logloss: 0.423527\tvalid_1's multi_logloss: 0.611866\n",
            "[17]\ttraining's multi_logloss: 0.400599\tvalid_1's multi_logloss: 0.581662\n",
            "[18]\ttraining's multi_logloss: 0.379001\tvalid_1's multi_logloss: 0.560419\n",
            "[19]\ttraining's multi_logloss: 0.3588\tvalid_1's multi_logloss: 0.539532\n",
            "[20]\ttraining's multi_logloss: 0.339741\tvalid_1's multi_logloss: 0.517232\n",
            "[21]\ttraining's multi_logloss: 0.321727\tvalid_1's multi_logloss: 0.492256\n",
            "[22]\ttraining's multi_logloss: 0.30481\tvalid_1's multi_logloss: 0.471966\n",
            "[23]\ttraining's multi_logloss: 0.288808\tvalid_1's multi_logloss: 0.455163\n",
            "[24]\ttraining's multi_logloss: 0.273835\tvalid_1's multi_logloss: 0.435568\n",
            "[25]\ttraining's multi_logloss: 0.259686\tvalid_1's multi_logloss: 0.422778\n",
            "[26]\ttraining's multi_logloss: 0.24626\tvalid_1's multi_logloss: 0.40534\n",
            "[27]\ttraining's multi_logloss: 0.233634\tvalid_1's multi_logloss: 0.387832\n",
            "[28]\ttraining's multi_logloss: 0.221646\tvalid_1's multi_logloss: 0.375644\n",
            "[29]\ttraining's multi_logloss: 0.210396\tvalid_1's multi_logloss: 0.364041\n",
            "[30]\ttraining's multi_logloss: 0.199784\tvalid_1's multi_logloss: 0.349612\n",
            "[31]\ttraining's multi_logloss: 0.189663\tvalid_1's multi_logloss: 0.341497\n",
            "[32]\ttraining's multi_logloss: 0.180119\tvalid_1's multi_logloss: 0.329828\n",
            "[33]\ttraining's multi_logloss: 0.171097\tvalid_1's multi_logloss: 0.31751\n",
            "[34]\ttraining's multi_logloss: 0.162597\tvalid_1's multi_logloss: 0.307882\n",
            "[35]\ttraining's multi_logloss: 0.154522\tvalid_1's multi_logloss: 0.301477\n",
            "[36]\ttraining's multi_logloss: 0.146835\tvalid_1's multi_logloss: 0.289389\n",
            "[37]\ttraining's multi_logloss: 0.139625\tvalid_1's multi_logloss: 0.284594\n",
            "[38]\ttraining's multi_logloss: 0.132736\tvalid_1's multi_logloss: 0.277704\n",
            "[39]\ttraining's multi_logloss: 0.126235\tvalid_1's multi_logloss: 0.27067\n",
            "[40]\ttraining's multi_logloss: 0.120061\tvalid_1's multi_logloss: 0.262166\n",
            "[41]\ttraining's multi_logloss: 0.114217\tvalid_1's multi_logloss: 0.251834\n",
            "[42]\ttraining's multi_logloss: 0.1087\tvalid_1's multi_logloss: 0.244508\n",
            "[43]\ttraining's multi_logloss: 0.103399\tvalid_1's multi_logloss: 0.238194\n",
            "[44]\ttraining's multi_logloss: 0.098398\tvalid_1's multi_logloss: 0.232988\n",
            "[45]\ttraining's multi_logloss: 0.0936446\tvalid_1's multi_logloss: 0.222783\n",
            "[46]\ttraining's multi_logloss: 0.0891357\tvalid_1's multi_logloss: 0.218985\n",
            "[47]\ttraining's multi_logloss: 0.0848896\tvalid_1's multi_logloss: 0.211428\n",
            "[48]\ttraining's multi_logloss: 0.0808477\tvalid_1's multi_logloss: 0.208209\n",
            "[49]\ttraining's multi_logloss: 0.0769814\tvalid_1's multi_logloss: 0.204822\n",
            "[50]\ttraining's multi_logloss: 0.0733248\tvalid_1's multi_logloss: 0.203171\n",
            "[51]\ttraining's multi_logloss: 0.0698338\tvalid_1's multi_logloss: 0.194425\n",
            "[52]\ttraining's multi_logloss: 0.066525\tvalid_1's multi_logloss: 0.187188\n",
            "[53]\ttraining's multi_logloss: 0.0633926\tvalid_1's multi_logloss: 0.185296\n",
            "[54]\ttraining's multi_logloss: 0.0603922\tvalid_1's multi_logloss: 0.180798\n",
            "[55]\ttraining's multi_logloss: 0.0575418\tvalid_1's multi_logloss: 0.176947\n",
            "[56]\ttraining's multi_logloss: 0.0548527\tvalid_1's multi_logloss: 0.173444\n",
            "[57]\ttraining's multi_logloss: 0.0522933\tvalid_1's multi_logloss: 0.169166\n",
            "[58]\ttraining's multi_logloss: 0.0498416\tvalid_1's multi_logloss: 0.166213\n",
            "[59]\ttraining's multi_logloss: 0.0475007\tvalid_1's multi_logloss: 0.163566\n",
            "[60]\ttraining's multi_logloss: 0.0453109\tvalid_1's multi_logloss: 0.158983\n",
            "[61]\ttraining's multi_logloss: 0.0432108\tvalid_1's multi_logloss: 0.158128\n",
            "[62]\ttraining's multi_logloss: 0.0411983\tvalid_1's multi_logloss: 0.154488\n",
            "[63]\ttraining's multi_logloss: 0.0392796\tvalid_1's multi_logloss: 0.151934\n",
            "[64]\ttraining's multi_logloss: 0.0374774\tvalid_1's multi_logloss: 0.149342\n",
            "[65]\ttraining's multi_logloss: 0.0357495\tvalid_1's multi_logloss: 0.143573\n",
            "[66]\ttraining's multi_logloss: 0.0341017\tvalid_1's multi_logloss: 0.143016\n",
            "[67]\ttraining's multi_logloss: 0.0325418\tvalid_1's multi_logloss: 0.137226\n",
            "[68]\ttraining's multi_logloss: 0.031049\tvalid_1's multi_logloss: 0.13696\n",
            "[69]\ttraining's multi_logloss: 0.0296257\tvalid_1's multi_logloss: 0.135064\n",
            "[70]\ttraining's multi_logloss: 0.0282579\tvalid_1's multi_logloss: 0.134771\n",
            "[71]\ttraining's multi_logloss: 0.0269827\tvalid_1's multi_logloss: 0.132469\n",
            "[72]\ttraining's multi_logloss: 0.0257495\tvalid_1's multi_logloss: 0.129707\n",
            "[73]\ttraining's multi_logloss: 0.0245812\tvalid_1's multi_logloss: 0.128543\n",
            "[74]\ttraining's multi_logloss: 0.0234621\tvalid_1's multi_logloss: 0.126369\n",
            "[75]\ttraining's multi_logloss: 0.0223982\tvalid_1's multi_logloss: 0.124864\n",
            "[76]\ttraining's multi_logloss: 0.0213795\tvalid_1's multi_logloss: 0.120695\n",
            "[77]\ttraining's multi_logloss: 0.02042\tvalid_1's multi_logloss: 0.115181\n",
            "[78]\ttraining's multi_logloss: 0.0194996\tvalid_1's multi_logloss: 0.115033\n",
            "[79]\ttraining's multi_logloss: 0.0186211\tvalid_1's multi_logloss: 0.112839\n",
            "[80]\ttraining's multi_logloss: 0.0177814\tvalid_1's multi_logloss: 0.113098\n",
            "[81]\ttraining's multi_logloss: 0.0169779\tvalid_1's multi_logloss: 0.110478\n",
            "[82]\ttraining's multi_logloss: 0.0162224\tvalid_1's multi_logloss: 0.109148\n",
            "[83]\ttraining's multi_logloss: 0.0154936\tvalid_1's multi_logloss: 0.109856\n",
            "[84]\ttraining's multi_logloss: 0.0148028\tvalid_1's multi_logloss: 0.108036\n",
            "[85]\ttraining's multi_logloss: 0.0141399\tvalid_1's multi_logloss: 0.106231\n",
            "[86]\ttraining's multi_logloss: 0.0135067\tvalid_1's multi_logloss: 0.106242\n",
            "[87]\ttraining's multi_logloss: 0.0129097\tvalid_1's multi_logloss: 0.101659\n",
            "[88]\ttraining's multi_logloss: 0.012333\tvalid_1's multi_logloss: 0.101972\n",
            "[89]\ttraining's multi_logloss: 0.011785\tvalid_1's multi_logloss: 0.0996237\n",
            "[90]\ttraining's multi_logloss: 0.0112622\tvalid_1's multi_logloss: 0.100172\n",
            "[91]\ttraining's multi_logloss: 0.0107611\tvalid_1's multi_logloss: 0.0989515\n",
            "[92]\ttraining's multi_logloss: 0.0102833\tvalid_1's multi_logloss: 0.0993005\n",
            "[93]\ttraining's multi_logloss: 0.00983204\tvalid_1's multi_logloss: 0.099912\n",
            "[94]\ttraining's multi_logloss: 0.00939645\tvalid_1's multi_logloss: 0.0982115\n",
            "[95]\ttraining's multi_logloss: 0.0089826\tvalid_1's multi_logloss: 0.0990129\n",
            "[96]\ttraining's multi_logloss: 0.00858983\tvalid_1's multi_logloss: 0.0963811\n",
            "[97]\ttraining's multi_logloss: 0.0082106\tvalid_1's multi_logloss: 0.0941365\n",
            "[98]\ttraining's multi_logloss: 0.00785009\tvalid_1's multi_logloss: 0.0893562\n",
            "[99]\ttraining's multi_logloss: 0.00750758\tvalid_1's multi_logloss: 0.0872184\n",
            "[100]\ttraining's multi_logloss: 0.0071783\tvalid_1's multi_logloss: 0.0883564\n",
            "Did not meet early stopping. Best iteration is:\n",
            "[100]\ttraining's multi_logloss: 0.0071783\tvalid_1's multi_logloss: 0.0883564\n"
          ]
        },
        {
          "output_type": "stream",
          "name": "stderr",
          "text": [
            "/usr/local/lib/python3.7/dist-packages/lightgbm/basic.py:1209: UserWarning: categorical_feature in Dataset is overridden.\n",
            "New categorical_feature is ['Sex.ch1', 'ethnic.ch1', 'm.stage.ch1']\n",
            "  'New categorical_feature is {}'.format(sorted(list(categorical_feature))))\n",
            "/usr/local/lib/python3.7/dist-packages/lightgbm/basic.py:762: UserWarning: categorical_feature in param dict is overridden.\n",
            "  warnings.warn('categorical_feature in param dict is overridden.')\n"
          ]
        },
        {
          "output_type": "execute_result",
          "data": {
            "text/plain": [
              "defaultdict(dict,\n",
              "            {'training': {'multi_logloss': 0.0071783031681948},\n",
              "             'valid_1': {'multi_logloss': 0.08835638082245029}})"
            ]
          },
          "metadata": {},
          "execution_count": 14
        }
      ]
    },
    {
      "cell_type": "markdown",
      "source": [
        "HASIL PREDIKSI KELAS"
      ],
      "metadata": {
        "id": "xECCIpDgt-LJ"
      }
    },
    {
      "cell_type": "code",
      "source": [
        "predict_gbm=gbm.predict(X_test)\n",
        "predict_gbm\n",
        "\n",
        "#argmax() method\n",
        "y_pred_1 = [np.argmax(line) for line in predict_gbm]\n",
        "y_pred_1\n",
        "\n",
        "accuracy_score(y_test, y_pred_1)\n",
        "\n",
        "cnf_matrix=confusion_matrix(y_test, y_pred_1)\n",
        "cnf_matrix\n",
        "\n",
        "cnf_matrix = confusion_matrix(y_test, y_pred_1, labels=labeles)\n",
        "\n",
        "f = sns.heatmap(cnf_matrix, annot=True)\n",
        "\n",
        "print(classification_report(y_test, y_pred_1))"
      ],
      "metadata": {
        "colab": {
          "base_uri": "https://localhost:8080/",
          "height": 460
        },
        "id": "FQegmYnJh1F3",
        "outputId": "d579cdc3-5e70-4fe8-82eb-38fc80ef288f"
      },
      "execution_count": 15,
      "outputs": [
        {
          "output_type": "stream",
          "name": "stdout",
          "text": [
            "              precision    recall  f1-score   support\n",
            "\n",
            "           0       0.86      1.00      0.92         6\n",
            "           1       1.00      0.89      0.94         9\n",
            "           2       1.00      1.00      1.00         4\n",
            "           3       1.00      1.00      1.00         3\n",
            "\n",
            "    accuracy                           0.95        22\n",
            "   macro avg       0.96      0.97      0.97        22\n",
            "weighted avg       0.96      0.95      0.95        22\n",
            "\n"
          ]
        },
        {
          "output_type": "display_data",
          "data": {
            "image/png": "[encoded data removed]",
            "text/plain": [
              "<Figure size 432x288 with 2 Axes>"
            ]
          },
          "metadata": {
            "needs_background": "light"
          }
        }
      ]
    },
    {
      "cell_type": "markdown",
      "source": [
        "FEATURE IMPORTANT HASIL KLASIFIKASI ORIGINAL LIGHTGBM!!!!!!!!!!!!!!!!!"
      ],
      "metadata": {
        "id": "kQ3UHq5miGNl"
      }
    },
    {
      "cell_type": "code",
      "source": [
        "lgb.plot_importance(gbm)\n",
        "lgb.plot_tree(gbm)"
      ],
      "metadata": {
        "colab": {
          "base_uri": "https://localhost:8080/",
          "height": 415
        },
        "id": "yIwxLdk4iN2V",
        "outputId": "af3e4462-620b-4d50-9f94-40c1fc2ea7d3"
      },
      "execution_count": 16,
      "outputs": [
        {
          "output_type": "execute_result",
          "data": {
            "text/plain": [
              "<matplotlib.axes._subplots.AxesSubplot at 0x7f745e00eed0>"
            ]
          },
          "metadata": {},
          "execution_count": 16
        },
        {
          "output_type": "display_data",
          "data": {
            "image/png": "[encoded data removed]",
            "text/plain": [
              "<Figure size 432x288 with 1 Axes>"
            ]
          },
          "metadata": {
            "needs_background": "light"
          }
        },
        {
          "output_type": "display_data",
          "data": {
            "image/png": "[encoded data removed]",
            "text/plain": [
              "<Figure size 432x288 with 1 Axes>"
            ]
          },
          "metadata": {
            "needs_background": "light"
          }
        }
      ]
    },
    {
      "cell_type": "markdown",
      "source": [
        "**ROC-AUC ORIGINAL**"
      ],
      "metadata": {
        "id": "i99UfNNPiSze"
      }
    },
    {
      "cell_type": "code",
      "source": [
        "clf = lgb.LGBMClassifier(boosting_type='gbdt', objective='multiclass',\n",
        "                         colsample_bytree=1.0, n_estimators=100,\n",
        "                         num_class=4, metric='multi_logloss', learning_rate = 0.1, max_depth = 1, num_leaves = 4)"
      ],
      "metadata": {
        "id": "jD7qJ2xvj0GB"
      },
      "execution_count": 17,
      "outputs": []
    },
    {
      "cell_type": "code",
      "source": [
        "clff=OneVsRestClassifier(clf)\n",
        "y_proba=clff.fit(X_train, y_train).predict_proba(X_test)\n",
        "y_proba"
      ],
      "metadata": {
        "colab": {
          "base_uri": "https://localhost:8080/"
        },
        "id": "hQQKF-b6guzE",
        "outputId": "c869ee86-4c59-4bc7-a56d-4001b2d2fdc8"
      },
      "execution_count": 18,
      "outputs": [
        {
          "output_type": "execute_result",
          "data": {
            "text/plain": [
              "array([[0.64123076, 0.19416167, 0.02160707, 0.14300051],\n",
              "       [0.22173891, 0.25403356, 0.26649828, 0.25772926],\n",
              "       [0.25      , 0.25      , 0.25      , 0.25      ],\n",
              "       [0.25      , 0.25      , 0.25      , 0.25      ]])"
            ]
          },
          "metadata": {},
          "execution_count": 18
        }
      ]
    },
    {
      "cell_type": "markdown",
      "source": [
        "HASIL PROBS"
      ],
      "metadata": {
        "id": "mxvZWrx6kOXK"
      }
    },
    {
      "cell_type": "code",
      "source": [
        "y_prob = clf.fit(X_train, y_train).predict_proba(X_test)\n",
        "ybin = label_binarize(y_test, classes=[0, 1, 2, 3])\n",
        "n_classes = ybin.shape[1]\n",
        "CLASS_NAMES = [ 'Group 3', 'Group 4', 'SHH', 'WNT']\n",
        "NUM_CLASSES = len(CLASS_NAMES)\n"
      ],
      "metadata": {
        "id": "zG1cWc48jp_A"
      },
      "execution_count": 19,
      "outputs": []
    },
    {
      "cell_type": "code",
      "source": [
        "print(y_prob)"
      ],
      "metadata": {
        "colab": {
          "base_uri": "https://localhost:8080/"
        },
        "id": "FwqYTMELfcEU",
        "outputId": "637192b6-bbc2-4748-8388-8b5e5a2ccc68"
      },
      "execution_count": 20,
      "outputs": [
        {
          "output_type": "stream",
          "name": "stdout",
          "text": [
            "[[1.01731306e-02 9.89510738e-01 2.15775425e-04 1.00356069e-04]\n",
            " [5.18922228e-01 3.77303047e-01 5.67048806e-02 4.70698447e-02]\n",
            " [4.49926231e-03 2.94746455e-01 9.70620566e-04 6.99783663e-01]\n",
            " [5.14424810e-04 1.38774933e-02 9.84552199e-01 1.05588320e-03]\n",
            " [9.53200758e-03 6.40182057e-03 9.82463481e-01 1.60269069e-03]\n",
            " [6.99991832e-04 4.26885226e-03 1.64495822e-03 9.93386198e-01]\n",
            " [2.41695271e-04 9.96873988e-01 2.31549623e-03 5.68820752e-04]\n",
            " [9.94058128e-01 3.88083999e-03 5.83234881e-04 1.47779713e-03]\n",
            " [9.63025172e-01 2.70648229e-02 6.55025930e-03 3.35974582e-03]\n",
            " [9.89370306e-01 9.25141594e-03 1.12530383e-03 2.52973770e-04]\n",
            " [5.00908608e-02 3.51962364e-02 8.88835082e-01 2.58778209e-02]\n",
            " [9.85975769e-01 8.51613610e-03 4.59698938e-03 9.11105840e-04]\n",
            " [4.82347476e-04 9.96695800e-01 1.45630193e-03 1.36555084e-03]\n",
            " [4.24620638e-05 9.98897343e-01 1.58723040e-04 9.01471833e-04]\n",
            " [3.99866283e-04 9.93724160e-01 1.45726047e-04 5.73024725e-03]\n",
            " [7.82452751e-03 4.23691438e-03 1.98448699e-03 9.85954071e-01]\n",
            " [9.88253114e-01 8.10434198e-03 7.92359282e-04 2.85018439e-03]\n",
            " [9.88864113e-01 8.54108350e-03 1.12472809e-03 1.47007555e-03]\n",
            " [1.73450652e-01 7.45052423e-01 8.07695113e-02 7.27414007e-04]\n",
            " [3.42485560e-05 9.99285480e-01 3.67203413e-04 3.13067780e-04]\n",
            " [4.72896339e-04 2.48585286e-02 9.73403694e-01 1.26488108e-03]\n",
            " [2.27507785e-03 9.97554731e-01 1.49238378e-04 2.09526002e-05]]\n"
          ]
        }
      ]
    },
    {
      "cell_type": "code",
      "source": [
        "ybin"
      ],
      "metadata": {
        "colab": {
          "base_uri": "https://localhost:8080/"
        },
        "id": "4-0kHnWcfiFU",
        "outputId": "d605598f-8b03-46d6-9924-7ad0a283a570"
      },
      "execution_count": 21,
      "outputs": [
        {
          "output_type": "execute_result",
          "data": {
            "text/plain": [
              "array([[0, 1, 0, 0],\n",
              "       [0, 1, 0, 0],\n",
              "       [0, 0, 0, 1],\n",
              "       [0, 0, 1, 0],\n",
              "       [0, 0, 1, 0],\n",
              "       [0, 0, 0, 1],\n",
              "       [0, 1, 0, 0],\n",
              "       [1, 0, 0, 0],\n",
              "       [1, 0, 0, 0],\n",
              "       [1, 0, 0, 0],\n",
              "       [0, 0, 1, 0],\n",
              "       [1, 0, 0, 0],\n",
              "       [0, 1, 0, 0],\n",
              "       [0, 1, 0, 0],\n",
              "       [0, 1, 0, 0],\n",
              "       [0, 0, 0, 1],\n",
              "       [1, 0, 0, 0],\n",
              "       [1, 0, 0, 0],\n",
              "       [0, 1, 0, 0],\n",
              "       [0, 1, 0, 0],\n",
              "       [0, 0, 1, 0],\n",
              "       [0, 1, 0, 0]])"
            ]
          },
          "metadata": {},
          "execution_count": 21
        }
      ]
    },
    {
      "cell_type": "markdown",
      "source": [
        "MULTICLASSOVA"
      ],
      "metadata": {
        "id": "C26SLB9Cjomc"
      }
    },
    {
      "cell_type": "code",
      "source": [
        "clf2 = lgb.LGBMClassifier(boosting_type='gbdt', objective='multiclassova',\n",
        "                         colsample_bytree=1.0, n_estimators=100,\n",
        "                         num_class=4, metric='multi_logloss', learning_rate = 0.1, max_depth = 1, num_leaves = 4)"
      ],
      "metadata": {
        "id": "k6IPs6mijq0d"
      },
      "execution_count": 22,
      "outputs": []
    },
    {
      "cell_type": "code",
      "source": [
        "y_pred = clf2.fit(X_train, y_train).predict(X_test)\n",
        "y_pred"
      ],
      "metadata": {
        "colab": {
          "base_uri": "https://localhost:8080/"
        },
        "id": "sw7Ilzggj4Rm",
        "outputId": "d524cc21-ad8a-4e40-d26d-78b8be25f506"
      },
      "execution_count": 23,
      "outputs": [
        {
          "output_type": "execute_result",
          "data": {
            "text/plain": [
              "array([1, 0, 3, 2, 2, 3, 1, 0, 0, 0, 2, 0, 1, 1, 1, 3, 0, 0, 1, 1, 2, 1])"
            ]
          },
          "metadata": {},
          "execution_count": 23
        }
      ]
    },
    {
      "cell_type": "code",
      "source": [
        "y_proba2 = clf2.fit(X_train, y_train).predict_proba(X_test)\n",
        "y_proba2"
      ],
      "metadata": {
        "colab": {
          "base_uri": "https://localhost:8080/"
        },
        "id": "auGMB4k-jvkl",
        "outputId": "bb4a3bb3-0d55-440a-815a-d6038f0af60e"
      },
      "execution_count": 24,
      "outputs": [
        {
          "output_type": "execute_result",
          "data": {
            "text/plain": [
              "array([[2.93279159e-02, 9.99515021e-01, 5.41616238e-05, 2.13144901e-04],\n",
              "       [1.72798426e-01, 5.23225536e-02, 5.82265764e-03, 3.85356800e-02],\n",
              "       [3.47381214e-03, 1.19133350e-01, 1.13522127e-03, 9.65793865e-01],\n",
              "       [5.24376579e-05, 5.13561136e-02, 9.66853721e-01, 3.81529128e-04],\n",
              "       [1.01296514e-01, 7.14245559e-03, 9.73649873e-01, 1.73446024e-03],\n",
              "       [1.23222027e-03, 3.16782793e-03, 2.75430705e-03, 9.81818403e-01],\n",
              "       [2.37580705e-05, 9.97912419e-01, 1.19291099e-02, 3.37346945e-03],\n",
              "       [9.83899363e-01, 2.27322884e-03, 6.56549915e-04, 2.14385417e-03],\n",
              "       [8.66531465e-01, 5.64509704e-02, 1.23291675e-02, 3.32832753e-03],\n",
              "       [9.83899363e-01, 1.00621279e-02, 1.71955343e-03, 5.14706278e-04],\n",
              "       [1.79987620e-02, 1.22068919e-03, 5.83127326e-01, 1.41976806e-03],\n",
              "       [9.83899363e-01, 7.11561443e-03, 1.78988804e-02, 1.49615990e-03],\n",
              "       [3.09881381e-04, 9.99941661e-01, 5.03026098e-02, 1.88579951e-03],\n",
              "       [6.44849127e-05, 9.99656709e-01, 2.18998263e-04, 5.27841825e-03],\n",
              "       [2.67126333e-04, 9.94390418e-01, 3.02660037e-05, 6.62941987e-03],\n",
              "       [4.07525115e-02, 3.16782793e-03, 3.52002899e-03, 9.81818403e-01],\n",
              "       [9.83899363e-01, 7.14245559e-03, 1.35634798e-03, 2.18926993e-02],\n",
              "       [9.83899363e-01, 9.54078695e-03, 1.46545413e-03, 7.92718626e-04],\n",
              "       [3.20740139e-03, 9.36186466e-01, 1.13194906e-03, 7.65697049e-06],\n",
              "       [6.44849127e-05, 9.99941661e-01, 3.00768830e-04, 3.12699936e-04],\n",
              "       [2.99057758e-04, 6.10961594e-02, 9.82763232e-01, 2.26275131e-03],\n",
              "       [1.25064078e-03, 9.99664664e-01, 2.82332377e-05, 9.16839246e-05]])"
            ]
          },
          "metadata": {},
          "execution_count": 24
        }
      ]
    },
    {
      "cell_type": "code",
      "source": [
        "y_prob = clf2.fit(X_train, y_train).predict_proba(X_test)\n",
        "ybin = label_binarize(y_test, classes=[0, 1, 2, 3])\n",
        "n_classes = ybin.shape[1]\n",
        "CLASS_NAMES = [ 'Group 3', 'Group 4', 'SHH', 'WNT']\n",
        "NUM_CLASSES = len(CLASS_NAMES)"
      ],
      "metadata": {
        "id": "zLHnN_XMkj7j"
      },
      "execution_count": 47,
      "outputs": []
    },
    {
      "cell_type": "code",
      "source": [
        "y_prob.shape,ybin.shape"
      ],
      "metadata": {
        "colab": {
          "base_uri": "https://localhost:8080/"
        },
        "id": "7qh95Ct_kpqx",
        "outputId": "a2c7995e-1f1c-463a-9165-7c9577741415"
      },
      "execution_count": 48,
      "outputs": [
        {
          "output_type": "execute_result",
          "data": {
            "text/plain": [
              "((22, 4), (22, 4))"
            ]
          },
          "metadata": {},
          "execution_count": 48
        }
      ]
    },
    {
      "cell_type": "code",
      "source": [
        "y_prob"
      ],
      "metadata": {
        "colab": {
          "base_uri": "https://localhost:8080/"
        },
        "id": "rZJtn5zEk_j5",
        "outputId": "317f032d-8c90-44d5-9478-92f8366be090"
      },
      "execution_count": 49,
      "outputs": [
        {
          "output_type": "execute_result",
          "data": {
            "text/plain": [
              "array([[2.93279159e-02, 9.99515021e-01, 5.41616238e-05, 2.13144901e-04],\n",
              "       [1.72798426e-01, 5.23225536e-02, 5.82265764e-03, 3.85356800e-02],\n",
              "       [3.47381214e-03, 1.19133350e-01, 1.13522127e-03, 9.65793865e-01],\n",
              "       [5.24376579e-05, 5.13561136e-02, 9.66853721e-01, 3.81529128e-04],\n",
              "       [1.01296514e-01, 7.14245559e-03, 9.73649873e-01, 1.73446024e-03],\n",
              "       [1.23222027e-03, 3.16782793e-03, 2.75430705e-03, 9.81818403e-01],\n",
              "       [2.37580705e-05, 9.97912419e-01, 1.19291099e-02, 3.37346945e-03],\n",
              "       [9.83899363e-01, 2.27322884e-03, 6.56549915e-04, 2.14385417e-03],\n",
              "       [8.66531465e-01, 5.64509704e-02, 1.23291675e-02, 3.32832753e-03],\n",
              "       [9.83899363e-01, 1.00621279e-02, 1.71955343e-03, 5.14706278e-04],\n",
              "       [1.79987620e-02, 1.22068919e-03, 5.83127326e-01, 1.41976806e-03],\n",
              "       [9.83899363e-01, 7.11561443e-03, 1.78988804e-02, 1.49615990e-03],\n",
              "       [3.09881381e-04, 9.99941661e-01, 5.03026098e-02, 1.88579951e-03],\n",
              "       [6.44849127e-05, 9.99656709e-01, 2.18998263e-04, 5.27841825e-03],\n",
              "       [2.67126333e-04, 9.94390418e-01, 3.02660037e-05, 6.62941987e-03],\n",
              "       [4.07525115e-02, 3.16782793e-03, 3.52002899e-03, 9.81818403e-01],\n",
              "       [9.83899363e-01, 7.14245559e-03, 1.35634798e-03, 2.18926993e-02],\n",
              "       [9.83899363e-01, 9.54078695e-03, 1.46545413e-03, 7.92718626e-04],\n",
              "       [3.20740139e-03, 9.36186466e-01, 1.13194906e-03, 7.65697049e-06],\n",
              "       [6.44849127e-05, 9.99941661e-01, 3.00768830e-04, 3.12699936e-04],\n",
              "       [2.99057758e-04, 6.10961594e-02, 9.82763232e-01, 2.26275131e-03],\n",
              "       [1.25064078e-03, 9.99664664e-01, 2.82332377e-05, 9.16839246e-05]])"
            ]
          },
          "metadata": {},
          "execution_count": 49
        }
      ]
    },
    {
      "cell_type": "code",
      "source": [
        "ybin"
      ],
      "metadata": {
        "colab": {
          "base_uri": "https://localhost:8080/"
        },
        "id": "CoTWZy1smRwQ",
        "outputId": "15729ec3-dd3b-47ce-cf5a-5eaf22fad821"
      },
      "execution_count": 50,
      "outputs": [
        {
          "output_type": "execute_result",
          "data": {
            "text/plain": [
              "array([[0, 1, 0, 0],\n",
              "       [0, 1, 0, 0],\n",
              "       [0, 0, 0, 1],\n",
              "       [0, 0, 1, 0],\n",
              "       [0, 0, 1, 0],\n",
              "       [0, 0, 0, 1],\n",
              "       [0, 1, 0, 0],\n",
              "       [1, 0, 0, 0],\n",
              "       [1, 0, 0, 0],\n",
              "       [1, 0, 0, 0],\n",
              "       [0, 0, 1, 0],\n",
              "       [1, 0, 0, 0],\n",
              "       [0, 1, 0, 0],\n",
              "       [0, 1, 0, 0],\n",
              "       [0, 1, 0, 0],\n",
              "       [0, 0, 0, 1],\n",
              "       [1, 0, 0, 0],\n",
              "       [1, 0, 0, 0],\n",
              "       [0, 1, 0, 0],\n",
              "       [0, 1, 0, 0],\n",
              "       [0, 0, 1, 0],\n",
              "       [0, 1, 0, 0]])"
            ]
          },
          "metadata": {},
          "execution_count": 50
        }
      ]
    },
    {
      "cell_type": "markdown",
      "source": [
        "**ROC-AUC FOR EACH CLASS (THRESHOLDS)**"
      ],
      "metadata": {
        "id": "qoHav9Z3XuIM"
      }
    },
    {
      "cell_type": "code",
      "source": [
        "def compute_AUCs(ybin, y_prob):\n",
        "\tAUROCs = []\n",
        "\ty_np = ybin\n",
        "\tpred_np = y_prob\n",
        "\tfor i in range(len(y_np[0])):\n",
        "\t\tAUROCs.append(roc_auc_score(y_np[:, i], pred_np[:, i]))\n",
        "\treturn AUROCs\n",
        "\n",
        "def compute_ROCs(ybin, y_prob):\n",
        "\ty_np = ybin\n",
        "\tpred_np = y_prob\n",
        "\n",
        "\tresults = {\n",
        "\t\t'fpr' : [],\n",
        "\t\t'tpr' : [],\n",
        "\t\t'thresholds': [],\n",
        "\t\t'gmeans': [],\n",
        "\t\t'idmax': [],\n",
        "\t\t'optimal_threshold': []\n",
        "\t}\n",
        "\n",
        "\tfor i in range(len(y_np[0])):\n",
        "\t\tfpr, tpr, thresholds = roc_curve(y_np[:, i], pred_np[:, i])\n",
        "\t\tgmeans = np.sqrt(tpr * (1-fpr))\n",
        "\t\tix = np.argmax(gmeans)\n",
        "\t\tresults['fpr'].append(fpr.tolist())\n",
        "\t\tresults['tpr'].append(tpr.tolist())\n",
        "\t\tresults['thresholds'].append(thresholds.tolist())\n",
        "\t\tresults['gmeans'].append(gmeans.tolist())\n",
        "\t\tresults['idmax'].append(int(ix))\n",
        "\t\tresults['optimal_threshold'].append(float(thresholds[ix]))\n",
        "\n",
        "\treturn results\n",
        "\n",
        "def get_threshold(ybin, y_prob):\n",
        "\ty_np = ybin\n",
        "\tpred_np = y_prob\n",
        "\n",
        "\tresults = []\n",
        "\tfor i in range(len(y_np[0])):\n",
        "\t\tfpr, tpr, thresholds = roc_curve(y_np[:, i], pred_np[:, i])\n",
        "\t\tgmeans = np.sqrt(tpr * (1-fpr))\n",
        "\t\tix = np.argmax(gmeans)\n",
        "\t\tresults.append(thresholds[ix])\n",
        "\n",
        "\treturn results\n",
        "\n",
        "def create_roc_curve(ybin, y_prob):\n",
        "\ty_np = ybin\n",
        "\tpred_np = y_prob\n",
        "\n",
        "\tcolors = [\n",
        "\t'#0033cc', '#ff0000', '#ff9933', '#993399']\n",
        "\n",
        "\tlinestyles = [\n",
        "\t'solid', 'dotted', 'dashed', 'dashdot']\n",
        "\n",
        "\tfor i in range(len(y_np[0])):\n",
        "\t\tfpr, tpr, thresholds = roc_curve(y_np[:, i], pred_np[:, i])\n",
        "\t\tgmeans = np.sqrt(tpr * (1-fpr))\n",
        "\t\tix = np.argmax(gmeans)\n",
        "\t\tplt.plot([0,1], [0,1], linestyle='--')\n",
        "\t\tplt.plot(fpr, tpr, linestyle=linestyles[i], color=colors[i], label='{} t={:.5f}'.format(CLASS_NAMES[i], thresholds[ix]))\n",
        "\t\tplt.scatter(fpr[ix], tpr[ix], marker='o', color=colors[i])\n",
        "\n",
        "\tplt.xlabel('False Positive Rate')\n",
        "\tplt.ylabel('True Positive Rate')\n",
        "\tplt.legend()\n",
        "\tplt.show()\n"
      ],
      "metadata": {
        "id": "kDX0_ybUkqm2"
      },
      "execution_count": 51,
      "outputs": []
    },
    {
      "cell_type": "code",
      "source": [
        "y_np = ybin\n",
        "pred_np = y_prob\n",
        "print(y_np)\n",
        "print(pred_np)"
      ],
      "metadata": {
        "colab": {
          "base_uri": "https://localhost:8080/"
        },
        "id": "A8ndzbcffw-M",
        "outputId": "465a57ea-c5b7-4f46-94ed-9fe86396a03b"
      },
      "execution_count": 52,
      "outputs": [
        {
          "output_type": "stream",
          "name": "stdout",
          "text": [
            "[[0 1 0 0]\n",
            " [0 1 0 0]\n",
            " [0 0 0 1]\n",
            " [0 0 1 0]\n",
            " [0 0 1 0]\n",
            " [0 0 0 1]\n",
            " [0 1 0 0]\n",
            " [1 0 0 0]\n",
            " [1 0 0 0]\n",
            " [1 0 0 0]\n",
            " [0 0 1 0]\n",
            " [1 0 0 0]\n",
            " [0 1 0 0]\n",
            " [0 1 0 0]\n",
            " [0 1 0 0]\n",
            " [0 0 0 1]\n",
            " [1 0 0 0]\n",
            " [1 0 0 0]\n",
            " [0 1 0 0]\n",
            " [0 1 0 0]\n",
            " [0 0 1 0]\n",
            " [0 1 0 0]]\n",
            "[[2.93279159e-02 9.99515021e-01 5.41616238e-05 2.13144901e-04]\n",
            " [1.72798426e-01 5.23225536e-02 5.82265764e-03 3.85356800e-02]\n",
            " [3.47381214e-03 1.19133350e-01 1.13522127e-03 9.65793865e-01]\n",
            " [5.24376579e-05 5.13561136e-02 9.66853721e-01 3.81529128e-04]\n",
            " [1.01296514e-01 7.14245559e-03 9.73649873e-01 1.73446024e-03]\n",
            " [1.23222027e-03 3.16782793e-03 2.75430705e-03 9.81818403e-01]\n",
            " [2.37580705e-05 9.97912419e-01 1.19291099e-02 3.37346945e-03]\n",
            " [9.83899363e-01 2.27322884e-03 6.56549915e-04 2.14385417e-03]\n",
            " [8.66531465e-01 5.64509704e-02 1.23291675e-02 3.32832753e-03]\n",
            " [9.83899363e-01 1.00621279e-02 1.71955343e-03 5.14706278e-04]\n",
            " [1.79987620e-02 1.22068919e-03 5.83127326e-01 1.41976806e-03]\n",
            " [9.83899363e-01 7.11561443e-03 1.78988804e-02 1.49615990e-03]\n",
            " [3.09881381e-04 9.99941661e-01 5.03026098e-02 1.88579951e-03]\n",
            " [6.44849127e-05 9.99656709e-01 2.18998263e-04 5.27841825e-03]\n",
            " [2.67126333e-04 9.94390418e-01 3.02660037e-05 6.62941987e-03]\n",
            " [4.07525115e-02 3.16782793e-03 3.52002899e-03 9.81818403e-01]\n",
            " [9.83899363e-01 7.14245559e-03 1.35634798e-03 2.18926993e-02]\n",
            " [9.83899363e-01 9.54078695e-03 1.46545413e-03 7.92718626e-04]\n",
            " [3.20740139e-03 9.36186466e-01 1.13194906e-03 7.65697049e-06]\n",
            " [6.44849127e-05 9.99941661e-01 3.00768830e-04 3.12699936e-04]\n",
            " [2.99057758e-04 6.10961594e-02 9.82763232e-01 2.26275131e-03]\n",
            " [1.25064078e-03 9.99664664e-01 2.82332377e-05 9.16839246e-05]]\n"
          ]
        }
      ]
    },
    {
      "cell_type": "markdown",
      "source": [
        "AUROCS GLOBAL"
      ],
      "metadata": {
        "id": "6NelF3pwcHqd"
      }
    },
    {
      "cell_type": "code",
      "source": [
        "\tAUROCs_global = compute_AUCs(ybin, y_prob)\n",
        "\tAUROCs_global_avg = np.array(AUROCs_global[:4]).mean()\n",
        "\n",
        "\tROCs_global = compute_ROCs(ybin, y_prob)\n",
        "\n",
        "\tAUROCs_local = [0. for a in range(NUM_CLASSES)]\n",
        "\tAUROCs_local_avg = 0.\n",
        "\tAUROCs_fusion = [0. for a in range(NUM_CLASSES)]\n",
        "\tAUROCs_fusion_avg = 0.\n"
      ],
      "metadata": {
        "id": "VS-fyykIk1FT"
      },
      "execution_count": 53,
      "outputs": []
    },
    {
      "cell_type": "code",
      "source": [
        "print(AUROCs_global)\n",
        "print(AUROCs_global_avg)\n",
        "print(ROCs_global)\n"
      ],
      "metadata": {
        "id": "Z42s5p_ScK0T",
        "colab": {
          "base_uri": "https://localhost:8080/"
        },
        "outputId": "b8398328-7ab0-41a9-f078-6f70340a0aea"
      },
      "execution_count": 54,
      "outputs": [
        {
          "output_type": "stream",
          "name": "stdout",
          "text": [
            "[1.0, 0.9743589743589743, 1.0, 1.0]\n",
            "0.9935897435897436\n",
            "{'fpr': [[0.0, 0.0, 0.0, 0.75, 0.875, 1.0], [0.0, 0.0, 0.0, 0.23076923076923078, 0.23076923076923078, 0.46153846153846156, 0.6153846153846154, 0.6923076923076923, 0.8461538461538461, 1.0], [0.0, 0.0, 0.0, 1.0], [0.0, 0.0, 0.0, 1.0]], 'tpr': [[0.0, 0.8333333333333334, 1.0, 1.0, 1.0, 1.0], [0.0, 0.2222222222222222, 0.8888888888888888, 0.8888888888888888, 1.0, 1.0, 1.0, 1.0, 1.0, 1.0], [0.0, 0.25, 1.0, 1.0], [0.0, 0.6666666666666666, 1.0, 1.0]], 'thresholds': [[1.9838993629798396, 0.9838993629798395, 0.8665314647073082, 0.0002671263331146429, 6.44849126870935e-05, 2.375807049134699e-05], [1.9999416606535458, 0.999941660653546, 0.9361864655706832, 0.05645097043164827, 0.05232255360536622, 0.00954078695473273, 0.007142455585201055, 0.0071156144303264595, 0.0031678279295097515, 0.001220689191775057], [1.9827632323254065, 0.9827632323254065, 0.583127326321909, 2.823323770599957e-05], [1.9818184030728734, 0.9818184030728734, 0.9657938648737578, 7.656970491250144e-06]], 'gmeans': [[0.0, 0.9128709291752769, 1.0, 0.5, 0.3535533905932738, 0.0], [0.0, 0.4714045207910317, 0.9428090415820634, 0.826898230594723, 0.8770580193070292, 0.7337993857053428, 0.6201736729460422, 0.5547001962252291, 0.3922322702763681, 0.0], [0.0, 0.5, 1.0, 0.0], [0.0, 0.816496580927726, 1.0, 0.0]], 'idmax': [2, 2, 2, 2], 'optimal_threshold': [0.8665314647073082, 0.9361864655706832, 0.583127326321909, 0.9657938648737578]}\n"
          ]
        }
      ]
    },
    {
      "cell_type": "code",
      "source": [
        "print(create_roc_curve(ybin,y_prob))"
      ],
      "metadata": {
        "colab": {
          "base_uri": "https://localhost:8080/",
          "height": 297
        },
        "id": "GuC_jbeFekuo",
        "outputId": "31ba1f3c-6d77-49c8-b522-3554ed3f15ac"
      },
      "execution_count": 55,
      "outputs": [
        {
          "output_type": "display_data",
          "data": {
            "image/png": "[encoded data removed]",
            "text/plain": [
              "<Figure size 432x288 with 1 Axes>"
            ]
          },
          "metadata": {
            "needs_background": "light"
          }
        },
        {
          "output_type": "stream",
          "name": "stdout",
          "text": [
            "None\n"
          ]
        }
      ]
    },
    {
      "cell_type": "markdown",
      "source": [
        "**PRECISION-RECALL CURVE**"
      ],
      "metadata": {
        "id": "7ccggQkBYRxS"
      }
    },
    {
      "cell_type": "code",
      "source": [
        "def create_precision_recall_curve(ybin, y_prob):\n",
        "\ty_np = ybin\n",
        "\tpred_np = y_prob\n",
        "\n",
        "\tcolors = [\n",
        "\t'#0033cc', '#ff0000', '#ff9933', '#993399']\n",
        "\n",
        "\tlinestyles = [\n",
        "\t'solid', 'dotted', 'dashed', 'dashdot']\n",
        "\n",
        "\tfor i in range(len(y_np[0])):\n",
        "\t\tprecision, recall, thresholds = precision_recall_curve(y_np[:, i], pred_np[:, i])\n",
        "\t\tfscore = (2 * precision * recall) / (precision + recall)\n",
        "\t\tix = np.argmax(fscore)\n",
        "\t\tplt.plot([0,1], [0,1], linestyle='--')\n",
        "\t\tplt.plot(recall, precision, linestyle=linestyles[i], color=colors[i], label='{} t={:.5f} F={:.3f}'.format(CLASS_NAMES[i], thresholds[ix], fscore[ix]))\n",
        "\t\tplt.scatter(recall[ix], precision[ix], marker='o', color=colors[i])\n",
        "\n",
        "\tplt.xlabel('False Positive Rate')\n",
        "\tplt.ylabel('True Positive Rate')\n",
        "\tplt.legend()\n",
        "\tplt.show()"
      ],
      "metadata": {
        "id": "rVYhYATSYW-S"
      },
      "execution_count": 56,
      "outputs": []
    },
    {
      "cell_type": "code",
      "source": [
        "print(create_precision_recall_curve(ybin,y_prob))"
      ],
      "metadata": {
        "colab": {
          "base_uri": "https://localhost:8080/",
          "height": 297
        },
        "id": "tlvG1xzhq6VT",
        "outputId": "26220682-22fc-475a-f020-60c9a293c956"
      },
      "execution_count": 60,
      "outputs": [
        {
          "output_type": "display_data",
          "data": {
            "image/png": "[encoded data removed]",
            "text/plain": [
              "<Figure size 432x288 with 1 Axes>"
            ]
          },
          "metadata": {
            "needs_background": "light"
          }
        },
        {
          "output_type": "stream",
          "name": "stdout",
          "text": [
            "None\n"
          ]
        }
      ]
    },
    {
      "cell_type": "markdown",
      "source": [
        "**MODEL RESAMPLING DENGAN SMOTENC**"
      ],
      "metadata": {
        "id": "3rBWpzBPlVXX"
      }
    },
    {
      "cell_type": "markdown",
      "source": [
        "RESAMPLING DATA DENGAN SMOTENC"
      ],
      "metadata": {
        "id": "ZSNc0xbdlmhv"
      }
    },
    {
      "cell_type": "code",
      "source": [
        "ovr = SMOTENC(random_state=0, categorical_features=[37,38,39], k_neighbors=2)\n",
        "x_smotenc, y_smotenc = ovr.fit_resample(X_train, y_train.ravel())\n",
        "x_smotenc.shape, y_smotenc.shape"
      ],
      "metadata": {
        "colab": {
          "base_uri": "https://localhost:8080/"
        },
        "id": "Xx4YPke1lew8",
        "outputId": "388926aa-0d67-49dd-b2a8-e8e8fa4c019c"
      },
      "execution_count": 31,
      "outputs": [
        {
          "output_type": "execute_result",
          "data": {
            "text/plain": [
              "((120, 40), (120,))"
            ]
          },
          "metadata": {},
          "execution_count": 31
        }
      ]
    },
    {
      "cell_type": "markdown",
      "source": [
        "MELIHAT JUMLAH MASING-MASING KELAS SETELAH DIRESAMPLING"
      ],
      "metadata": {
        "id": "3GwJLJzKllQQ"
      }
    },
    {
      "cell_type": "code",
      "source": [
        "y_train_smotenc = pd.DataFrame(data=y_smotenc, columns=['class'])\n",
        "sns.displot(y_train_smotenc, x=\"class\")"
      ],
      "metadata": {
        "colab": {
          "base_uri": "https://localhost:8080/",
          "height": 387
        },
        "id": "9yZ4SVzFmB1w",
        "outputId": "0870f273-a4f7-44e3-b827-e201fbcbe3bf"
      },
      "execution_count": 32,
      "outputs": [
        {
          "output_type": "execute_result",
          "data": {
            "text/plain": [
              "<seaborn.axisgrid.FacetGrid at 0x7f745dc8f950>"
            ]
          },
          "metadata": {},
          "execution_count": 32
        },
        {
          "output_type": "display_data",
          "data": {
            "image/png": "[encoded data removed]",
            "text/plain": [
              "<Figure size 360x360 with 1 Axes>"
            ]
          },
          "metadata": {
            "needs_background": "light"
          }
        }
      ]
    },
    {
      "cell_type": "markdown",
      "source": [
        "MEMBANGUN MODEL SETELAH DIRESAMPLING"
      ],
      "metadata": {
        "id": "KcMjiI0umF6H"
      }
    },
    {
      "cell_type": "code",
      "source": [
        "param_dict_smotenc = {\n",
        "    'num_leaves': [4, 8, 12, 20],\n",
        "    'max_depth': [1,2,3,4,5,6,7,8],\n",
        "    'learning_rate':[0.1,0.3,0.5,0.7,0.9]\n",
        "    }\n",
        "\n",
        "\n",
        "clf_smotenc = lgb.LGBMClassifier(boosting_type='gbdt', objective='multiclass',\n",
        "                         colsample_bytree=1.0, n_estimators=100,\n",
        "                         num_class=4, metric='multi_logloss')\n",
        "\n",
        "gs_smotenc=GridSearchCV(clf_smotenc, param_dict_smotenc, scoring='accuracy', verbose=1,cv=5, n_jobs=1)\n",
        "gs_smotenc.fit(x_smotenc,y_smotenc)\n",
        "gs_smotenc.best_params_\n",
        "gs_smotenc.best_score_"
      ],
      "metadata": {
        "colab": {
          "base_uri": "https://localhost:8080/"
        },
        "id": "LfOWhPfhmN52",
        "outputId": "9da1d195-d3bc-4178-9062-dced07ae8816"
      },
      "execution_count": 33,
      "outputs": [
        {
          "output_type": "stream",
          "name": "stdout",
          "text": [
            "Fitting 5 folds for each of 160 candidates, totalling 800 fits\n"
          ]
        },
        {
          "output_type": "execute_result",
          "data": {
            "text/plain": [
              "0.9916666666666668"
            ]
          },
          "metadata": {},
          "execution_count": 33
        }
      ]
    },
    {
      "cell_type": "markdown",
      "source": [
        "HASIL DENGAN RESAMPLING"
      ],
      "metadata": {
        "id": "AgUcFkoLmTGO"
      }
    },
    {
      "cell_type": "code",
      "source": [
        "predict_grid_smotenc = gs_smotenc.predict(X_test)\n",
        "print(\"nilai f-1 score AFTER SMOTENC     : %0.3f\"% metrics.f1_score(y_test, predict_grid_smotenc, average='macro'))\n",
        "print(\"nilai akurasi AFTER SMOTENC        : %0.3f\"% metrics.accuracy_score(y_test, predict_grid_smotenc))\n",
        "\n",
        "print('Combination SMOTENC Results:',classification_report_imbalanced(y_test, predict_grid_smotenc))\n",
        "print(confusion_matrix(y_test, predict_grid_smotenc))\n",
        "print('Akurasi Combination SMOTENC = ', accuracy_score(y_test, predict_grid_smotenc))"
      ],
      "metadata": {
        "colab": {
          "base_uri": "https://localhost:8080/"
        },
        "id": "dqoez-dnmdk_",
        "outputId": "946fe37a-6790-4cd6-e27d-66b9c32e5f02"
      },
      "execution_count": 34,
      "outputs": [
        {
          "output_type": "stream",
          "name": "stdout",
          "text": [
            "nilai f-1 score AFTER SMOTENC     : 0.966\n",
            "nilai akurasi AFTER SMOTENC        : 0.955\n",
            "Combination SMOTENC Results:                    pre       rec       spe        f1       geo       iba       sup\n",
            "\n",
            "          0       0.86      1.00      0.94      0.92      0.97      0.94         6\n",
            "          1       1.00      0.89      1.00      0.94      0.94      0.88         9\n",
            "          2       1.00      1.00      1.00      1.00      1.00      1.00         4\n",
            "          3       1.00      1.00      1.00      1.00      1.00      1.00         3\n",
            "\n",
            "avg / total       0.96      0.95      0.98      0.95      0.97      0.94        22\n",
            "\n",
            "[[6 0 0 0]\n",
            " [1 8 0 0]\n",
            " [0 0 4 0]\n",
            " [0 0 0 3]]\n",
            "Akurasi Combination SMOTENC =  0.9545454545454546\n"
          ]
        }
      ]
    },
    {
      "cell_type": "markdown",
      "source": [
        "CONFUSSION MATRIX SETELAH DIRESAMPLING"
      ],
      "metadata": {
        "id": "yD80xnAdm0Cu"
      }
    },
    {
      "cell_type": "code",
      "source": [
        "classes =[]\n",
        "labeles=np.unique(y_train)\n",
        "for v in labeles:\n",
        "    classes.append('Class '+ str(v))\n",
        "print(classes)\n",
        "classes\n",
        "\n",
        "cnf_matrix_smotenc = confusion_matrix(y_test, predict_grid_smotenc, labels=labeles)\n",
        "cnf_matrix_smotenc\n",
        "\n",
        "f = sns.heatmap(cnf_matrix_smotenc, annot=True)"
      ],
      "metadata": {
        "colab": {
          "base_uri": "https://localhost:8080/",
          "height": 287
        },
        "id": "bCqtFCsvm-FU",
        "outputId": "2f0ea503-995e-4b49-b4ee-d581a4854828"
      },
      "execution_count": 35,
      "outputs": [
        {
          "output_type": "stream",
          "name": "stdout",
          "text": [
            "['Class 0', 'Class 1', 'Class 2', 'Class 3']\n"
          ]
        },
        {
          "output_type": "display_data",
          "data": {
            "image/png": "[encoded data removed]",
            "text/plain": [
              "<Figure size 432x288 with 2 Axes>"
            ]
          },
          "metadata": {
            "needs_background": "light"
          }
        }
      ]
    },
    {
      "cell_type": "markdown",
      "source": [
        "****LGB TRAIN SETELAH RESAMPLING**********************************"
      ],
      "metadata": {
        "id": "yu6DWItinHA1"
      }
    },
    {
      "cell_type": "markdown",
      "source": [
        "DATASET LGB&CATEGORICAL FEATURE"
      ],
      "metadata": {
        "id": "77pghKTYnYYT"
      }
    },
    {
      "cell_type": "code",
      "source": [
        "lgb_train_smotenc = lgb.Dataset(x_smotenc, label= y_smotenc)\n",
        "lgb_test_smotenc = lgb.Dataset(X_test, y_test)\n",
        "cate_features = [37,38,39]"
      ],
      "metadata": {
        "id": "jcWj_adznP3L"
      },
      "execution_count": 36,
      "outputs": []
    },
    {
      "cell_type": "markdown",
      "source": [
        "TRAINING MODEL"
      ],
      "metadata": {
        "id": "HSuaMsyyndRq"
      }
    },
    {
      "cell_type": "code",
      "source": [
        "param_smotenc = {\n",
        "'boosting_type': 'gbdt',\n",
        "'objective': 'multiclass',\n",
        "'metric': 'multi_logloss',\n",
        "'num_class':4,\n",
        "'max_depth':1,\n",
        "'num_leaves':4,\n",
        "'learning_rate':0.1\n",
        "}\n",
        "\n",
        "gbm_smotenc = lgb.train(\n",
        "param_smotenc,\n",
        "lgb_train_smotenc,\n",
        "categorical_feature = cate_features,\n",
        "num_boost_round=100,\n",
        "valid_sets=[lgb_train_smotenc, lgb_test_smotenc],\n",
        "early_stopping_rounds=10\n",
        ")\n",
        "\n",
        "gbm_smotenc.best_iteration\n",
        "gbm_smotenc.best_score"
      ],
      "metadata": {
        "colab": {
          "base_uri": "https://localhost:8080/"
        },
        "id": "yqZ6M4w1nl_m",
        "outputId": "a7707405-e977-4e76-b671-e93a7d2190b2"
      },
      "execution_count": 37,
      "outputs": [
        {
          "output_type": "stream",
          "name": "stdout",
          "text": [
            "[1]\ttraining's multi_logloss: 1.20521\tvalid_1's multi_logloss: 1.22206\n",
            "Training until validation scores don't improve for 10 rounds.\n",
            "[2]\ttraining's multi_logloss: 1.05938\tvalid_1's multi_logloss: 1.09034\n",
            "[3]\ttraining's multi_logloss: 0.938498\tvalid_1's multi_logloss: 0.98165\n",
            "[4]\ttraining's multi_logloss: 0.835813\tvalid_1's multi_logloss: 0.878748\n",
            "[5]\ttraining's multi_logloss: 0.74774\tvalid_1's multi_logloss: 0.7903\n",
            "[6]\ttraining's multi_logloss: 0.671218\tvalid_1's multi_logloss: 0.718275\n",
            "[7]\ttraining's multi_logloss: 0.60414\tvalid_1's multi_logloss: 0.65114\n",
            "[8]\ttraining's multi_logloss: 0.545252\tvalid_1's multi_logloss: 0.592084\n",
            "[9]\ttraining's multi_logloss: 0.493177\tvalid_1's multi_logloss: 0.543522\n",
            "[10]\ttraining's multi_logloss: 0.446944\tvalid_1's multi_logloss: 0.496887\n",
            "[11]\ttraining's multi_logloss: 0.405712\tvalid_1's multi_logloss: 0.455171\n",
            "[12]\ttraining's multi_logloss: 0.368939\tvalid_1's multi_logloss: 0.417886\n",
            "[13]\ttraining's multi_logloss: 0.335965\tvalid_1's multi_logloss: 0.387801\n",
            "[14]\ttraining's multi_logloss: 0.306322\tvalid_1's multi_logloss: 0.357583\n",
            "[15]\ttraining's multi_logloss: 0.279729\tvalid_1's multi_logloss: 0.330829\n",
            "[16]\ttraining's multi_logloss: 0.255773\tvalid_1's multi_logloss: 0.306718\n",
            "[17]\ttraining's multi_logloss: 0.234065\tvalid_1's multi_logloss: 0.286311\n",
            "[18]\ttraining's multi_logloss: 0.214436\tvalid_1's multi_logloss: 0.267352\n",
            "[19]\ttraining's multi_logloss: 0.196602\tvalid_1's multi_logloss: 0.248836\n",
            "[20]\ttraining's multi_logloss: 0.180364\tvalid_1's multi_logloss: 0.23604\n",
            "[21]\ttraining's multi_logloss: 0.16558\tvalid_1's multi_logloss: 0.219057\n",
            "[22]\ttraining's multi_logloss: 0.152142\tvalid_1's multi_logloss: 0.203264\n",
            "[23]\ttraining's multi_logloss: 0.13983\tvalid_1's multi_logloss: 0.193961\n",
            "[24]\ttraining's multi_logloss: 0.128655\tvalid_1's multi_logloss: 0.182379\n",
            "[25]\ttraining's multi_logloss: 0.118421\tvalid_1's multi_logloss: 0.17234\n",
            "[26]\ttraining's multi_logloss: 0.10907\tvalid_1's multi_logloss: 0.165193\n",
            "[27]\ttraining's multi_logloss: 0.10053\tvalid_1's multi_logloss: 0.153956\n",
            "[28]\ttraining's multi_logloss: 0.0926747\tvalid_1's multi_logloss: 0.146238\n",
            "[29]\ttraining's multi_logloss: 0.0854984\tvalid_1's multi_logloss: 0.141771\n",
            "[30]\ttraining's multi_logloss: 0.078904\tvalid_1's multi_logloss: 0.132938\n",
            "[31]\ttraining's multi_logloss: 0.0728823\tvalid_1's multi_logloss: 0.124624\n",
            "[32]\ttraining's multi_logloss: 0.0673388\tvalid_1's multi_logloss: 0.119345\n",
            "[33]\ttraining's multi_logloss: 0.0622309\tvalid_1's multi_logloss: 0.116155\n",
            "[34]\ttraining's multi_logloss: 0.0575355\tvalid_1's multi_logloss: 0.111698\n",
            "[35]\ttraining's multi_logloss: 0.0532339\tvalid_1's multi_logloss: 0.109766\n",
            "[36]\ttraining's multi_logloss: 0.0492731\tvalid_1's multi_logloss: 0.103527\n",
            "[37]\ttraining's multi_logloss: 0.0456181\tvalid_1's multi_logloss: 0.099499\n",
            "[38]\ttraining's multi_logloss: 0.0422578\tvalid_1's multi_logloss: 0.0986018\n",
            "[39]\ttraining's multi_logloss: 0.0391593\tvalid_1's multi_logloss: 0.0927604\n",
            "[40]\ttraining's multi_logloss: 0.0363106\tvalid_1's multi_logloss: 0.0898651\n",
            "[41]\ttraining's multi_logloss: 0.0336764\tvalid_1's multi_logloss: 0.0890852\n",
            "[42]\ttraining's multi_logloss: 0.0312406\tvalid_1's multi_logloss: 0.0867989\n",
            "[43]\ttraining's multi_logloss: 0.0289902\tvalid_1's multi_logloss: 0.0842219\n",
            "[44]\ttraining's multi_logloss: 0.0269121\tvalid_1's multi_logloss: 0.0799077\n",
            "[45]\ttraining's multi_logloss: 0.02499\tvalid_1's multi_logloss: 0.0780958\n",
            "[46]\ttraining's multi_logloss: 0.0232165\tvalid_1's multi_logloss: 0.0758866\n",
            "[47]\ttraining's multi_logloss: 0.0215725\tvalid_1's multi_logloss: 0.0739048\n",
            "[48]\ttraining's multi_logloss: 0.0200532\tvalid_1's multi_logloss: 0.0744273\n",
            "[49]\ttraining's multi_logloss: 0.0186444\tvalid_1's multi_logloss: 0.0703448\n",
            "[50]\ttraining's multi_logloss: 0.0173381\tvalid_1's multi_logloss: 0.0692411\n",
            "[51]\ttraining's multi_logloss: 0.0161288\tvalid_1's multi_logloss: 0.0701568\n",
            "[52]\ttraining's multi_logloss: 0.0150043\tvalid_1's multi_logloss: 0.0684636\n",
            "[53]\ttraining's multi_logloss: 0.0139663\tvalid_1's multi_logloss: 0.0671667\n",
            "[54]\ttraining's multi_logloss: 0.0130011\tvalid_1's multi_logloss: 0.0661934\n",
            "[55]\ttraining's multi_logloss: 0.0121087\tvalid_1's multi_logloss: 0.0633714\n",
            "[56]\ttraining's multi_logloss: 0.0112786\tvalid_1's multi_logloss: 0.0619946\n",
            "[57]\ttraining's multi_logloss: 0.0105103\tvalid_1's multi_logloss: 0.0636916\n",
            "[58]\ttraining's multi_logloss: 0.0097948\tvalid_1's multi_logloss: 0.0626262\n",
            "[59]\ttraining's multi_logloss: 0.00913407\tvalid_1's multi_logloss: 0.0598231\n",
            "[60]\ttraining's multi_logloss: 0.00851757\tvalid_1's multi_logloss: 0.0612442\n",
            "[61]\ttraining's multi_logloss: 0.00794186\tvalid_1's multi_logloss: 0.0601517\n",
            "[62]\ttraining's multi_logloss: 0.00741044\tvalid_1's multi_logloss: 0.0575016\n",
            "[63]\ttraining's multi_logloss: 0.00691683\tvalid_1's multi_logloss: 0.0567724\n",
            "[64]\ttraining's multi_logloss: 0.00645312\tvalid_1's multi_logloss: 0.0581975\n",
            "[65]\ttraining's multi_logloss: 0.00602654\tvalid_1's multi_logloss: 0.0554198\n",
            "[66]\ttraining's multi_logloss: 0.00562797\tvalid_1's multi_logloss: 0.0574669\n",
            "[67]\ttraining's multi_logloss: 0.0052567\tvalid_1's multi_logloss: 0.0567395\n",
            "[68]\ttraining's multi_logloss: 0.00491193\tvalid_1's multi_logloss: 0.0560679\n",
            "[69]\ttraining's multi_logloss: 0.00459007\tvalid_1's multi_logloss: 0.0576163\n",
            "[70]\ttraining's multi_logloss: 0.00429092\tvalid_1's multi_logloss: 0.0571151\n",
            "[71]\ttraining's multi_logloss: 0.00401266\tvalid_1's multi_logloss: 0.0571548\n",
            "[72]\ttraining's multi_logloss: 0.0037521\tvalid_1's multi_logloss: 0.0568544\n",
            "[73]\ttraining's multi_logloss: 0.00351084\tvalid_1's multi_logloss: 0.0561191\n",
            "[74]\ttraining's multi_logloss: 0.00328448\tvalid_1's multi_logloss: 0.057744\n",
            "[75]\ttraining's multi_logloss: 0.00307388\tvalid_1's multi_logloss: 0.0553919\n",
            "[76]\ttraining's multi_logloss: 0.00287781\tvalid_1's multi_logloss: 0.0571451\n",
            "[77]\ttraining's multi_logloss: 0.00269474\tvalid_1's multi_logloss: 0.0595372\n",
            "[78]\ttraining's multi_logloss: 0.00252422\tvalid_1's multi_logloss: 0.0572449\n",
            "[79]\ttraining's multi_logloss: 0.00236493\tvalid_1's multi_logloss: 0.0566882\n",
            "[80]\ttraining's multi_logloss: 0.00221452\tvalid_1's multi_logloss: 0.0584163\n",
            "[81]\ttraining's multi_logloss: 0.00207483\tvalid_1's multi_logloss: 0.0577225\n",
            "[82]\ttraining's multi_logloss: 0.00194504\tvalid_1's multi_logloss: 0.0594067\n",
            "[83]\ttraining's multi_logloss: 0.0018235\tvalid_1's multi_logloss: 0.0612012\n",
            "[84]\ttraining's multi_logloss: 0.0017095\tvalid_1's multi_logloss: 0.0605331\n",
            "[85]\ttraining's multi_logloss: 0.00160258\tvalid_1's multi_logloss: 0.0600875\n",
            "Early stopping, best iteration is:\n",
            "[75]\ttraining's multi_logloss: 0.00307388\tvalid_1's multi_logloss: 0.0553919\n"
          ]
        },
        {
          "output_type": "stream",
          "name": "stderr",
          "text": [
            "/usr/local/lib/python3.7/dist-packages/lightgbm/basic.py:1209: UserWarning: categorical_feature in Dataset is overridden.\n",
            "New categorical_feature is [37, 38, 39]\n",
            "  'New categorical_feature is {}'.format(sorted(list(categorical_feature))))\n",
            "/usr/local/lib/python3.7/dist-packages/lightgbm/basic.py:762: UserWarning: categorical_feature in param dict is overridden.\n",
            "  warnings.warn('categorical_feature in param dict is overridden.')\n"
          ]
        },
        {
          "output_type": "execute_result",
          "data": {
            "text/plain": [
              "defaultdict(dict,\n",
              "            {'training': {'multi_logloss': 0.003073879993558828},\n",
              "             'valid_1': {'multi_logloss': 0.05539193033691985}})"
            ]
          },
          "metadata": {},
          "execution_count": 37
        }
      ]
    },
    {
      "cell_type": "markdown",
      "source": [
        "HASIL PREDIKSI SETELAH RESAMPLING"
      ],
      "metadata": {
        "id": "4fFVCLSbnn60"
      }
    },
    {
      "cell_type": "code",
      "source": [
        "predict_gbm_smotenc=gbm_smotenc.predict(X_test)\n",
        "predict_gbm_smotenc\n",
        "\n",
        "#argmax() method\n",
        "y_pred_smotenc = [np.argmax(line) for line in predict_gbm]\n",
        "y_pred_smotenc\n",
        "\n",
        "accuracy_score(y_test, y_pred_smotenc)\n",
        "\n",
        "cnf_matrix_smotenc=confusion_matrix(y_test, y_pred_smotenc)\n",
        "cnf_matrix_smotenc\n",
        "\n",
        "cnf_matrix_smotenc = confusion_matrix(y_test, y_pred_smotenc, labels=labeles)\n",
        "\n",
        "f = sns.heatmap(cnf_matrix_smotenc, annot=True)\n",
        "\n",
        "print(classification_report(y_test, y_pred_smotenc))"
      ],
      "metadata": {
        "colab": {
          "base_uri": "https://localhost:8080/",
          "height": 460
        },
        "id": "LusBZKP6oNOL",
        "outputId": "b9a44291-d7de-4873-eb5f-fe868f4a4a73"
      },
      "execution_count": 38,
      "outputs": [
        {
          "output_type": "stream",
          "name": "stdout",
          "text": [
            "              precision    recall  f1-score   support\n",
            "\n",
            "           0       0.86      1.00      0.92         6\n",
            "           1       1.00      0.89      0.94         9\n",
            "           2       1.00      1.00      1.00         4\n",
            "           3       1.00      1.00      1.00         3\n",
            "\n",
            "    accuracy                           0.95        22\n",
            "   macro avg       0.96      0.97      0.97        22\n",
            "weighted avg       0.96      0.95      0.95        22\n",
            "\n"
          ]
        },
        {
          "output_type": "display_data",
          "data": {
            "image/png": "[encoded data removed]",
            "text/plain": [
              "<Figure size 432x288 with 2 Axes>"
            ]
          },
          "metadata": {
            "needs_background": "light"
          }
        }
      ]
    },
    {
      "cell_type": "markdown",
      "source": [
        "FEATURE IMPORTANT HASIL KLASIFIKASI - RESAMPLING"
      ],
      "metadata": {
        "id": "fIIfcCFroc9h"
      }
    },
    {
      "cell_type": "code",
      "source": [
        "lgb.plot_importance(gbm_smotenc)\n",
        "lgb.plot_tree(gbm_smotenc)\n"
      ],
      "metadata": {
        "colab": {
          "base_uri": "https://localhost:8080/",
          "height": 413
        },
        "id": "KAkIeP_Foj1P",
        "outputId": "62374160-5c70-49fc-81d5-6c9c4d2d319e"
      },
      "execution_count": 39,
      "outputs": [
        {
          "output_type": "execute_result",
          "data": {
            "text/plain": [
              "<matplotlib.axes._subplots.AxesSubplot at 0x7f745d98fed0>"
            ]
          },
          "metadata": {},
          "execution_count": 39
        },
        {
          "output_type": "display_data",
          "data": {
            "image/png": "[encoded data removed]",
            "text/plain": [
              "<Figure size 432x288 with 1 Axes>"
            ]
          },
          "metadata": {
            "needs_background": "light"
          }
        },
        {
          "output_type": "display_data",
          "data": {
            "image/png": "[encoded data removed]",
            "text/plain": [
              "<Figure size 432x288 with 1 Axes>"
            ]
          },
          "metadata": {
            "needs_background": "light"
          }
        }
      ]
    },
    {
      "cell_type": "markdown",
      "source": [
        "**ROC-AUC - AFTER RESAMPLING**"
      ],
      "metadata": {
        "id": "7z4nTDFjo27-"
      }
    },
    {
      "cell_type": "code",
      "source": [
        "clf_smotenc = lgb.LGBMClassifier(boosting_type='gbdt', objective='multiclass',\n",
        "                         colsample_bytree=1.0, n_estimators=100,\n",
        "                         num_class=4, metric='multi_logloss', learning_rate = 0.1, max_depth = 1, num_leaves = 4)"
      ],
      "metadata": {
        "id": "oCY49t6ko28A"
      },
      "execution_count": 40,
      "outputs": []
    },
    {
      "cell_type": "markdown",
      "source": [
        "HASIL PROBS"
      ],
      "metadata": {
        "id": "xs9nH11go28B"
      }
    },
    {
      "cell_type": "code",
      "source": [
        "y_prob_smotenc = clf_smotenc.fit(x_smotenc, y_smotenc).predict_proba(X_test)\n",
        "ybin_smotenc = label_binarize(y_test, classes=[0, 1, 2, 3])\n",
        "n_classes = ybin_smotenc.shape[1]\n"
      ],
      "metadata": {
        "id": "-6G_rh4Eo28C"
      },
      "execution_count": 41,
      "outputs": []
    },
    {
      "cell_type": "code",
      "source": [
        "# Compute ROC curve and ROC area for each class\n",
        "fpr = dict()\n",
        "tpr = dict()\n",
        "roc_auc = dict()\n",
        "for i in range(n_classes):\n",
        "    fpr[i], tpr[i], _ = roc_curve(ybin_smotenc[:, i], y_prob_smotenc[:, i])\n",
        "    roc_auc[i] = auc(fpr[i], tpr[i])\n",
        "\n",
        "# Compute micro-average ROC curve and ROC area\n",
        "fpr[\"micro\"], tpr[\"micro\"], _ = roc_curve(ybin_smotenc.ravel(), y_prob_smotenc.ravel())\n",
        "roc_auc[\"micro\"] = auc(fpr[\"micro\"], tpr[\"micro\"])\n",
        "\n",
        "plt.figure()\n",
        "lw = 2\n",
        "plt.plot(fpr[2], tpr[2], color='darkorange',\n",
        "         lw=lw, label='ROC curve (area = %0.2f)' % roc_auc[2])\n",
        "plt.plot([0, 1], [0, 1], color='navy', lw=lw, linestyle='--')\n",
        "plt.xlim([0.0, 1.0])\n",
        "plt.ylim([0.0, 1.05])\n",
        "plt.xlabel('False Positive Rate')\n",
        "plt.ylabel('True Positive Rate')\n",
        "plt.title('Receiver operating characteristic example')\n",
        "plt.legend(loc=\"lower right\")\n",
        "plt.show()"
      ],
      "metadata": {
        "colab": {
          "base_uri": "https://localhost:8080/",
          "height": 295
        },
        "id": "dBlBjbIQo28D",
        "outputId": "50061b80-b1bb-42e1-ac38-d68a95635ba7"
      },
      "execution_count": 42,
      "outputs": [
        {
          "output_type": "display_data",
          "data": {
            "image/png": "[encoded data removed]",
            "text/plain": [
              "<Figure size 432x288 with 1 Axes>"
            ]
          },
          "metadata": {
            "needs_background": "light"
          }
        }
      ]
    },
    {
      "cell_type": "code",
      "source": [
        "# First aggregate all false positive rates\n",
        "all_fpr = np.unique(np.concatenate([fpr[i] for i in range(n_classes)]))\n",
        "\n",
        "# Then interpolate all ROC curves at this points\n",
        "mean_tpr = np.zeros_like(all_fpr)\n",
        "for i in range(n_classes):\n",
        "    mean_tpr += interp(all_fpr, fpr[i], tpr[i])\n",
        "\n",
        "# Finally average it and compute AUC\n",
        "mean_tpr /= n_classes\n",
        "\n",
        "fpr[\"macro\"] = all_fpr\n",
        "tpr[\"macro\"] = mean_tpr\n",
        "roc_auc[\"macro\"] = auc(fpr[\"macro\"], tpr[\"macro\"])\n",
        "\n",
        "# Plot all ROC curves\n",
        "plt.figure()\n",
        "plt.plot(fpr[\"micro\"], tpr[\"micro\"],\n",
        "         label='micro-average ROC curve (area = {0:0.2f})'\n",
        "               ''.format(roc_auc[\"micro\"]),\n",
        "         color='deeppink', linestyle=':', linewidth=4)\n",
        "\n",
        "plt.plot(fpr[\"macro\"], tpr[\"macro\"],\n",
        "         label='macro-average ROC curve (area = {0:0.2f})'\n",
        "               ''.format(roc_auc[\"macro\"]),\n",
        "         color='navy', linestyle=':', linewidth=4)\n",
        "\n",
        "colors = cycle(['aqua', 'darkorange', 'cornflowerblue', 'red'])\n",
        "for i, color in zip(range(n_classes), colors):\n",
        "    plt.plot(fpr[i], tpr[i], color=color, lw=lw,\n",
        "             label='ROC curve of class {0} (area = {1:0.2f})'\n",
        "             ''.format(i, roc_auc[i]))\n",
        "\n",
        "plt.plot([0, 1], [0, 1], 'k--', lw=lw)\n",
        "plt.xlim([0.0, 1.0])\n",
        "plt.ylim([0.0, 1.05])\n",
        "plt.xlabel('False Positive Rate')\n",
        "plt.ylabel('True Positive Rate')\n",
        "plt.title('Plot ROC Model LightGBM setelah resampling')\n",
        "plt.legend(loc=\"lower right\")\n",
        "plt.show()"
      ],
      "metadata": {
        "colab": {
          "base_uri": "https://localhost:8080/",
          "height": 350
        },
        "id": "_2k91hT2o28E",
        "outputId": "1625af97-90b6-4bff-b937-017c52b5e012"
      },
      "execution_count": 43,
      "outputs": [
        {
          "output_type": "stream",
          "name": "stderr",
          "text": [
            "/usr/local/lib/python3.7/dist-packages/ipykernel_launcher.py:7: DeprecationWarning: scipy.interp is deprecated and will be removed in SciPy 2.0.0, use numpy.interp instead\n",
            "  import sys\n"
          ]
        },
        {
          "output_type": "display_data",
          "data": {
            "image/png": "[encoded data removed]",
            "text/plain": [
              "<Figure size 432x288 with 1 Axes>"
            ]
          },
          "metadata": {
            "needs_background": "light"
          }
        }
      ]
    },
    {
      "cell_type": "markdown",
      "source": [
        " **BANDINGKAN HASIL ORIGINAL DENGAN RESAMPLING**"
      ],
      "metadata": {
        "id": "mSfjFjbSt08o"
      }
    },
    {
      "cell_type": "code",
      "source": [
        "#ORIGINAL\n",
        "predict_grid = gs.predict(X_test)\n",
        "print(\"nilai f-1 score     : %0.3f\"% metrics.f1_score(y_test, predict_grid, average='macro'))\n",
        "print(\"nilai akurasi        : %0.3f\"% metrics.accuracy_score(y_test, predict_grid))\n",
        "\n",
        "print('Original Results:',classification_report(y_test, predict_grid))\n",
        "print(confusion_matrix(y_test, predict_grid))\n",
        "print('Akurasi Original Result = ', accuracy_score(y_test, predict_grid))"
      ],
      "metadata": {
        "colab": {
          "base_uri": "https://localhost:8080/"
        },
        "id": "A9Mt70syt5v2",
        "outputId": "0a67cf10-f427-475b-ca0f-39016c5dcc9f"
      },
      "execution_count": 44,
      "outputs": [
        {
          "output_type": "stream",
          "name": "stdout",
          "text": [
            "nilai f-1 score     : 0.966\n",
            "nilai akurasi        : 0.955\n",
            "Original Results:               precision    recall  f1-score   support\n",
            "\n",
            "           0       0.86      1.00      0.92         6\n",
            "           1       1.00      0.89      0.94         9\n",
            "           2       1.00      1.00      1.00         4\n",
            "           3       1.00      1.00      1.00         3\n",
            "\n",
            "    accuracy                           0.95        22\n",
            "   macro avg       0.96      0.97      0.97        22\n",
            "weighted avg       0.96      0.95      0.95        22\n",
            "\n",
            "[[6 0 0 0]\n",
            " [1 8 0 0]\n",
            " [0 0 4 0]\n",
            " [0 0 0 3]]\n",
            "Akurasi Original Result =  0.9545454545454546\n"
          ]
        }
      ]
    },
    {
      "cell_type": "code",
      "source": [
        "#SMOTENC\n",
        "predict_grid_smotenc = gs_smotenc.predict(X_test)\n",
        "print(\"nilai f-1 score AFTER SMOTENC     : %0.3f\"% metrics.f1_score(y_test, predict_grid_smotenc, average='macro'))\n",
        "print(\"nilai akurasi AFTER SMOTENC        : %0.3f\"% metrics.accuracy_score(y_test, predict_grid_smotenc))\n",
        "\n",
        "print('Combination SMOTENC Results:',classification_report_imbalanced(y_test, predict_grid_smotenc))\n",
        "print(confusion_matrix(y_test, predict_grid_smotenc))\n",
        "print('Akurasi Combination SMOTENC = ', accuracy_score(y_test, predict_grid_smotenc))"
      ],
      "metadata": {
        "colab": {
          "base_uri": "https://localhost:8080/"
        },
        "outputId": "3dfb78b8-f254-4714-d432-1ba319f43d6b",
        "id": "skCijmcsuCn0"
      },
      "execution_count": 45,
      "outputs": [
        {
          "output_type": "stream",
          "name": "stdout",
          "text": [
            "nilai f-1 score AFTER SMOTENC     : 0.966\n",
            "nilai akurasi AFTER SMOTENC        : 0.955\n",
            "Combination SMOTENC Results:                    pre       rec       spe        f1       geo       iba       sup\n",
            "\n",
            "          0       0.86      1.00      0.94      0.92      0.97      0.94         6\n",
            "          1       1.00      0.89      1.00      0.94      0.94      0.88         9\n",
            "          2       1.00      1.00      1.00      1.00      1.00      1.00         4\n",
            "          3       1.00      1.00      1.00      1.00      1.00      1.00         3\n",
            "\n",
            "avg / total       0.96      0.95      0.98      0.95      0.97      0.94        22\n",
            "\n",
            "[[6 0 0 0]\n",
            " [1 8 0 0]\n",
            " [0 0 4 0]\n",
            " [0 0 0 3]]\n",
            "Akurasi Combination SMOTENC =  0.9545454545454546\n"
          ]
        }
      ]
    },
    {
      "cell_type": "markdown",
      "source": [
        "**ROC-AUC ORIGINAL - SMOTENC (PERBANDINGAN)**"
      ],
      "metadata": {
        "id": "QOrBK3Qwun1B"
      }
    },
    {
      "cell_type": "code",
      "source": [
        "#ORIGINAL\n",
        "y_prob = clf.fit(X_train, y_train).predict_proba(X_test)\n",
        "y_prob = y_prob[:, 1]\n",
        "fpr, tpr, thresholds = roc_curve(y_test, y_prob)\n",
        "roc_auc = auc(fpr, tpr)\n",
        "\n",
        "#smotenc\n",
        "y_prob_smotenc = clf.fit(x_smotenc, y_smotenc).predict_proba(X_test)\n",
        "y_prob_smotenc = y_prob_smotenc[:, 1]\n",
        "fpr, tpr, thresholds = roc_curve(y_test, y_prob_smotenc)\n",
        "roc_auc = auc(fpr, tpr)\n",
        "\n",
        "probslgb=[y_prob, y_prob_smotenc]\n",
        "models=[\"LIGTGBM sebelum sampling\", \"LIGTGBM SMOTENC\"]\n",
        "\n",
        "plt.figure(figsize=(10,7))\n",
        "for idx,m in enumerate(models):\n",
        "    \n",
        "# Compute False postive rate, and True positive rate\n",
        "    fpr, tpr, thresholds = metrics.roc_curve(y_test, probslgb[idx])\n",
        "# Calculate Area under the curve to display on the plot\n",
        "    roc_auc = auc(fpr, tpr)\n",
        "# Now, plot the computed values\n",
        "    plt.plot(fpr, tpr, label='%s ROC (AUC = %0.2f)' % (m, roc_auc))\n",
        "# Custom settings for the plot \n",
        "plt.plot([0, 1], [0, 1],'r--')\n",
        "plt.xlim([0.0, 1.0])\n",
        "plt.ylim([0.0, 1.05])\n",
        "plt.xlabel('1-Specificity(False Positive Rate)')\n",
        "plt.ylabel('Sensitivity(True Positive Rate)')\n",
        "plt.title('Receiver Operating Characteristic')\n",
        "plt.legend(loc=\"lower right\")\n",
        "plt.show()   # Display\n"
      ],
      "metadata": {
        "colab": {
          "base_uri": "https://localhost:8080/",
          "height": 381
        },
        "id": "LfImr1KqvTxV",
        "outputId": "b4cf6ea2-3d46-487f-999f-70c5adad0793"
      },
      "execution_count": 46,
      "outputs": [
        {
          "output_type": "error",
          "ename": "ValueError",
          "evalue": "ignored",
          "traceback": [
            "\u001b[0;31m---------------------------------------------------------------------------\u001b[0m",
            "\u001b[0;31mValueError\u001b[0m                                Traceback (most recent call last)",
            "\u001b[0;32m<ipython-input-46-2e0094c71da3>\u001b[0m in \u001b[0;36m<module>\u001b[0;34m()\u001b[0m\n\u001b[1;32m      2\u001b[0m \u001b[0my_prob\u001b[0m \u001b[0;34m=\u001b[0m \u001b[0mclf\u001b[0m\u001b[0;34m.\u001b[0m\u001b[0mfit\u001b[0m\u001b[0;34m(\u001b[0m\u001b[0mX_train\u001b[0m\u001b[0;34m,\u001b[0m \u001b[0my_train\u001b[0m\u001b[0;34m)\u001b[0m\u001b[0;34m.\u001b[0m\u001b[0mpredict_proba\u001b[0m\u001b[0;34m(\u001b[0m\u001b[0mX_test\u001b[0m\u001b[0;34m)\u001b[0m\u001b[0;34m\u001b[0m\u001b[0;34m\u001b[0m\u001b[0m\n\u001b[1;32m      3\u001b[0m \u001b[0my_prob\u001b[0m \u001b[0;34m=\u001b[0m \u001b[0my_prob\u001b[0m\u001b[0;34m[\u001b[0m\u001b[0;34m:\u001b[0m\u001b[0;34m,\u001b[0m \u001b[0;36m1\u001b[0m\u001b[0;34m]\u001b[0m\u001b[0;34m\u001b[0m\u001b[0;34m\u001b[0m\u001b[0m\n\u001b[0;32m----> 4\u001b[0;31m \u001b[0mfpr\u001b[0m\u001b[0;34m,\u001b[0m \u001b[0mtpr\u001b[0m\u001b[0;34m,\u001b[0m \u001b[0mthresholds\u001b[0m \u001b[0;34m=\u001b[0m \u001b[0mroc_curve\u001b[0m\u001b[0;34m(\u001b[0m\u001b[0my_test\u001b[0m\u001b[0;34m,\u001b[0m \u001b[0my_prob\u001b[0m\u001b[0;34m)\u001b[0m\u001b[0;34m\u001b[0m\u001b[0;34m\u001b[0m\u001b[0m\n\u001b[0m\u001b[1;32m      5\u001b[0m \u001b[0mroc_auc\u001b[0m \u001b[0;34m=\u001b[0m \u001b[0mauc\u001b[0m\u001b[0;34m(\u001b[0m\u001b[0mfpr\u001b[0m\u001b[0;34m,\u001b[0m \u001b[0mtpr\u001b[0m\u001b[0;34m)\u001b[0m\u001b[0;34m\u001b[0m\u001b[0;34m\u001b[0m\u001b[0m\n\u001b[1;32m      6\u001b[0m \u001b[0;34m\u001b[0m\u001b[0m\n",
            "\u001b[0;32m/usr/local/lib/python3.7/dist-packages/sklearn/metrics/_ranking.py\u001b[0m in \u001b[0;36mroc_curve\u001b[0;34m(y_true, y_score, pos_label, sample_weight, drop_intermediate)\u001b[0m\n\u001b[1;32m    961\u001b[0m     \"\"\"\n\u001b[1;32m    962\u001b[0m     fps, tps, thresholds = _binary_clf_curve(\n\u001b[0;32m--> 963\u001b[0;31m         \u001b[0my_true\u001b[0m\u001b[0;34m,\u001b[0m \u001b[0my_score\u001b[0m\u001b[0;34m,\u001b[0m \u001b[0mpos_label\u001b[0m\u001b[0;34m=\u001b[0m\u001b[0mpos_label\u001b[0m\u001b[0;34m,\u001b[0m \u001b[0msample_weight\u001b[0m\u001b[0;34m=\u001b[0m\u001b[0msample_weight\u001b[0m\u001b[0;34m\u001b[0m\u001b[0;34m\u001b[0m\u001b[0m\n\u001b[0m\u001b[1;32m    964\u001b[0m     )\n\u001b[1;32m    965\u001b[0m \u001b[0;34m\u001b[0m\u001b[0m\n",
            "\u001b[0;32m/usr/local/lib/python3.7/dist-packages/sklearn/metrics/_ranking.py\u001b[0m in \u001b[0;36m_binary_clf_curve\u001b[0;34m(y_true, y_score, pos_label, sample_weight)\u001b[0m\n\u001b[1;32m    729\u001b[0m     \u001b[0my_type\u001b[0m \u001b[0;34m=\u001b[0m \u001b[0mtype_of_target\u001b[0m\u001b[0;34m(\u001b[0m\u001b[0my_true\u001b[0m\u001b[0;34m)\u001b[0m\u001b[0;34m\u001b[0m\u001b[0;34m\u001b[0m\u001b[0m\n\u001b[1;32m    730\u001b[0m     \u001b[0;32mif\u001b[0m \u001b[0;32mnot\u001b[0m \u001b[0;34m(\u001b[0m\u001b[0my_type\u001b[0m \u001b[0;34m==\u001b[0m \u001b[0;34m\"binary\"\u001b[0m \u001b[0;32mor\u001b[0m \u001b[0;34m(\u001b[0m\u001b[0my_type\u001b[0m \u001b[0;34m==\u001b[0m \u001b[0;34m\"multiclass\"\u001b[0m \u001b[0;32mand\u001b[0m \u001b[0mpos_label\u001b[0m \u001b[0;32mis\u001b[0m \u001b[0;32mnot\u001b[0m \u001b[0;32mNone\u001b[0m\u001b[0;34m)\u001b[0m\u001b[0;34m)\u001b[0m\u001b[0;34m:\u001b[0m\u001b[0;34m\u001b[0m\u001b[0;34m\u001b[0m\u001b[0m\n\u001b[0;32m--> 731\u001b[0;31m         \u001b[0;32mraise\u001b[0m \u001b[0mValueError\u001b[0m\u001b[0;34m(\u001b[0m\u001b[0;34m\"{0} format is not supported\"\u001b[0m\u001b[0;34m.\u001b[0m\u001b[0mformat\u001b[0m\u001b[0;34m(\u001b[0m\u001b[0my_type\u001b[0m\u001b[0;34m)\u001b[0m\u001b[0;34m)\u001b[0m\u001b[0;34m\u001b[0m\u001b[0;34m\u001b[0m\u001b[0m\n\u001b[0m\u001b[1;32m    732\u001b[0m \u001b[0;34m\u001b[0m\u001b[0m\n\u001b[1;32m    733\u001b[0m     \u001b[0mcheck_consistent_length\u001b[0m\u001b[0;34m(\u001b[0m\u001b[0my_true\u001b[0m\u001b[0;34m,\u001b[0m \u001b[0my_score\u001b[0m\u001b[0;34m,\u001b[0m \u001b[0msample_weight\u001b[0m\u001b[0;34m)\u001b[0m\u001b[0;34m\u001b[0m\u001b[0;34m\u001b[0m\u001b[0m\n",
            "\u001b[0;31mValueError\u001b[0m: multiclass format is not supported"
          ]
        }
      ]
    }
  ]
}
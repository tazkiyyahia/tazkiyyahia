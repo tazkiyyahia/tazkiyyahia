{
  "nbformat": 4,
  "nbformat_minor": 0,
  "metadata": {
    "colab": {
      "name": "CANCER CLASSIFICATION MULTICLASS (ROC-AUC) NO FEATURE SELECTION.ipynb",
      "provenance": [],
      "collapsed_sections": [],
      "include_colab_link": true
    },
    "kernelspec": {
      "name": "python3",
      "display_name": "Python 3"
    },
    "language_info": {
      "name": "python"
    }
  },
  "cells": [
    {
      "cell_type": "markdown",
      "metadata": {
        "id": "view-in-github",
        "colab_type": "text"
      },
      "source": [
        "<a href=\"https://colab.research.google.com/github/tazkiyyahia/tazkiyyahia/blob/main/CANCER_CLASSIFICATION_MULTICLASS_(ROC_AUC)_NO_FEATURE_SELECTION.ipynb\" target=\"_parent\"><img src=\"https://colab.research.google.com/assets/colab-badge.svg\" alt=\"Open In Colab\"/></a>"
      ]
    },
    {
      "cell_type": "code",
      "execution_count": 1,
      "metadata": {
        "colab": {
          "resources": {
            "http://localhost:8080/nbextensions/google.colab/files.js": {
              "data": "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",
              "ok": true,
              "headers": [
                [
                  "content-type",
                  "application/javascript"
                ]
              ],
              "status": 200,
              "status_text": ""
            }
          },
          "base_uri": "https://localhost:8080/",
          "height": 73
        },
        "id": "oeFOWPsumdp3",
        "outputId": "a8655ed3-6c6d-4fd5-c4d0-b019a9a93cd2"
      },
      "outputs": [
        {
          "output_type": "display_data",
          "data": {
            "text/html": [
              "\n",
              "     <input type=\"file\" id=\"files-ce1419c6-4b70-4db1-a19b-8b59a8bc77c4\" name=\"files[]\" multiple disabled\n",
              "        style=\"border:none\" />\n",
              "     <output id=\"result-ce1419c6-4b70-4db1-a19b-8b59a8bc77c4\">\n",
              "      Upload widget is only available when the cell has been executed in the\n",
              "      current browser session. Please rerun this cell to enable.\n",
              "      </output>\n",
              "      <script src=\"/nbextensions/google.colab/files.js\"></script> "
            ],
            "text/plain": [
              "<IPython.core.display.HTML object>"
            ]
          },
          "metadata": {}
        },
        {
          "output_type": "stream",
          "name": "stdout",
          "text": [
            "Saving data6275fitur.csv to data6275fitur.csv\n"
          ]
        }
      ],
      "source": [
        "from google.colab import files\n",
        "uploaded=files.upload()"
      ]
    },
    {
      "cell_type": "markdown",
      "source": [
        "INSTALL ALL MODULES&PACKAGES"
      ],
      "metadata": {
        "id": "xJXM0YhhmjRu"
      }
    },
    {
      "cell_type": "code",
      "source": [
        "import pandas as pd\n",
        "from sklearn.metrics import plot_confusion_matrix\n",
        "from sklearn.metrics import plot_precision_recall_curve\n",
        "from sklearn.metrics import plot_roc_curve\n",
        "from sklearn.metrics import precision_recall_fscore_support\n",
        "import numpy as np\n",
        "from collections import Counter\n",
        "import lightgbm as lgb\n",
        "import matplotlib.pyplot as plt\n",
        "import seaborn as sns\n",
        "from sklearn.model_selection import train_test_split\n",
        "from sklearn.preprocessing import StandardScaler\n",
        "from sklearn.ensemble import GradientBoostingClassifier\n",
        "from sklearn.metrics import accuracy_score\n",
        "from sklearn.metrics import make_scorer\n",
        "from sklearn.model_selection import cross_validate\n",
        "from sklearn.metrics import classification_report\n",
        "from sklearn.metrics import confusion_matrix\n",
        "from sklearn.model_selection import GridSearchCV, RandomizedSearchCV, cross_val_score, train_test_split  \n",
        "from sklearn.model_selection import KFold\n",
        "from lightgbm import LGBMClassifier\n",
        "from lightgbm import LGBMModel\n",
        "from lightgbm import LGBMRanker \n",
        "from sklearn.metrics import roc_auc_score\n",
        "from sklearn.preprocessing import LabelEncoder\n",
        "from sklearn.model_selection import GridSearchCV\n",
        "from sklearn.model_selection import ShuffleSplit\n",
        "from sklearn import metrics\n",
        "import sklearn.metrics as metrics\n",
        "from itertools import cycle\n",
        "from sklearn import svm, datasets\n",
        "from sklearn.metrics import roc_curve, auc\n",
        "from sklearn.preprocessing import label_binarize\n",
        "from sklearn.multiclass import OneVsRestClassifier\n",
        "from scipy import interp\n",
        "from numpy import sqrt\n",
        "from numpy import argmax\n",
        "from sklearn.datasets import make_classification\n",
        "from sklearn.linear_model import LogisticRegression\n",
        "from sklearn.metrics import roc_curve\n",
        "from matplotlib import pyplot\n",
        "from imblearn.under_sampling import RandomUnderSampler\n",
        "import warnings\n",
        "warnings.simplefilter(action='ignore', category=FutureWarning)\n",
        "from imblearn.over_sampling import SMOTENC\n",
        "from imblearn.metrics import classification_report_imbalanced\n"
      ],
      "metadata": {
        "id": "7SIo-fxtpISp"
      },
      "execution_count": 2,
      "outputs": []
    },
    {
      "cell_type": "code",
      "source": [
        "from sklearn.metrics import precision_recall_curve"
      ],
      "metadata": {
        "id": "p3wWGdBLrkuX"
      },
      "execution_count": 3,
      "outputs": []
    },
    {
      "cell_type": "markdown",
      "source": [
        "DATASET"
      ],
      "metadata": {
        "id": "SWU0Mi4jpdCV"
      }
    },
    {
      "cell_type": "code",
      "source": [
        "df = pd.read_csv('data6275fitur.csv')\n",
        "df.head()\n",
        "df.shape"
      ],
      "metadata": {
        "colab": {
          "base_uri": "https://localhost:8080/"
        },
        "id": "Trf02KswqETV",
        "outputId": "d0db1610-f1ee-4cc6-de9e-3ae5ffc554ec"
      },
      "execution_count": 4,
      "outputs": [
        {
          "output_type": "execute_result",
          "data": {
            "text/plain": [
              "(73, 6275)"
            ]
          },
          "metadata": {},
          "execution_count": 4
        }
      ]
    },
    {
      "cell_type": "markdown",
      "source": [
        "MENDEFINISIKAN CATEGORICAL FEATURE UNTUK LIGHTGBM"
      ],
      "metadata": {
        "id": "9lofoW6lqKxo"
      }
    },
    {
      "cell_type": "code",
      "source": [
        "cols = [\"ethnic.ch1\",\"m.stage.ch1\",\"Sex.ch1\"]\n",
        "for item in cols:\n",
        "    df[item] = df[item].astype(\"category\").cat.codes +1\n",
        "\n"
      ],
      "metadata": {
        "id": "1RXnzwHiqHs0"
      },
      "execution_count": 5,
      "outputs": []
    },
    {
      "cell_type": "markdown",
      "source": [
        "LABEL ENCODER"
      ],
      "metadata": {
        "id": "RfC6IUwgqbDz"
      }
    },
    {
      "cell_type": "code",
      "source": [
        "labelencoder=LabelEncoder()\n",
        "df['class'] = labelencoder.fit_transform(df['subgroup.ch1'])\n",
        "df[[\"subgroup.ch1\",\"class\"]]\n",
        "\n",
        "#df_y=df[[\"subgroup.ch1\",\"class\"]]\n",
        "#df_y.to_csv('data Y.csv', index=False)\n",
        "#downloaded=files.download('data Y.csv')"
      ],
      "metadata": {
        "colab": {
          "base_uri": "https://localhost:8080/",
          "height": 423
        },
        "id": "HsSb0yRhqaXU",
        "outputId": "cdf80c37-a536-491c-cd36-6ac6f0f19752"
      },
      "execution_count": 6,
      "outputs": [
        {
          "output_type": "execute_result",
          "data": {
            "text/html": [
              "\n",
              "  <div id=\"df-45058a8b-e01a-4fd9-94e0-e918d4f1316d\">\n",
              "    <div class=\"colab-df-container\">\n",
              "      <div>\n",
              "<style scoped>\n",
              "    .dataframe tbody tr th:only-of-type {\n",
              "        vertical-align: middle;\n",
              "    }\n",
              "\n",
              "    .dataframe tbody tr th {\n",
              "        vertical-align: top;\n",
              "    }\n",
              "\n",
              "    .dataframe thead th {\n",
              "        text-align: right;\n",
              "    }\n",
              "</style>\n",
              "<table border=\"1\" class=\"dataframe\">\n",
              "  <thead>\n",
              "    <tr style=\"text-align: right;\">\n",
              "      <th></th>\n",
              "      <th>subgroup.ch1</th>\n",
              "      <th>class</th>\n",
              "    </tr>\n",
              "  </thead>\n",
              "  <tbody>\n",
              "    <tr>\n",
              "      <th>0</th>\n",
              "      <td>G3</td>\n",
              "      <td>0</td>\n",
              "    </tr>\n",
              "    <tr>\n",
              "      <th>1</th>\n",
              "      <td>G3</td>\n",
              "      <td>0</td>\n",
              "    </tr>\n",
              "    <tr>\n",
              "      <th>2</th>\n",
              "      <td>G3</td>\n",
              "      <td>0</td>\n",
              "    </tr>\n",
              "    <tr>\n",
              "      <th>3</th>\n",
              "      <td>G3</td>\n",
              "      <td>0</td>\n",
              "    </tr>\n",
              "    <tr>\n",
              "      <th>4</th>\n",
              "      <td>G3</td>\n",
              "      <td>0</td>\n",
              "    </tr>\n",
              "    <tr>\n",
              "      <th>...</th>\n",
              "      <td>...</td>\n",
              "      <td>...</td>\n",
              "    </tr>\n",
              "    <tr>\n",
              "      <th>68</th>\n",
              "      <td>SHH</td>\n",
              "      <td>2</td>\n",
              "    </tr>\n",
              "    <tr>\n",
              "      <th>69</th>\n",
              "      <td>SHH</td>\n",
              "      <td>2</td>\n",
              "    </tr>\n",
              "    <tr>\n",
              "      <th>70</th>\n",
              "      <td>WNT</td>\n",
              "      <td>3</td>\n",
              "    </tr>\n",
              "    <tr>\n",
              "      <th>71</th>\n",
              "      <td>WNT</td>\n",
              "      <td>3</td>\n",
              "    </tr>\n",
              "    <tr>\n",
              "      <th>72</th>\n",
              "      <td>WNT</td>\n",
              "      <td>3</td>\n",
              "    </tr>\n",
              "  </tbody>\n",
              "</table>\n",
              "<p>73 rows × 2 columns</p>\n",
              "</div>\n",
              "      <button class=\"colab-df-convert\" onclick=\"convertToInteractive('df-45058a8b-e01a-4fd9-94e0-e918d4f1316d')\"\n",
              "              title=\"Convert this dataframe to an interactive table.\"\n",
              "              style=\"display:none;\">\n",
              "        \n",
              "  <svg xmlns=\"http://www.w3.org/2000/svg\" height=\"24px\"viewBox=\"0 0 24 24\"\n",
              "       width=\"24px\">\n",
              "    <path d=\"M0 0h24v24H0V0z\" fill=\"none\"/>\n",
              "    <path d=\"M18.56 5.44l.94 2.06.94-2.06 2.06-.94-2.06-.94-.94-2.06-.94 2.06-2.06.94zm-11 1L8.5 8.5l.94-2.06 2.06-.94-2.06-.94L8.5 2.5l-.94 2.06-2.06.94zm10 10l.94 2.06.94-2.06 2.06-.94-2.06-.94-.94-2.06-.94 2.06-2.06.94z\"/><path d=\"M17.41 7.96l-1.37-1.37c-.4-.4-.92-.59-1.43-.59-.52 0-1.04.2-1.43.59L10.3 9.45l-7.72 7.72c-.78.78-.78 2.05 0 2.83L4 21.41c.39.39.9.59 1.41.59.51 0 1.02-.2 1.41-.59l7.78-7.78 2.81-2.81c.8-.78.8-2.07 0-2.86zM5.41 20L4 18.59l7.72-7.72 1.47 1.35L5.41 20z\"/>\n",
              "  </svg>\n",
              "      </button>\n",
              "      \n",
              "  <style>\n",
              "    .colab-df-container {\n",
              "      display:flex;\n",
              "      flex-wrap:wrap;\n",
              "      gap: 12px;\n",
              "    }\n",
              "\n",
              "    .colab-df-convert {\n",
              "      background-color: #E8F0FE;\n",
              "      border: none;\n",
              "      border-radius: 50%;\n",
              "      cursor: pointer;\n",
              "      display: none;\n",
              "      fill: #1967D2;\n",
              "      height: 32px;\n",
              "      padding: 0 0 0 0;\n",
              "      width: 32px;\n",
              "    }\n",
              "\n",
              "    .colab-df-convert:hover {\n",
              "      background-color: #E2EBFA;\n",
              "      box-shadow: 0px 1px 2px rgba(60, 64, 67, 0.3), 0px 1px 3px 1px rgba(60, 64, 67, 0.15);\n",
              "      fill: #174EA6;\n",
              "    }\n",
              "\n",
              "    [theme=dark] .colab-df-convert {\n",
              "      background-color: #3B4455;\n",
              "      fill: #D2E3FC;\n",
              "    }\n",
              "\n",
              "    [theme=dark] .colab-df-convert:hover {\n",
              "      background-color: #434B5C;\n",
              "      box-shadow: 0px 1px 3px 1px rgba(0, 0, 0, 0.15);\n",
              "      filter: drop-shadow(0px 1px 2px rgba(0, 0, 0, 0.3));\n",
              "      fill: #FFFFFF;\n",
              "    }\n",
              "  </style>\n",
              "\n",
              "      <script>\n",
              "        const buttonEl =\n",
              "          document.querySelector('#df-45058a8b-e01a-4fd9-94e0-e918d4f1316d button.colab-df-convert');\n",
              "        buttonEl.style.display =\n",
              "          google.colab.kernel.accessAllowed ? 'block' : 'none';\n",
              "\n",
              "        async function convertToInteractive(key) {\n",
              "          const element = document.querySelector('#df-45058a8b-e01a-4fd9-94e0-e918d4f1316d');\n",
              "          const dataTable =\n",
              "            await google.colab.kernel.invokeFunction('convertToInteractive',\n",
              "                                                     [key], {});\n",
              "          if (!dataTable) return;\n",
              "\n",
              "          const docLinkHtml = 'Like what you see? Visit the ' +\n",
              "            '<a target=\"_blank\" href=https://colab.research.google.com/notebooks/data_table.ipynb>data table notebook</a>'\n",
              "            + ' to learn more about interactive tables.';\n",
              "          element.innerHTML = '';\n",
              "          dataTable['output_type'] = 'display_data';\n",
              "          await google.colab.output.renderOutput(dataTable, element);\n",
              "          const docLink = document.createElement('div');\n",
              "          docLink.innerHTML = docLinkHtml;\n",
              "          element.appendChild(docLink);\n",
              "        }\n",
              "      </script>\n",
              "    </div>\n",
              "  </div>\n",
              "  "
            ],
            "text/plain": [
              "   subgroup.ch1  class\n",
              "0            G3      0\n",
              "1            G3      0\n",
              "2            G3      0\n",
              "3            G3      0\n",
              "4            G3      0\n",
              "..          ...    ...\n",
              "68          SHH      2\n",
              "69          SHH      2\n",
              "70          WNT      3\n",
              "71          WNT      3\n",
              "72          WNT      3\n",
              "\n",
              "[73 rows x 2 columns]"
            ]
          },
          "metadata": {},
          "execution_count": 6
        }
      ]
    },
    {
      "cell_type": "markdown",
      "source": [
        "FEATURE&CLASS"
      ],
      "metadata": {
        "id": "JViFbZ9xquFu"
      }
    },
    {
      "cell_type": "code",
      "source": [
        "sns.displot(df, x=\"subgroup.ch1\")\n",
        "X = df.drop(['subgroup.ch1','class'], axis=1)\n",
        "Y = df['class']\n",
        "Y.shape"
      ],
      "metadata": {
        "colab": {
          "base_uri": "https://localhost:8080/",
          "height": 387
        },
        "id": "GFcGSU7Lq4XT",
        "outputId": "cd645fe1-1557-4cff-d516-8fab65ba9072"
      },
      "execution_count": 7,
      "outputs": [
        {
          "output_type": "execute_result",
          "data": {
            "text/plain": [
              "(73,)"
            ]
          },
          "metadata": {},
          "execution_count": 7
        },
        {
          "output_type": "display_data",
          "data": {
            "image/png": "[encoded data removed]",
            "text/plain": [
              "<Figure size 360x360 with 1 Axes>"
            ]
          },
          "metadata": {
            "needs_background": "light"
          }
        }
      ]
    },
    {
      "cell_type": "markdown",
      "source": [
        "TRAINING-TESTING (70-30%)"
      ],
      "metadata": {
        "id": "D4ql2sQ4rT4q"
      }
    },
    {
      "cell_type": "code",
      "source": [
        "X_train, X_test, y_train, y_test = train_test_split(X, Y, test_size=0.3, random_state=24)\n",
        "print(X_train.shape)\n",
        "print(X_test.shape)\n",
        "print(y_test.shape)\n",
        "print(y_train.shape)\n",
        "print('Train size :',X_train.shape, y_train.shape)\n",
        "print('Test size  :', X_test.shape, y_test.shape)"
      ],
      "metadata": {
        "colab": {
          "base_uri": "https://localhost:8080/"
        },
        "id": "AHiLtxixrBar",
        "outputId": "7d9f54d6-bb39-4ec6-bb61-d4eb9f5d33f7"
      },
      "execution_count": 8,
      "outputs": [
        {
          "output_type": "stream",
          "name": "stdout",
          "text": [
            "(51, 6274)\n",
            "(22, 6274)\n",
            "(22,)\n",
            "(51,)\n",
            "Train size : (51, 6274) (51,)\n",
            "Test size  : (22, 6274) (22,)\n"
          ]
        }
      ]
    },
    {
      "cell_type": "markdown",
      "source": [
        "MELIHAT JUMLAH MASING-MASING KELAS"
      ],
      "metadata": {
        "id": "PnnsE5jTr9pI"
      }
    },
    {
      "cell_type": "code",
      "source": [
        "y_train_ = pd.DataFrame(data=y_train,columns=['class'])\n",
        "sns.displot(y_train_, x=\"class\")"
      ],
      "metadata": {
        "colab": {
          "base_uri": "https://localhost:8080/",
          "height": 387
        },
        "id": "J5csNffjsCy4",
        "outputId": "ef903a7a-294c-4d9a-e62f-0419bde271dc"
      },
      "execution_count": 9,
      "outputs": [
        {
          "output_type": "execute_result",
          "data": {
            "text/plain": [
              "<seaborn.axisgrid.FacetGrid at 0x7f56571cf1d0>"
            ]
          },
          "metadata": {},
          "execution_count": 9
        },
        {
          "output_type": "display_data",
          "data": {
            "image/png": "[encoded data removed]",
            "text/plain": [
              "<Figure size 360x360 with 1 Axes>"
            ]
          },
          "metadata": {
            "needs_background": "light"
          }
        }
      ]
    },
    {
      "cell_type": "markdown",
      "source": [
        "MODEL LIGHTGBM TANPA RESAMPLING"
      ],
      "metadata": {
        "id": "7jx30BNmsH9y"
      }
    },
    {
      "cell_type": "code",
      "source": [
        "param_dict = {\n",
        "    'num_leaves': [4, 8, 12, 20],\n",
        "    'max_depth': [1,2,3,4,5,6,7,8],\n",
        "    'learning_rate':[0.1,0.3,0.5,0.7,0.9]\n",
        "    }\n",
        "\n",
        "\n",
        "clf = lgb.LGBMClassifier(boosting_type='gbdt', objective='multiclass',\n",
        "                         colsample_bytree=1.0, n_estimators=100,\n",
        "                         num_class=4, metric='multi_logloss')\n",
        "\n",
        "gs=GridSearchCV(clf, param_dict, scoring='accuracy', verbose=1,cv=5, n_jobs=1)\n",
        "gs.fit(X_train,y_train)\n",
        "gs.best_params_\n",
        "gs.best_score_\n",
        "gs.best_estimator_"
      ],
      "metadata": {
        "colab": {
          "base_uri": "https://localhost:8080/"
        },
        "id": "eZCYSrR8sXbZ",
        "outputId": "7e8a3bba-84cb-4747-9048-c8e1f2072ba9"
      },
      "execution_count": 10,
      "outputs": [
        {
          "output_type": "stream",
          "name": "stdout",
          "text": [
            "Fitting 5 folds for each of 160 candidates, totalling 800 fits\n"
          ]
        },
        {
          "output_type": "execute_result",
          "data": {
            "text/plain": [
              "LGBMClassifier(max_depth=1, metric='multi_logloss', num_class=4, num_leaves=4,\n",
              "               objective='multiclass')"
            ]
          },
          "metadata": {},
          "execution_count": 10
        }
      ]
    },
    {
      "cell_type": "markdown",
      "source": [
        "HASIL ORIGINAL TANPA RESAMPLING"
      ],
      "metadata": {
        "id": "YAzLTTvIsaD4"
      }
    },
    {
      "cell_type": "code",
      "source": [
        "predict_grid = gs.predict(X_test)\n",
        "print(\"nilai f-1 score       : %0.3f\"% metrics.f1_score(y_test, predict_grid, average='macro'))\n",
        "print(\"nilai akurasi         : %0.3f\"% metrics.accuracy_score(y_test, predict_grid))\n",
        "\n",
        "print('Original Results:',classification_report(y_test, predict_grid))\n",
        "print(confusion_matrix(y_test, predict_grid))\n",
        "print('Akurasi original test = ', accuracy_score(y_test, predict_grid))\n"
      ],
      "metadata": {
        "colab": {
          "base_uri": "https://localhost:8080/"
        },
        "id": "aBt3nHy8szBw",
        "outputId": "a834b41e-29ad-4ca8-8ed1-ed09cb42185d"
      },
      "execution_count": 11,
      "outputs": [
        {
          "output_type": "stream",
          "name": "stdout",
          "text": [
            "nilai f-1 score       : 0.899\n",
            "nilai akurasi         : 0.909\n",
            "Original Results:               precision    recall  f1-score   support\n",
            "\n",
            "           0       0.67      0.67      0.67         3\n",
            "           1       0.93      0.93      0.93        14\n",
            "           2       1.00      1.00      1.00         2\n",
            "           3       1.00      1.00      1.00         3\n",
            "\n",
            "    accuracy                           0.91        22\n",
            "   macro avg       0.90      0.90      0.90        22\n",
            "weighted avg       0.91      0.91      0.91        22\n",
            "\n",
            "[[ 2  1  0  0]\n",
            " [ 1 13  0  0]\n",
            " [ 0  0  2  0]\n",
            " [ 0  0  0  3]]\n",
            "Akurasi original test =  0.9090909090909091\n"
          ]
        }
      ]
    },
    {
      "cell_type": "code",
      "source": [
        "print(predict_grid)"
      ],
      "metadata": {
        "colab": {
          "base_uri": "https://localhost:8080/"
        },
        "id": "owzgthisiQSw",
        "outputId": "88ab592f-98f6-4f8e-900b-c1f5efeb72c0"
      },
      "execution_count": 12,
      "outputs": [
        {
          "output_type": "stream",
          "name": "stdout",
          "text": [
            "[0 1 0 1 3 3 3 1 1 1 1 1 1 1 0 1 1 1 2 1 2 1]\n"
          ]
        }
      ]
    },
    {
      "cell_type": "markdown",
      "source": [
        "CONFUSSION MATRIX ORIGINAL "
      ],
      "metadata": {
        "id": "1_vF5zNDtIpQ"
      }
    },
    {
      "cell_type": "code",
      "source": [
        "classes =[]\n",
        "labeles=np.unique(y_train)\n",
        "for v in labeles:\n",
        "    classes.append('Class '+ str(v))\n",
        "print(classes)\n",
        "classes\n",
        "\n",
        "cnf_matrix = confusion_matrix(y_test, predict_grid, labels=labeles)\n",
        "cnf_matrix\n",
        "\n",
        "f = sns.heatmap(cnf_matrix, annot=True)"
      ],
      "metadata": {
        "colab": {
          "base_uri": "https://localhost:8080/",
          "height": 283
        },
        "id": "qgm3hdUCtTi_",
        "outputId": "96c6bb50-9cc1-452d-8b19-7a4d52270d91"
      },
      "execution_count": 13,
      "outputs": [
        {
          "output_type": "stream",
          "name": "stdout",
          "text": [
            "['Class 0', 'Class 1', 'Class 2', 'Class 3']\n"
          ]
        },
        {
          "output_type": "display_data",
          "data": {
            "image/png": "[encoded data removed]",
            "text/plain": [
              "<Figure size 432x288 with 2 Axes>"
            ]
          },
          "metadata": {
            "needs_background": "light"
          }
        }
      ]
    },
    {
      "cell_type": "markdown",
      "source": [
        "****LGB TRAIN ORIGINAL **********************************"
      ],
      "metadata": {
        "id": "nXsSvegatbhl"
      }
    },
    {
      "cell_type": "markdown",
      "source": [
        "DATASET&CATEGORICAL FEATURE"
      ],
      "metadata": {
        "id": "yH_uqqL4tpJN"
      }
    },
    {
      "cell_type": "code",
      "source": [
        "lgb_train = lgb.Dataset(X_train, label= y_train)\n",
        "lgb_test = lgb.Dataset(X_test, y_test)\n",
        "cate_features_name = [\"ethnic.ch1\",\"m.stage.ch1\",\"Sex.ch1\"]"
      ],
      "metadata": {
        "id": "Y6Hf0AjjtiKu"
      },
      "execution_count": 14,
      "outputs": []
    },
    {
      "cell_type": "markdown",
      "source": [
        "TRAINING MODEL"
      ],
      "metadata": {
        "id": "gdaX3bE0txhm"
      }
    },
    {
      "cell_type": "code",
      "source": [
        "param = {\n",
        "'boosting_type': 'gbdt',\n",
        "'objective': 'multiclass',\n",
        "'metric': 'multi_logloss',\n",
        "'num_class':4,\n",
        "'max_depth':1,\n",
        "'num_leaves':4,\n",
        "'learning_rate':0.1\n",
        "}\n",
        "\n",
        "gbm = lgb.train(\n",
        "param,\n",
        "lgb_train,\n",
        "categorical_feature = cate_features_name,\n",
        "num_boost_round=100,\n",
        "valid_sets=[lgb_train, lgb_test],\n",
        "early_stopping_rounds=10\n",
        ")\n",
        "\n",
        "gbm.best_iteration\n",
        "gbm.best_score\n"
      ],
      "metadata": {
        "colab": {
          "base_uri": "https://localhost:8080/"
        },
        "id": "o8tL6O84tzl1",
        "outputId": "b7d04b06-9006-4aee-cf73-86aca4dc2d31"
      },
      "execution_count": 15,
      "outputs": [
        {
          "output_type": "stream",
          "name": "stderr",
          "text": [
            "/usr/local/lib/python3.7/dist-packages/lightgbm/basic.py:1209: UserWarning: categorical_feature in Dataset is overridden.\n",
            "New categorical_feature is ['Sex.ch1', 'ethnic.ch1', 'm.stage.ch1']\n",
            "  'New categorical_feature is {}'.format(sorted(list(categorical_feature))))\n",
            "/usr/local/lib/python3.7/dist-packages/lightgbm/basic.py:762: UserWarning: categorical_feature in param dict is overridden.\n",
            "  warnings.warn('categorical_feature in param dict is overridden.')\n"
          ]
        },
        {
          "output_type": "stream",
          "name": "stdout",
          "text": [
            "[1]\ttraining's multi_logloss: 1.12599\tvalid_1's multi_logloss: 1.06058\n",
            "Training until validation scores don't improve for 10 rounds.\n",
            "[2]\ttraining's multi_logloss: 1.04386\tvalid_1's multi_logloss: 1.00976\n",
            "[3]\ttraining's multi_logloss: 0.968417\tvalid_1's multi_logloss: 0.957627\n",
            "[4]\ttraining's multi_logloss: 0.89871\tvalid_1's multi_logloss: 0.917446\n",
            "[5]\ttraining's multi_logloss: 0.835036\tvalid_1's multi_logloss: 0.87828\n",
            "[6]\ttraining's multi_logloss: 0.776439\tvalid_1's multi_logloss: 0.841697\n",
            "[7]\ttraining's multi_logloss: 0.722708\tvalid_1's multi_logloss: 0.80104\n",
            "[8]\ttraining's multi_logloss: 0.672923\tvalid_1's multi_logloss: 0.775258\n",
            "[9]\ttraining's multi_logloss: 0.627001\tvalid_1's multi_logloss: 0.747055\n",
            "[10]\ttraining's multi_logloss: 0.584327\tvalid_1's multi_logloss: 0.714246\n",
            "[11]\ttraining's multi_logloss: 0.544528\tvalid_1's multi_logloss: 0.696612\n",
            "[12]\ttraining's multi_logloss: 0.507721\tvalid_1's multi_logloss: 0.674682\n",
            "[13]\ttraining's multi_logloss: 0.473442\tvalid_1's multi_logloss: 0.648955\n",
            "[14]\ttraining's multi_logloss: 0.44168\tvalid_1's multi_logloss: 0.625218\n",
            "[15]\ttraining's multi_logloss: 0.41208\tvalid_1's multi_logloss: 0.608161\n",
            "[16]\ttraining's multi_logloss: 0.384693\tvalid_1's multi_logloss: 0.593978\n",
            "[17]\ttraining's multi_logloss: 0.359056\tvalid_1's multi_logloss: 0.571585\n",
            "[18]\ttraining's multi_logloss: 0.335117\tvalid_1's multi_logloss: 0.552083\n",
            "[19]\ttraining's multi_logloss: 0.312891\tvalid_1's multi_logloss: 0.539333\n",
            "[20]\ttraining's multi_logloss: 0.292229\tvalid_1's multi_logloss: 0.522819\n",
            "[21]\ttraining's multi_logloss: 0.273042\tvalid_1's multi_logloss: 0.503777\n",
            "[22]\ttraining's multi_logloss: 0.255057\tvalid_1's multi_logloss: 0.489107\n",
            "[23]\ttraining's multi_logloss: 0.23839\tvalid_1's multi_logloss: 0.473786\n",
            "[24]\ttraining's multi_logloss: 0.2228\tvalid_1's multi_logloss: 0.459232\n",
            "[25]\ttraining's multi_logloss: 0.208297\tvalid_1's multi_logloss: 0.452359\n",
            "[26]\ttraining's multi_logloss: 0.194743\tvalid_1's multi_logloss: 0.433061\n",
            "[27]\ttraining's multi_logloss: 0.182101\tvalid_1's multi_logloss: 0.425049\n",
            "[28]\ttraining's multi_logloss: 0.170317\tvalid_1's multi_logloss: 0.411944\n",
            "[29]\ttraining's multi_logloss: 0.159346\tvalid_1's multi_logloss: 0.40496\n",
            "[30]\ttraining's multi_logloss: 0.149097\tvalid_1's multi_logloss: 0.390438\n",
            "[31]\ttraining's multi_logloss: 0.139527\tvalid_1's multi_logloss: 0.383908\n",
            "[32]\ttraining's multi_logloss: 0.130557\tvalid_1's multi_logloss: 0.371399\n",
            "[33]\ttraining's multi_logloss: 0.122216\tvalid_1's multi_logloss: 0.36146\n",
            "[34]\ttraining's multi_logloss: 0.114432\tvalid_1's multi_logloss: 0.356048\n",
            "[35]\ttraining's multi_logloss: 0.107137\tvalid_1's multi_logloss: 0.348933\n",
            "[36]\ttraining's multi_logloss: 0.100325\tvalid_1's multi_logloss: 0.338474\n",
            "[37]\ttraining's multi_logloss: 0.0939602\tvalid_1's multi_logloss: 0.33388\n",
            "[38]\ttraining's multi_logloss: 0.0880092\tvalid_1's multi_logloss: 0.32563\n",
            "[39]\ttraining's multi_logloss: 0.0824363\tvalid_1's multi_logloss: 0.323837\n",
            "[40]\ttraining's multi_logloss: 0.0772449\tvalid_1's multi_logloss: 0.320519\n",
            "[41]\ttraining's multi_logloss: 0.0723908\tvalid_1's multi_logloss: 0.315896\n",
            "[42]\ttraining's multi_logloss: 0.0678319\tvalid_1's multi_logloss: 0.312274\n",
            "[43]\ttraining's multi_logloss: 0.0635723\tvalid_1's multi_logloss: 0.306008\n",
            "[44]\ttraining's multi_logloss: 0.0595825\tvalid_1's multi_logloss: 0.305371\n",
            "[45]\ttraining's multi_logloss: 0.055848\tvalid_1's multi_logloss: 0.300366\n",
            "[46]\ttraining's multi_logloss: 0.0523503\tvalid_1's multi_logloss: 0.294099\n",
            "[47]\ttraining's multi_logloss: 0.0490894\tvalid_1's multi_logloss: 0.292462\n",
            "[48]\ttraining's multi_logloss: 0.0460324\tvalid_1's multi_logloss: 0.28748\n",
            "[49]\ttraining's multi_logloss: 0.043166\tvalid_1's multi_logloss: 0.28796\n",
            "[50]\ttraining's multi_logloss: 0.0404788\tvalid_1's multi_logloss: 0.287248\n",
            "[51]\ttraining's multi_logloss: 0.0379683\tvalid_1's multi_logloss: 0.280916\n",
            "[52]\ttraining's multi_logloss: 0.0356224\tvalid_1's multi_logloss: 0.279926\n",
            "[53]\ttraining's multi_logloss: 0.0334162\tvalid_1's multi_logloss: 0.277863\n",
            "[54]\ttraining's multi_logloss: 0.0313498\tvalid_1's multi_logloss: 0.275916\n",
            "[55]\ttraining's multi_logloss: 0.0294154\tvalid_1's multi_logloss: 0.274797\n",
            "[56]\ttraining's multi_logloss: 0.0276018\tvalid_1's multi_logloss: 0.271422\n",
            "[57]\ttraining's multi_logloss: 0.0259001\tvalid_1's multi_logloss: 0.267484\n",
            "[58]\ttraining's multi_logloss: 0.0243081\tvalid_1's multi_logloss: 0.268547\n",
            "[59]\ttraining's multi_logloss: 0.0228112\tvalid_1's multi_logloss: 0.265815\n",
            "[60]\ttraining's multi_logloss: 0.0214039\tvalid_1's multi_logloss: 0.267317\n",
            "[61]\ttraining's multi_logloss: 0.0200895\tvalid_1's multi_logloss: 0.267605\n",
            "[62]\ttraining's multi_logloss: 0.0188589\tvalid_1's multi_logloss: 0.26264\n",
            "[63]\ttraining's multi_logloss: 0.0177054\tvalid_1's multi_logloss: 0.258604\n",
            "[64]\ttraining's multi_logloss: 0.0166178\tvalid_1's multi_logloss: 0.258292\n",
            "[65]\ttraining's multi_logloss: 0.0155996\tvalid_1's multi_logloss: 0.258455\n",
            "[66]\ttraining's multi_logloss: 0.0146465\tvalid_1's multi_logloss: 0.259966\n",
            "[67]\ttraining's multi_logloss: 0.0137499\tvalid_1's multi_logloss: 0.257644\n",
            "[68]\ttraining's multi_logloss: 0.012913\tvalid_1's multi_logloss: 0.256635\n",
            "[69]\ttraining's multi_logloss: 0.0121258\tvalid_1's multi_logloss: 0.252667\n",
            "[70]\ttraining's multi_logloss: 0.011387\tvalid_1's multi_logloss: 0.253197\n",
            "[71]\ttraining's multi_logloss: 0.010696\tvalid_1's multi_logloss: 0.252609\n",
            "[72]\ttraining's multi_logloss: 0.0100465\tvalid_1's multi_logloss: 0.248753\n",
            "[73]\ttraining's multi_logloss: 0.00943564\tvalid_1's multi_logloss: 0.24972\n",
            "[74]\ttraining's multi_logloss: 0.00886161\tvalid_1's multi_logloss: 0.248833\n",
            "[75]\ttraining's multi_logloss: 0.00832313\tvalid_1's multi_logloss: 0.249443\n",
            "[76]\ttraining's multi_logloss: 0.00781894\tvalid_1's multi_logloss: 0.250868\n",
            "[77]\ttraining's multi_logloss: 0.00734397\tvalid_1's multi_logloss: 0.244584\n",
            "[78]\ttraining's multi_logloss: 0.00689853\tvalid_1's multi_logloss: 0.243834\n",
            "[79]\ttraining's multi_logloss: 0.00647992\tvalid_1's multi_logloss: 0.246398\n",
            "[80]\ttraining's multi_logloss: 0.00608833\tvalid_1's multi_logloss: 0.244236\n",
            "[81]\ttraining's multi_logloss: 0.00571944\tvalid_1's multi_logloss: 0.245015\n",
            "[82]\ttraining's multi_logloss: 0.00537316\tvalid_1's multi_logloss: 0.244775\n",
            "[83]\ttraining's multi_logloss: 0.00504855\tvalid_1's multi_logloss: 0.244692\n",
            "[84]\ttraining's multi_logloss: 0.00474412\tvalid_1's multi_logloss: 0.243091\n",
            "[85]\ttraining's multi_logloss: 0.00445775\tvalid_1's multi_logloss: 0.239703\n",
            "[86]\ttraining's multi_logloss: 0.00418863\tvalid_1's multi_logloss: 0.239394\n",
            "[87]\ttraining's multi_logloss: 0.00393614\tvalid_1's multi_logloss: 0.241283\n",
            "[88]\ttraining's multi_logloss: 0.00369855\tvalid_1's multi_logloss: 0.241624\n",
            "[89]\ttraining's multi_logloss: 0.00347553\tvalid_1's multi_logloss: 0.242767\n",
            "[90]\ttraining's multi_logloss: 0.00326669\tvalid_1's multi_logloss: 0.24254\n",
            "[91]\ttraining's multi_logloss: 0.00306983\tvalid_1's multi_logloss: 0.242573\n",
            "[92]\ttraining's multi_logloss: 0.00288519\tvalid_1's multi_logloss: 0.244588\n",
            "[93]\ttraining's multi_logloss: 0.00271178\tvalid_1's multi_logloss: 0.245593\n",
            "[94]\ttraining's multi_logloss: 0.00254872\tvalid_1's multi_logloss: 0.240619\n",
            "[95]\ttraining's multi_logloss: 0.00239624\tvalid_1's multi_logloss: 0.239481\n",
            "[96]\ttraining's multi_logloss: 0.00225245\tvalid_1's multi_logloss: 0.240502\n",
            "Early stopping, best iteration is:\n",
            "[86]\ttraining's multi_logloss: 0.00418863\tvalid_1's multi_logloss: 0.239394\n"
          ]
        },
        {
          "output_type": "execute_result",
          "data": {
            "text/plain": [
              "defaultdict(dict,\n",
              "            {'training': {'multi_logloss': 0.0041886345888987484},\n",
              "             'valid_1': {'multi_logloss': 0.23939398359667655}})"
            ]
          },
          "metadata": {},
          "execution_count": 15
        }
      ]
    },
    {
      "cell_type": "markdown",
      "source": [
        "HASIL PREDIKSI KELAS"
      ],
      "metadata": {
        "id": "xECCIpDgt-LJ"
      }
    },
    {
      "cell_type": "code",
      "source": [
        "predict_gbm=gbm.predict(X_test)\n",
        "predict_gbm\n",
        "\n",
        "#argmax() method\n",
        "y_pred_1 = [np.argmax(line) for line in predict_gbm]\n",
        "y_pred_1\n",
        "\n",
        "accuracy_score(y_test, y_pred_1)\n",
        "\n",
        "cnf_matrix=confusion_matrix(y_test, y_pred_1)\n",
        "cnf_matrix\n",
        "\n",
        "cnf_matrix = confusion_matrix(y_test, y_pred_1, labels=labeles)\n",
        "\n",
        "f = sns.heatmap(cnf_matrix, annot=True)\n",
        "\n",
        "print(classification_report(y_test, y_pred_1))"
      ],
      "metadata": {
        "colab": {
          "base_uri": "https://localhost:8080/",
          "height": 456
        },
        "id": "FQegmYnJh1F3",
        "outputId": "a70d2bb7-9368-4d4d-8d98-a7c5d1e06a2a"
      },
      "execution_count": 16,
      "outputs": [
        {
          "output_type": "stream",
          "name": "stdout",
          "text": [
            "              precision    recall  f1-score   support\n",
            "\n",
            "           0       0.67      0.67      0.67         3\n",
            "           1       0.93      0.93      0.93        14\n",
            "           2       1.00      1.00      1.00         2\n",
            "           3       1.00      1.00      1.00         3\n",
            "\n",
            "    accuracy                           0.91        22\n",
            "   macro avg       0.90      0.90      0.90        22\n",
            "weighted avg       0.91      0.91      0.91        22\n",
            "\n"
          ]
        },
        {
          "output_type": "display_data",
          "data": {
            "image/png": "[encoded data removed]",
            "text/plain": [
              "<Figure size 432x288 with 2 Axes>"
            ]
          },
          "metadata": {
            "needs_background": "light"
          }
        }
      ]
    },
    {
      "cell_type": "markdown",
      "source": [
        "FEATURE IMPORTANT HASIL KLASIFIKASI ORIGINAL LIGHTGBM!!!!!!!!!!!!!!!!!"
      ],
      "metadata": {
        "id": "kQ3UHq5miGNl"
      }
    },
    {
      "cell_type": "code",
      "source": [
        "lgb.plot_importance(gbm)\n",
        "lgb.plot_tree(gbm)"
      ],
      "metadata": {
        "colab": {
          "base_uri": "https://localhost:8080/",
          "height": 415
        },
        "id": "yIwxLdk4iN2V",
        "outputId": "788cc41b-d6bd-4ae0-f444-4cf944cf0f44"
      },
      "execution_count": 17,
      "outputs": [
        {
          "output_type": "execute_result",
          "data": {
            "text/plain": [
              "<matplotlib.axes._subplots.AxesSubplot at 0x7f5656397110>"
            ]
          },
          "metadata": {},
          "execution_count": 17
        },
        {
          "output_type": "display_data",
          "data": {
            "image/png": "[encoded data removed]",
            "text/plain": [
              "<Figure size 432x288 with 1 Axes>"
            ]
          },
          "metadata": {
            "needs_background": "light"
          }
        },
        {
          "output_type": "display_data",
          "data": {
            "image/png": "[encoded data removed]",
            "text/plain": [
              "<Figure size 432x288 with 1 Axes>"
            ]
          },
          "metadata": {
            "needs_background": "light"
          }
        }
      ]
    },
    {
      "cell_type": "markdown",
      "source": [
        "**ROC-AUC ORIGINAL**"
      ],
      "metadata": {
        "id": "i99UfNNPiSze"
      }
    },
    {
      "cell_type": "code",
      "source": [
        "clf = lgb.LGBMClassifier(boosting_type='gbdt', objective='multiclass',\n",
        "                         colsample_bytree=1.0, n_estimators=100,\n",
        "                         num_class=4, metric='multi_logloss', learning_rate = 0.1, max_depth = 1, num_leaves = 4)"
      ],
      "metadata": {
        "id": "jD7qJ2xvj0GB"
      },
      "execution_count": 18,
      "outputs": []
    },
    {
      "cell_type": "code",
      "source": [
        "clff=OneVsRestClassifier(clf)\n",
        "y_proba=clff.fit(X_train, y_train).predict_proba(X_test)\n",
        "y_proba"
      ],
      "metadata": {
        "colab": {
          "base_uri": "https://localhost:8080/"
        },
        "id": "hQQKF-b6guzE",
        "outputId": "64c5b247-9184-484c-cd42-e329d72a6503"
      },
      "execution_count": 19,
      "outputs": [
        {
          "output_type": "execute_result",
          "data": {
            "text/plain": [
              "array([[2.22763452e-05, 9.95339074e-01, 1.39882946e-03, 3.23982059e-03],\n",
              "       [3.33816591e-01, 9.06096207e-05, 3.33355038e-01, 3.32737761e-01],\n",
              "       [2.50000000e-01, 2.50000000e-01, 2.50000000e-01, 2.50000000e-01],\n",
              "       [2.50000000e-01, 2.50000000e-01, 2.50000000e-01, 2.50000000e-01]])"
            ]
          },
          "metadata": {},
          "execution_count": 19
        }
      ]
    },
    {
      "cell_type": "markdown",
      "source": [
        "HASIL PROBS"
      ],
      "metadata": {
        "id": "mxvZWrx6kOXK"
      }
    },
    {
      "cell_type": "code",
      "source": [
        "y_prob = clf.fit(X_train, y_train).predict_proba(X_test)\n",
        "ybin = label_binarize(y_test, classes=[0, 1, 2, 3])\n",
        "n_classes = ybin.shape[1]\n",
        "CLASS_NAMES = [ 'Group 3', 'Group 4', 'SHH', 'WNT']\n",
        "NUM_CLASSES = len(CLASS_NAMES)\n"
      ],
      "metadata": {
        "id": "zG1cWc48jp_A"
      },
      "execution_count": 20,
      "outputs": []
    },
    {
      "cell_type": "code",
      "source": [
        "print(y_prob)"
      ],
      "metadata": {
        "colab": {
          "base_uri": "https://localhost:8080/"
        },
        "id": "FwqYTMELfcEU",
        "outputId": "23c0e720-6802-4015-8884-5ddb6e8b3464"
      },
      "execution_count": 21,
      "outputs": [
        {
          "output_type": "stream",
          "name": "stdout",
          "text": [
            "[[9.69742001e-01 1.56312458e-02 8.50380052e-03 6.12295224e-03]\n",
            " [3.21388916e-05 9.97883941e-01 4.86179851e-04 1.59774018e-03]\n",
            " [7.85962425e-01 2.69912856e-02 1.62175147e-01 2.48711427e-02]\n",
            " [1.01030492e-04 9.98605180e-01 6.97547888e-04 5.96241623e-04]\n",
            " [2.80300681e-02 7.29460832e-02 1.88111293e-01 7.10912556e-01]\n",
            " [4.55088371e-02 3.75208567e-03 1.00892665e-02 9.40649811e-01]\n",
            " [4.11444415e-03 2.00370103e-03 1.49331077e-03 9.92388544e-01]\n",
            " [1.21972665e-04 9.96408968e-01 1.51723959e-03 1.95181979e-03]\n",
            " [3.73291532e-02 9.34913143e-01 1.91630956e-02 8.59460779e-03]\n",
            " [3.50519287e-01 6.36848403e-01 8.28446853e-03 4.34784142e-03]\n",
            " [7.10144071e-02 8.91314352e-01 2.75622385e-02 1.01090022e-02]\n",
            " [7.15699697e-04 9.98106422e-01 6.29407885e-04 5.48470695e-04]\n",
            " [1.25166444e-03 9.97954813e-01 5.65820054e-04 2.27702839e-04]\n",
            " [2.54658865e-05 9.98494986e-01 4.34730775e-04 1.04481716e-03]\n",
            " [9.98305106e-01 9.42844704e-04 2.81953757e-04 4.70095731e-04]\n",
            " [1.02908150e-03 9.98487145e-01 2.56022174e-04 2.27751014e-04]\n",
            " [1.37661563e-03 9.97370663e-01 8.09216718e-04 4.43504707e-04]\n",
            " [1.22904338e-04 9.97998149e-01 3.01452363e-04 1.57749479e-03]\n",
            " [1.41772700e-02 1.85902031e-02 9.53227478e-01 1.40050487e-02]\n",
            " [3.88846810e-04 9.98855014e-01 6.05603569e-04 1.50535195e-04]\n",
            " [2.10633267e-03 2.62385910e-03 9.94208146e-01 1.06166185e-03]\n",
            " [7.65632213e-05 9.97469420e-01 1.05877313e-03 1.39524361e-03]]\n"
          ]
        }
      ]
    },
    {
      "cell_type": "code",
      "source": [
        "ybin"
      ],
      "metadata": {
        "colab": {
          "base_uri": "https://localhost:8080/"
        },
        "id": "4-0kHnWcfiFU",
        "outputId": "e1043d7b-737a-4dca-d967-a6d1acfd8c97"
      },
      "execution_count": 22,
      "outputs": [
        {
          "output_type": "execute_result",
          "data": {
            "text/plain": [
              "array([[1, 0, 0, 0],\n",
              "       [0, 1, 0, 0],\n",
              "       [0, 1, 0, 0],\n",
              "       [0, 1, 0, 0],\n",
              "       [0, 0, 0, 1],\n",
              "       [0, 0, 0, 1],\n",
              "       [0, 0, 0, 1],\n",
              "       [0, 1, 0, 0],\n",
              "       [0, 1, 0, 0],\n",
              "       [1, 0, 0, 0],\n",
              "       [0, 1, 0, 0],\n",
              "       [0, 1, 0, 0],\n",
              "       [0, 1, 0, 0],\n",
              "       [0, 1, 0, 0],\n",
              "       [1, 0, 0, 0],\n",
              "       [0, 1, 0, 0],\n",
              "       [0, 1, 0, 0],\n",
              "       [0, 1, 0, 0],\n",
              "       [0, 0, 1, 0],\n",
              "       [0, 1, 0, 0],\n",
              "       [0, 0, 1, 0],\n",
              "       [0, 1, 0, 0]])"
            ]
          },
          "metadata": {},
          "execution_count": 22
        }
      ]
    },
    {
      "cell_type": "markdown",
      "source": [
        "MULTICLASSOVA"
      ],
      "metadata": {
        "id": "C26SLB9Cjomc"
      }
    },
    {
      "cell_type": "code",
      "source": [
        "clf2 = lgb.LGBMClassifier(boosting_type='gbdt', objective='multiclassova',\n",
        "                         colsample_bytree=1.0, n_estimators=100,\n",
        "                         num_class=4, metric='multi_logloss', learning_rate = 0.1, max_depth = 1, num_leaves = 4)"
      ],
      "metadata": {
        "id": "k6IPs6mijq0d"
      },
      "execution_count": 23,
      "outputs": []
    },
    {
      "cell_type": "code",
      "source": [
        "y_pred = clf2.fit(X_train, y_train).predict(X_test)\n",
        "y_pred"
      ],
      "metadata": {
        "colab": {
          "base_uri": "https://localhost:8080/"
        },
        "id": "sw7Ilzggj4Rm",
        "outputId": "9a05e51a-42c1-4f1e-ce32-da0ea7915f09"
      },
      "execution_count": 24,
      "outputs": [
        {
          "output_type": "execute_result",
          "data": {
            "text/plain": [
              "array([0, 1, 0, 1, 3, 3, 3, 1, 1, 1, 1, 1, 1, 1, 0, 1, 1, 1, 2, 1, 2, 1])"
            ]
          },
          "metadata": {},
          "execution_count": 24
        }
      ]
    },
    {
      "cell_type": "code",
      "source": [
        "y_proba2 = clf2.fit(X_train, y_train).predict_proba(X_test)\n",
        "y_proba2"
      ],
      "metadata": {
        "colab": {
          "base_uri": "https://localhost:8080/"
        },
        "id": "auGMB4k-jvkl",
        "outputId": "01944ab7-01af-41d7-e176-db8210dc89d5"
      },
      "execution_count": 25,
      "outputs": [
        {
          "output_type": "execute_result",
          "data": {
            "text/plain": [
              "array([[7.23974910e-01, 7.03086425e-04, 6.31507347e-03, 1.11813406e-03],\n",
              "       [2.23745850e-05, 9.99728571e-01, 1.40499837e-03, 3.25410837e-03],\n",
              "       [5.38247298e-01, 1.82940427e-04, 5.25031084e-03, 9.99651391e-04],\n",
              "       [1.08790874e-04, 9.99838614e-01, 8.54905479e-05, 3.14615428e-04],\n",
              "       [2.83098573e-03, 6.71669667e-04, 8.25675785e-03, 2.91481450e-01],\n",
              "       [4.80349717e-02, 3.76654751e-04, 7.17560311e-03, 9.19829156e-01],\n",
              "       [1.90486420e-03, 4.40212687e-05, 4.50619976e-03, 9.18151844e-01],\n",
              "       [9.83076900e-05, 9.99886181e-01, 8.09738426e-03, 7.02120820e-03],\n",
              "       [2.92766834e-03, 9.62935433e-01, 1.93881314e-03, 5.26382985e-02],\n",
              "       [5.68627854e-01, 8.91780854e-01, 5.12015036e-04, 5.04760546e-03],\n",
              "       [9.30191782e-04, 5.95940249e-01, 9.24423574e-04, 3.00104807e-04],\n",
              "       [1.16450285e-03, 9.99863474e-01, 1.53017532e-03, 1.08551048e-03],\n",
              "       [1.05119089e-03, 9.99806529e-01, 1.50576056e-03, 1.75058720e-03],\n",
              "       [1.37482444e-05, 9.99886181e-01, 1.28423323e-03, 1.93372291e-03],\n",
              "       [9.97268897e-01, 6.39942215e-04, 1.34504266e-04, 1.95652416e-03],\n",
              "       [1.99617446e-03, 9.99067692e-01, 1.74422974e-03, 3.49140616e-03],\n",
              "       [3.16199427e-03, 9.99838614e-01, 1.08688690e-02, 3.73777430e-03],\n",
              "       [2.43435877e-04, 9.99886181e-01, 1.77032782e-03, 3.25927423e-03],\n",
              "       [1.41377008e-02, 4.51386832e-04, 7.79988189e-01, 9.47881028e-03],\n",
              "       [4.40606399e-04, 9.99806529e-01, 1.55775586e-03, 4.72187689e-04],\n",
              "       [4.45672084e-03, 5.34072072e-04, 9.83668472e-01, 3.02889516e-03],\n",
              "       [1.93502826e-04, 9.99728660e-01, 8.00364564e-03, 2.89193675e-02]])"
            ]
          },
          "metadata": {},
          "execution_count": 25
        }
      ]
    },
    {
      "cell_type": "code",
      "source": [
        "y_prob = clf2.fit(X_train, y_train).predict_proba(X_test)\n",
        "ybin = label_binarize(y_test, classes=[0, 1, 2, 3])\n",
        "n_classes = ybin.shape[1]\n",
        "CLASS_NAMES = [ 'Group 3', 'Group 4', 'SHH', 'WNT']\n",
        "NUM_CLASSES = len(CLASS_NAMES)"
      ],
      "metadata": {
        "id": "zLHnN_XMkj7j"
      },
      "execution_count": 26,
      "outputs": []
    },
    {
      "cell_type": "code",
      "source": [
        "y_prob.shape,ybin.shape"
      ],
      "metadata": {
        "colab": {
          "base_uri": "https://localhost:8080/"
        },
        "id": "7qh95Ct_kpqx",
        "outputId": "ea9a5697-0860-4985-aff1-dbbbda6a46a1"
      },
      "execution_count": 27,
      "outputs": [
        {
          "output_type": "execute_result",
          "data": {
            "text/plain": [
              "((22, 4), (22, 4))"
            ]
          },
          "metadata": {},
          "execution_count": 27
        }
      ]
    },
    {
      "cell_type": "code",
      "source": [
        "y_prob"
      ],
      "metadata": {
        "colab": {
          "base_uri": "https://localhost:8080/"
        },
        "id": "rZJtn5zEk_j5",
        "outputId": "e14cdb58-4bf1-4c79-bc95-088bc10d6c20"
      },
      "execution_count": 28,
      "outputs": [
        {
          "output_type": "execute_result",
          "data": {
            "text/plain": [
              "array([[7.23974910e-01, 7.03086425e-04, 6.31507347e-03, 1.11813406e-03],\n",
              "       [2.23745850e-05, 9.99728571e-01, 1.40499837e-03, 3.25410837e-03],\n",
              "       [5.38247298e-01, 1.82940427e-04, 5.25031084e-03, 9.99651391e-04],\n",
              "       [1.08790874e-04, 9.99838614e-01, 8.54905479e-05, 3.14615428e-04],\n",
              "       [2.83098573e-03, 6.71669667e-04, 8.25675785e-03, 2.91481450e-01],\n",
              "       [4.80349717e-02, 3.76654751e-04, 7.17560311e-03, 9.19829156e-01],\n",
              "       [1.90486420e-03, 4.40212687e-05, 4.50619976e-03, 9.18151844e-01],\n",
              "       [9.83076900e-05, 9.99886181e-01, 8.09738426e-03, 7.02120820e-03],\n",
              "       [2.92766834e-03, 9.62935433e-01, 1.93881314e-03, 5.26382985e-02],\n",
              "       [5.68627854e-01, 8.91780854e-01, 5.12015036e-04, 5.04760546e-03],\n",
              "       [9.30191782e-04, 5.95940249e-01, 9.24423574e-04, 3.00104807e-04],\n",
              "       [1.16450285e-03, 9.99863474e-01, 1.53017532e-03, 1.08551048e-03],\n",
              "       [1.05119089e-03, 9.99806529e-01, 1.50576056e-03, 1.75058720e-03],\n",
              "       [1.37482444e-05, 9.99886181e-01, 1.28423323e-03, 1.93372291e-03],\n",
              "       [9.97268897e-01, 6.39942215e-04, 1.34504266e-04, 1.95652416e-03],\n",
              "       [1.99617446e-03, 9.99067692e-01, 1.74422974e-03, 3.49140616e-03],\n",
              "       [3.16199427e-03, 9.99838614e-01, 1.08688690e-02, 3.73777430e-03],\n",
              "       [2.43435877e-04, 9.99886181e-01, 1.77032782e-03, 3.25927423e-03],\n",
              "       [1.41377008e-02, 4.51386832e-04, 7.79988189e-01, 9.47881028e-03],\n",
              "       [4.40606399e-04, 9.99806529e-01, 1.55775586e-03, 4.72187689e-04],\n",
              "       [4.45672084e-03, 5.34072072e-04, 9.83668472e-01, 3.02889516e-03],\n",
              "       [1.93502826e-04, 9.99728660e-01, 8.00364564e-03, 2.89193675e-02]])"
            ]
          },
          "metadata": {},
          "execution_count": 28
        }
      ]
    },
    {
      "cell_type": "code",
      "source": [
        "ybin"
      ],
      "metadata": {
        "colab": {
          "base_uri": "https://localhost:8080/"
        },
        "id": "CoTWZy1smRwQ",
        "outputId": "4a0fcc97-4428-48c2-adaf-10690e02b9a6"
      },
      "execution_count": 29,
      "outputs": [
        {
          "output_type": "execute_result",
          "data": {
            "text/plain": [
              "array([[1, 0, 0, 0],\n",
              "       [0, 1, 0, 0],\n",
              "       [0, 1, 0, 0],\n",
              "       [0, 1, 0, 0],\n",
              "       [0, 0, 0, 1],\n",
              "       [0, 0, 0, 1],\n",
              "       [0, 0, 0, 1],\n",
              "       [0, 1, 0, 0],\n",
              "       [0, 1, 0, 0],\n",
              "       [1, 0, 0, 0],\n",
              "       [0, 1, 0, 0],\n",
              "       [0, 1, 0, 0],\n",
              "       [0, 1, 0, 0],\n",
              "       [0, 1, 0, 0],\n",
              "       [1, 0, 0, 0],\n",
              "       [0, 1, 0, 0],\n",
              "       [0, 1, 0, 0],\n",
              "       [0, 1, 0, 0],\n",
              "       [0, 0, 1, 0],\n",
              "       [0, 1, 0, 0],\n",
              "       [0, 0, 1, 0],\n",
              "       [0, 1, 0, 0]])"
            ]
          },
          "metadata": {},
          "execution_count": 29
        }
      ]
    },
    {
      "cell_type": "markdown",
      "source": [
        "**ROC-AUC FOR EACH CLASS (THRESHOLDS)**"
      ],
      "metadata": {
        "id": "qoHav9Z3XuIM"
      }
    },
    {
      "cell_type": "code",
      "source": [
        "def compute_AUCs(ybin, y_prob):\n",
        "\tAUROCs = []\n",
        "\ty_np = ybin\n",
        "\tpred_np = y_prob\n",
        "\tfor i in range(len(y_np[0])):\n",
        "\t\tAUROCs.append(roc_auc_score(y_np[:, i], pred_np[:, i]))\n",
        "\treturn AUROCs\n",
        "\n",
        "def compute_ROCs(ybin, y_prob):\n",
        "\ty_np = ybin\n",
        "\tpred_np = y_prob\n",
        "\n",
        "\tresults = {\n",
        "\t\t'fpr' : [],\n",
        "\t\t'tpr' : [],\n",
        "\t\t'thresholds': [],\n",
        "\t\t'gmeans': [],\n",
        "\t\t'idmax': [],\n",
        "\t\t'optimal_threshold': []\n",
        "\t}\n",
        "\n",
        "\tfor i in range(len(y_np[0])):\n",
        "\t\tfpr, tpr, thresholds = roc_curve(y_np[:, i], pred_np[:, i])\n",
        "\t\tgmeans = np.sqrt(tpr * (1-fpr))\n",
        "\t\tix = np.argmax(gmeans)\n",
        "\t\tresults['fpr'].append(fpr.tolist())\n",
        "\t\tresults['tpr'].append(tpr.tolist())\n",
        "\t\tresults['thresholds'].append(thresholds.tolist())\n",
        "\t\tresults['gmeans'].append(gmeans.tolist())\n",
        "\t\tresults['idmax'].append(int(ix))\n",
        "\t\tresults['optimal_threshold'].append(float(thresholds[ix]))\n",
        "\n",
        "\treturn results\n",
        "\n",
        "def get_threshold(ybin, y_prob):\n",
        "\ty_np = ybin\n",
        "\tpred_np = y_prob\n",
        "\n",
        "\tresults = []\n",
        "\tfor i in range(len(y_np[0])):\n",
        "\t\tfpr, tpr, thresholds = roc_curve(y_np[:, i], pred_np[:, i])\n",
        "\t\tgmeans = np.sqrt(tpr * (1-fpr))\n",
        "\t\tix = np.argmax(gmeans)\n",
        "\t\tresults.append(thresholds[ix])\n",
        "\n",
        "\treturn results\n",
        "\n",
        "def create_roc_curve(ybin, y_prob):\n",
        "\ty_np = ybin\n",
        "\tpred_np = y_prob\n",
        "\n",
        "\tcolors = [\n",
        "\t'#0033cc', '#ff0000', '#ff9933', '#993399']\n",
        "\n",
        "\tlinestyles = [\n",
        "\t'solid', 'dotted', 'dashed', 'dashdot']\n",
        "\n",
        "\tfor i in range(len(y_np[0])):\n",
        "\t\tfpr, tpr, thresholds = roc_curve(y_np[:, i], pred_np[:, i])\n",
        "\t\tgmeans = np.sqrt(tpr * (1-fpr))\n",
        "\t\tix = np.argmax(gmeans)\n",
        "\t\tplt.plot([0,1], [0,1], linestyle='--')\n",
        "\t\tplt.plot(fpr, tpr, linestyle=linestyles[i], color=colors[i], label='{} t={:.5f}'.format(CLASS_NAMES[i], thresholds[ix]))\n",
        "\t\tplt.scatter(fpr[ix], tpr[ix], marker='o', color=colors[i])\n",
        "\n",
        "\tplt.xlabel('False Positive Rate')\n",
        "\tplt.ylabel('True Positive Rate')\n",
        "\tplt.legend()\n",
        "\tplt.show()\n"
      ],
      "metadata": {
        "id": "kDX0_ybUkqm2"
      },
      "execution_count": 30,
      "outputs": []
    },
    {
      "cell_type": "code",
      "source": [
        "y_np = ybin\n",
        "pred_np = y_prob\n",
        "print(y_np)\n",
        "print(pred_np)"
      ],
      "metadata": {
        "colab": {
          "base_uri": "https://localhost:8080/"
        },
        "id": "A8ndzbcffw-M",
        "outputId": "9a635dc3-12fd-4f98-b249-6fbc4b9f7f9f"
      },
      "execution_count": 31,
      "outputs": [
        {
          "output_type": "stream",
          "name": "stdout",
          "text": [
            "[[1 0 0 0]\n",
            " [0 1 0 0]\n",
            " [0 1 0 0]\n",
            " [0 1 0 0]\n",
            " [0 0 0 1]\n",
            " [0 0 0 1]\n",
            " [0 0 0 1]\n",
            " [0 1 0 0]\n",
            " [0 1 0 0]\n",
            " [1 0 0 0]\n",
            " [0 1 0 0]\n",
            " [0 1 0 0]\n",
            " [0 1 0 0]\n",
            " [0 1 0 0]\n",
            " [1 0 0 0]\n",
            " [0 1 0 0]\n",
            " [0 1 0 0]\n",
            " [0 1 0 0]\n",
            " [0 0 1 0]\n",
            " [0 1 0 0]\n",
            " [0 0 1 0]\n",
            " [0 1 0 0]]\n",
            "[[7.23974910e-01 7.03086425e-04 6.31507347e-03 1.11813406e-03]\n",
            " [2.23745850e-05 9.99728571e-01 1.40499837e-03 3.25410837e-03]\n",
            " [5.38247298e-01 1.82940427e-04 5.25031084e-03 9.99651391e-04]\n",
            " [1.08790874e-04 9.99838614e-01 8.54905479e-05 3.14615428e-04]\n",
            " [2.83098573e-03 6.71669667e-04 8.25675785e-03 2.91481450e-01]\n",
            " [4.80349717e-02 3.76654751e-04 7.17560311e-03 9.19829156e-01]\n",
            " [1.90486420e-03 4.40212687e-05 4.50619976e-03 9.18151844e-01]\n",
            " [9.83076900e-05 9.99886181e-01 8.09738426e-03 7.02120820e-03]\n",
            " [2.92766834e-03 9.62935433e-01 1.93881314e-03 5.26382985e-02]\n",
            " [5.68627854e-01 8.91780854e-01 5.12015036e-04 5.04760546e-03]\n",
            " [9.30191782e-04 5.95940249e-01 9.24423574e-04 3.00104807e-04]\n",
            " [1.16450285e-03 9.99863474e-01 1.53017532e-03 1.08551048e-03]\n",
            " [1.05119089e-03 9.99806529e-01 1.50576056e-03 1.75058720e-03]\n",
            " [1.37482444e-05 9.99886181e-01 1.28423323e-03 1.93372291e-03]\n",
            " [9.97268897e-01 6.39942215e-04 1.34504266e-04 1.95652416e-03]\n",
            " [1.99617446e-03 9.99067692e-01 1.74422974e-03 3.49140616e-03]\n",
            " [3.16199427e-03 9.99838614e-01 1.08688690e-02 3.73777430e-03]\n",
            " [2.43435877e-04 9.99886181e-01 1.77032782e-03 3.25927423e-03]\n",
            " [1.41377008e-02 4.51386832e-04 7.79988189e-01 9.47881028e-03]\n",
            " [4.40606399e-04 9.99806529e-01 1.55775586e-03 4.72187689e-04]\n",
            " [4.45672084e-03 5.34072072e-04 9.83668472e-01 3.02889516e-03]\n",
            " [1.93502826e-04 9.99728660e-01 8.00364564e-03 2.89193675e-02]]\n"
          ]
        }
      ]
    },
    {
      "cell_type": "markdown",
      "source": [
        "AUROCS GLOBAL"
      ],
      "metadata": {
        "id": "6NelF3pwcHqd"
      }
    },
    {
      "cell_type": "code",
      "source": [
        "\tAUROCs_global = compute_AUCs(ybin, y_prob)\n",
        "\tAUROCs_global_avg = np.array(AUROCs_global[:4]).mean()\n",
        "\n",
        "\tROCs_global = compute_ROCs(ybin, y_prob)\n",
        "\n",
        "\tAUROCs_local = [0. for a in range(NUM_CLASSES)]\n",
        "\tAUROCs_local_avg = 0.\n",
        "\tAUROCs_fusion = [0. for a in range(NUM_CLASSES)]\n",
        "\tAUROCs_fusion_avg = 0.\n"
      ],
      "metadata": {
        "id": "VS-fyykIk1FT"
      },
      "execution_count": 32,
      "outputs": []
    },
    {
      "cell_type": "code",
      "source": [
        "print(AUROCs_global)\n",
        "print(AUROCs_global_avg)\n",
        "print(ROCs_global)\n"
      ],
      "metadata": {
        "id": "Z42s5p_ScK0T",
        "colab": {
          "base_uri": "https://localhost:8080/"
        },
        "outputId": "e36a3364-a8c3-495b-8528-990e43aba3ec"
      },
      "execution_count": 33,
      "outputs": [
        {
          "output_type": "stream",
          "name": "stdout",
          "text": [
            "[1.0, 0.9285714285714285, 1.0, 1.0]\n",
            "0.9821428571428571\n",
            "{'fpr': [[0.0, 0.0, 0.0, 1.0], [0.0, 0.0, 0.0, 0.0, 0.0, 0.125, 0.125, 0.875, 0.875, 1.0], [0.0, 0.0, 0.0, 1.0], [0.0, 0.0, 0.0, 1.0]], 'tpr': [[0.0, 0.3333333333333333, 1.0, 1.0], [0.0, 0.21428571428571427, 0.2857142857142857, 0.5714285714285714, 0.8571428571428571, 0.8571428571428571, 0.9285714285714286, 0.9285714285714286, 1.0, 1.0], [0.0, 0.5, 1.0, 1.0], [0.0, 0.3333333333333333, 1.0, 1.0]], 'thresholds': [[1.99726889737261, 0.99726889737261, 0.5686278535596356, 1.3748244445203224e-05], [1.9998861814974291, 0.9998861814974291, 0.9998634741804568, 0.9998065285941924, 0.9629354329568465, 0.8917808544603743, 0.5959402490745536, 0.00037665475062397674, 0.00018294042689877607, 4.402126871521996e-05], [1.9836684716084205, 0.9836684716084205, 0.7799881889617112, 8.549054787625357e-05], [1.9198291558356435, 0.9198291558356434, 0.29148145040137385, 0.000300104807325217]], 'gmeans': [[0.0, 0.5773502691896257, 1.0, 0.0], [0.0, 0.4629100498862757, 0.5345224838248488, 0.7559289460184544, 0.9258200997725514, 0.8660254037844386, 0.9013878188659973, 0.34069257193462343, 0.3535533905932738, 0.0], [0.0, 0.7071067811865476, 1.0, 0.0], [0.0, 0.5773502691896257, 1.0, 0.0]], 'idmax': [2, 4, 2, 2], 'optimal_threshold': [0.5686278535596356, 0.9629354329568465, 0.7799881889617112, 0.29148145040137385]}\n"
          ]
        }
      ]
    },
    {
      "cell_type": "code",
      "source": [
        "print(create_roc_curve(ybin,y_prob))"
      ],
      "metadata": {
        "colab": {
          "base_uri": "https://localhost:8080/",
          "height": 297
        },
        "id": "GuC_jbeFekuo",
        "outputId": "55ee823a-92f6-4189-8621-3f30a778f93f"
      },
      "execution_count": 34,
      "outputs": [
        {
          "output_type": "display_data",
          "data": {
            "image/png": "[encoded data removed]",
            "text/plain": [
              "<Figure size 432x288 with 1 Axes>"
            ]
          },
          "metadata": {
            "needs_background": "light"
          }
        },
        {
          "output_type": "stream",
          "name": "stdout",
          "text": [
            "None\n"
          ]
        }
      ]
    },
    {
      "cell_type": "markdown",
      "source": [
        "**PRECISION-RECALL CURVE**"
      ],
      "metadata": {
        "id": "7ccggQkBYRxS"
      }
    },
    {
      "cell_type": "code",
      "source": [
        "def create_precision_recall_curve(ybin, y_prob):\n",
        "\ty_np = ybin\n",
        "\tpred_np = y_prob\n",
        "\n",
        "\tcolors = [\n",
        "\t'#0033cc', '#ff0000', '#ff9933', '#993399']\n",
        "\n",
        "\tlinestyles = [\n",
        "\t'solid', 'dotted', 'dashed', 'dashdot']\n",
        "\n",
        "\tfor i in range(len(y_np[0])):\n",
        "\t\tprecision, recall, thresholds = precision_recall_curve(y_np[:, i], pred_np[:, i])\n",
        "\t\tfscore = (2 * precision * recall) / (precision + recall)\n",
        "\t\tix = np.argmax(fscore)\n",
        "\t\tplt.plot([0,1], [0,1], linestyle='--')\n",
        "\t\tplt.plot(recall, precision, linestyle=linestyles[i], color=colors[i], label='{} t={:.5f} F={:.3f}'.format(CLASS_NAMES[i], thresholds[ix], fscore[ix]))\n",
        "\t\tplt.scatter(recall[ix], precision[ix], marker='o', color=colors[i])\n",
        "\n",
        "\tplt.xlabel('False Positive Rate')\n",
        "\tplt.ylabel('True Positive Rate')\n",
        "\tplt.legend()\n",
        "\tplt.show()"
      ],
      "metadata": {
        "id": "rVYhYATSYW-S"
      },
      "execution_count": 35,
      "outputs": []
    },
    {
      "cell_type": "code",
      "source": [
        "print(create_precision_recall_curve(ybin,y_prob))"
      ],
      "metadata": {
        "colab": {
          "base_uri": "https://localhost:8080/",
          "height": 297
        },
        "id": "tlvG1xzhq6VT",
        "outputId": "9ef9f3f1-5d94-4b2a-ebf0-28a7a541fd74"
      },
      "execution_count": 36,
      "outputs": [
        {
          "output_type": "display_data",
          "data": {
            "image/png": "[encoded data removed]",
            "text/plain": [
              "<Figure size 432x288 with 1 Axes>"
            ]
          },
          "metadata": {
            "needs_background": "light"
          }
        },
        {
          "output_type": "stream",
          "name": "stdout",
          "text": [
            "None\n"
          ]
        }
      ]
    },
    {
      "cell_type": "markdown",
      "source": [
        "**MODEL RESAMPLING DENGAN SMOTENC**"
      ],
      "metadata": {
        "id": "3rBWpzBPlVXX"
      }
    },
    {
      "cell_type": "markdown",
      "source": [
        "RESAMPLING DATA DENGAN SMOTENC"
      ],
      "metadata": {
        "id": "ZSNc0xbdlmhv"
      }
    },
    {
      "cell_type": "code",
      "source": [
        "ovr = SMOTENC(random_state=0, categorical_features=[6271,6272,6273], k_neighbors=2)\n",
        "x_smotenc, y_smotenc = ovr.fit_resample(X_train, y_train.ravel())\n",
        "x_smotenc.shape, y_smotenc.shape"
      ],
      "metadata": {
        "colab": {
          "base_uri": "https://localhost:8080/"
        },
        "id": "Xx4YPke1lew8",
        "outputId": "20da59ce-5f26-407a-df3e-5e8c08b940cd"
      },
      "execution_count": 37,
      "outputs": [
        {
          "output_type": "execute_result",
          "data": {
            "text/plain": [
              "((100, 6274), (100,))"
            ]
          },
          "metadata": {},
          "execution_count": 37
        }
      ]
    },
    {
      "cell_type": "markdown",
      "source": [
        "MELIHAT JUMLAH MASING-MASING KELAS SETELAH DIRESAMPLING"
      ],
      "metadata": {
        "id": "3GwJLJzKllQQ"
      }
    },
    {
      "cell_type": "code",
      "source": [
        "y_train_smotenc = pd.DataFrame(data=y_smotenc, columns=['class'])\n",
        "sns.displot(y_train_smotenc, x=\"class\")"
      ],
      "metadata": {
        "colab": {
          "base_uri": "https://localhost:8080/",
          "height": 387
        },
        "id": "9yZ4SVzFmB1w",
        "outputId": "35c8cec2-b93e-4d66-e983-ba4920af0cc5"
      },
      "execution_count": 38,
      "outputs": [
        {
          "output_type": "execute_result",
          "data": {
            "text/plain": [
              "<seaborn.axisgrid.FacetGrid at 0x7f56560bdf10>"
            ]
          },
          "metadata": {},
          "execution_count": 38
        },
        {
          "output_type": "display_data",
          "data": {
            "image/png": "[encoded data removed]",
            "text/plain": [
              "<Figure size 360x360 with 1 Axes>"
            ]
          },
          "metadata": {
            "needs_background": "light"
          }
        }
      ]
    },
    {
      "cell_type": "markdown",
      "source": [
        "MEMBANGUN MODEL SETELAH DIRESAMPLING"
      ],
      "metadata": {
        "id": "KcMjiI0umF6H"
      }
    },
    {
      "cell_type": "code",
      "source": [
        "param_dict_smotenc = {\n",
        "    'num_leaves': [4, 8, 12, 20],\n",
        "    'max_depth': [1,2,3,4,5,6,7,8],\n",
        "    'learning_rate':[0.1,0.3,0.5,0.7,0.9]\n",
        "    }\n",
        "\n",
        "\n",
        "clf_smotenc = lgb.LGBMClassifier(boosting_type='gbdt', objective='multiclass',\n",
        "                         colsample_bytree=1.0, n_estimators=100,\n",
        "                         num_class=4, metric='multi_logloss')\n",
        "\n",
        "gs_smotenc=GridSearchCV(clf_smotenc, param_dict_smotenc, scoring='accuracy', verbose=1,cv=5, n_jobs=1)\n",
        "gs_smotenc.fit(x_smotenc,y_smotenc)\n",
        "gs_smotenc.best_params_\n",
        "gs_smotenc.best_score_"
      ],
      "metadata": {
        "colab": {
          "base_uri": "https://localhost:8080/"
        },
        "id": "LfOWhPfhmN52",
        "outputId": "4ea4e5db-7ef3-427d-f9eb-b37f0e40f306"
      },
      "execution_count": 40,
      "outputs": [
        {
          "metadata": {
            "tags": null
          },
          "name": "stdout",
          "output_type": "stream",
          "text": [
            "Fitting 5 folds for each of 160 candidates, totalling 800 fits\n"
          ]
        },
        {
          "output_type": "execute_result",
          "data": {
            "text/plain": [
              "0.93"
            ]
          },
          "metadata": {},
          "execution_count": 40
        }
      ]
    },
    {
      "cell_type": "markdown",
      "source": [
        "HASIL DENGAN RESAMPLING"
      ],
      "metadata": {
        "id": "AgUcFkoLmTGO"
      }
    },
    {
      "cell_type": "code",
      "source": [
        "predict_grid_smotenc = gs_smotenc.predict(X_test)\n",
        "print(\"nilai f-1 score AFTER SMOTENC     : %0.3f\"% metrics.f1_score(y_test, predict_grid_smotenc, average='macro'))\n",
        "print(\"nilai akurasi AFTER SMOTENC        : %0.3f\"% metrics.accuracy_score(y_test, predict_grid_smotenc))\n",
        "\n",
        "print('Combination SMOTENC Results:',classification_report_imbalanced(y_test, predict_grid_smotenc))\n",
        "print(confusion_matrix(y_test, predict_grid_smotenc))\n",
        "print('Akurasi Combination SMOTENC = ', accuracy_score(y_test, predict_grid_smotenc))"
      ],
      "metadata": {
        "colab": {
          "base_uri": "https://localhost:8080/"
        },
        "id": "dqoez-dnmdk_",
        "outputId": "5c2bedb3-865a-48fb-dfa9-372fa65653a3"
      },
      "execution_count": 41,
      "outputs": [
        {
          "output_type": "stream",
          "name": "stdout",
          "text": [
            "nilai f-1 score AFTER SMOTENC     : 0.815\n",
            "nilai akurasi AFTER SMOTENC        : 0.864\n",
            "Combination SMOTENC Results:                    pre       rec       spe        f1       geo       iba       sup\n",
            "\n",
            "          0       0.67      0.67      0.95      0.67      0.79      0.61         3\n",
            "          1       0.93      0.93      0.88      0.93      0.90      0.82        14\n",
            "          2       1.00      1.00      1.00      1.00      1.00      1.00         2\n",
            "          3       0.67      0.67      0.95      0.67      0.79      0.61         3\n",
            "\n",
            "avg / total       0.86      0.86      0.91      0.86      0.88      0.78        22\n",
            "\n",
            "[[ 2  0  0  1]\n",
            " [ 1 13  0  0]\n",
            " [ 0  0  2  0]\n",
            " [ 0  1  0  2]]\n",
            "Akurasi Combination SMOTENC =  0.8636363636363636\n"
          ]
        }
      ]
    },
    {
      "cell_type": "markdown",
      "source": [
        "CONFUSSION MATRIX SETELAH DIRESAMPLING"
      ],
      "metadata": {
        "id": "yD80xnAdm0Cu"
      }
    },
    {
      "cell_type": "code",
      "source": [
        "classes =[]\n",
        "labeles=np.unique(y_train)\n",
        "for v in labeles:\n",
        "    classes.append('Class '+ str(v))\n",
        "print(classes)\n",
        "classes\n",
        "\n",
        "cnf_matrix_smotenc = confusion_matrix(y_test, predict_grid_smotenc, labels=labeles)\n",
        "cnf_matrix_smotenc\n",
        "\n",
        "f = sns.heatmap(cnf_matrix_smotenc, annot=True)"
      ],
      "metadata": {
        "colab": {
          "base_uri": "https://localhost:8080/",
          "height": 283
        },
        "id": "bCqtFCsvm-FU",
        "outputId": "ff498b23-52c9-44bb-a018-2c93c2ad402f"
      },
      "execution_count": 42,
      "outputs": [
        {
          "output_type": "stream",
          "name": "stdout",
          "text": [
            "['Class 0', 'Class 1', 'Class 2', 'Class 3']\n"
          ]
        },
        {
          "output_type": "display_data",
          "data": {
            "image/png": "[encoded data removed]",
            "text/plain": [
              "<Figure size 432x288 with 2 Axes>"
            ]
          },
          "metadata": {
            "needs_background": "light"
          }
        }
      ]
    },
    {
      "cell_type": "markdown",
      "source": [
        "****LGB TRAIN SETELAH RESAMPLING**********************************"
      ],
      "metadata": {
        "id": "yu6DWItinHA1"
      }
    },
    {
      "cell_type": "markdown",
      "source": [
        "DATASET LGB&CATEGORICAL FEATURE"
      ],
      "metadata": {
        "id": "77pghKTYnYYT"
      }
    },
    {
      "cell_type": "code",
      "source": [
        "lgb_train_smotenc = lgb.Dataset(x_smotenc, label= y_smotenc)\n",
        "lgb_test_smotenc = lgb.Dataset(X_test, y_test)\n",
        "cate_features = [6271,6272,6273]"
      ],
      "metadata": {
        "id": "jcWj_adznP3L"
      },
      "execution_count": 43,
      "outputs": []
    },
    {
      "cell_type": "markdown",
      "source": [
        "TRAINING MODEL"
      ],
      "metadata": {
        "id": "HSuaMsyyndRq"
      }
    },
    {
      "cell_type": "code",
      "source": [
        "param_smotenc = {\n",
        "'boosting_type': 'gbdt',\n",
        "'objective': 'multiclass',\n",
        "'metric': 'multi_logloss',\n",
        "'num_class':4,\n",
        "'max_depth':1,\n",
        "'num_leaves':4,\n",
        "'learning_rate':0.1\n",
        "}\n",
        "\n",
        "gbm_smotenc = lgb.train(\n",
        "param_smotenc,\n",
        "lgb_train_smotenc,\n",
        "categorical_feature = cate_features,\n",
        "num_boost_round=100,\n",
        "valid_sets=[lgb_train_smotenc, lgb_test_smotenc],\n",
        "early_stopping_rounds=10\n",
        ")\n",
        "\n",
        "gbm_smotenc.best_iteration\n",
        "gbm_smotenc.best_score"
      ],
      "metadata": {
        "colab": {
          "base_uri": "https://localhost:8080/"
        },
        "id": "yqZ6M4w1nl_m",
        "outputId": "f769cdeb-ec03-4906-a9c5-b3a228cbad9b"
      },
      "execution_count": 44,
      "outputs": [
        {
          "output_type": "stream",
          "name": "stderr",
          "text": [
            "/usr/local/lib/python3.7/dist-packages/lightgbm/basic.py:1209: UserWarning: categorical_feature in Dataset is overridden.\n",
            "New categorical_feature is [6271, 6272, 6273]\n",
            "  'New categorical_feature is {}'.format(sorted(list(categorical_feature))))\n",
            "/usr/local/lib/python3.7/dist-packages/lightgbm/basic.py:762: UserWarning: categorical_feature in param dict is overridden.\n",
            "  warnings.warn('categorical_feature in param dict is overridden.')\n"
          ]
        },
        {
          "output_type": "stream",
          "name": "stdout",
          "text": [
            "[1]\ttraining's multi_logloss: 1.20053\tvalid_1's multi_logloss: 1.23801\n",
            "Training until validation scores don't improve for 10 rounds.\n",
            "[2]\ttraining's multi_logloss: 1.05095\tvalid_1's multi_logloss: 1.11926\n",
            "[3]\ttraining's multi_logloss: 0.927037\tvalid_1's multi_logloss: 1.02407\n",
            "[4]\ttraining's multi_logloss: 0.822183\tvalid_1's multi_logloss: 0.942095\n",
            "[5]\ttraining's multi_logloss: 0.732337\tvalid_1's multi_logloss: 0.871035\n",
            "[6]\ttraining's multi_logloss: 0.654431\tvalid_1's multi_logloss: 0.807977\n",
            "[7]\ttraining's multi_logloss: 0.586447\tvalid_1's multi_logloss: 0.756884\n",
            "[8]\ttraining's multi_logloss: 0.52661\tvalid_1's multi_logloss: 0.710323\n",
            "[9]\ttraining's multi_logloss: 0.473744\tvalid_1's multi_logloss: 0.668443\n",
            "[10]\ttraining's multi_logloss: 0.426821\tvalid_1's multi_logloss: 0.634208\n",
            "[11]\ttraining's multi_logloss: 0.38501\tvalid_1's multi_logloss: 0.600202\n",
            "[12]\ttraining's multi_logloss: 0.347824\tvalid_1's multi_logloss: 0.572515\n",
            "[13]\ttraining's multi_logloss: 0.31452\tvalid_1's multi_logloss: 0.545948\n",
            "[14]\ttraining's multi_logloss: 0.284711\tvalid_1's multi_logloss: 0.526322\n",
            "[15]\ttraining's multi_logloss: 0.257939\tvalid_1's multi_logloss: 0.507182\n",
            "[16]\ttraining's multi_logloss: 0.23385\tvalid_1's multi_logloss: 0.48545\n",
            "[17]\ttraining's multi_logloss: 0.212134\tvalid_1's multi_logloss: 0.470868\n",
            "[18]\ttraining's multi_logloss: 0.192582\tvalid_1's multi_logloss: 0.458156\n",
            "[19]\ttraining's multi_logloss: 0.174909\tvalid_1's multi_logloss: 0.444225\n",
            "[20]\ttraining's multi_logloss: 0.158952\tvalid_1's multi_logloss: 0.43218\n",
            "[21]\ttraining's multi_logloss: 0.14453\tvalid_1's multi_logloss: 0.420111\n",
            "[22]\ttraining's multi_logloss: 0.131457\tvalid_1's multi_logloss: 0.413257\n",
            "[23]\ttraining's multi_logloss: 0.11962\tvalid_1's multi_logloss: 0.407221\n",
            "[24]\ttraining's multi_logloss: 0.108883\tvalid_1's multi_logloss: 0.396332\n",
            "[25]\ttraining's multi_logloss: 0.0991511\tvalid_1's multi_logloss: 0.387815\n",
            "[26]\ttraining's multi_logloss: 0.0903328\tvalid_1's multi_logloss: 0.384554\n",
            "[27]\ttraining's multi_logloss: 0.0823148\tvalid_1's multi_logloss: 0.381538\n",
            "[28]\ttraining's multi_logloss: 0.0750333\tvalid_1's multi_logloss: 0.373931\n",
            "[29]\ttraining's multi_logloss: 0.0684109\tvalid_1's multi_logloss: 0.370985\n",
            "[30]\ttraining's multi_logloss: 0.0623845\tvalid_1's multi_logloss: 0.365442\n",
            "[31]\ttraining's multi_logloss: 0.0569065\tvalid_1's multi_logloss: 0.364367\n",
            "[32]\ttraining's multi_logloss: 0.0519282\tvalid_1's multi_logloss: 0.364635\n",
            "[33]\ttraining's multi_logloss: 0.0473896\tvalid_1's multi_logloss: 0.360399\n",
            "[34]\ttraining's multi_logloss: 0.043256\tvalid_1's multi_logloss: 0.359942\n",
            "[35]\ttraining's multi_logloss: 0.0394889\tvalid_1's multi_logloss: 0.355848\n",
            "[36]\ttraining's multi_logloss: 0.0360615\tvalid_1's multi_logloss: 0.353014\n",
            "[37]\ttraining's multi_logloss: 0.0329398\tvalid_1's multi_logloss: 0.349616\n",
            "[38]\ttraining's multi_logloss: 0.0300908\tvalid_1's multi_logloss: 0.351128\n",
            "[39]\ttraining's multi_logloss: 0.0274957\tvalid_1's multi_logloss: 0.352671\n",
            "[40]\ttraining's multi_logloss: 0.0251257\tvalid_1's multi_logloss: 0.349651\n",
            "[41]\ttraining's multi_logloss: 0.0229636\tvalid_1's multi_logloss: 0.355435\n",
            "[42]\ttraining's multi_logloss: 0.0209911\tvalid_1's multi_logloss: 0.35725\n",
            "[43]\ttraining's multi_logloss: 0.0191918\tvalid_1's multi_logloss: 0.355357\n",
            "[44]\ttraining's multi_logloss: 0.0175493\tvalid_1's multi_logloss: 0.353395\n",
            "[45]\ttraining's multi_logloss: 0.016051\tvalid_1's multi_logloss: 0.352344\n",
            "[46]\ttraining's multi_logloss: 0.0146825\tvalid_1's multi_logloss: 0.355343\n",
            "[47]\ttraining's multi_logloss: 0.0134314\tvalid_1's multi_logloss: 0.357927\n",
            "Early stopping, best iteration is:\n",
            "[37]\ttraining's multi_logloss: 0.0329398\tvalid_1's multi_logloss: 0.349616\n"
          ]
        },
        {
          "output_type": "execute_result",
          "data": {
            "text/plain": [
              "defaultdict(dict,\n",
              "            {'training': {'multi_logloss': 0.03293984815889126},\n",
              "             'valid_1': {'multi_logloss': 0.3496155692803566}})"
            ]
          },
          "metadata": {},
          "execution_count": 44
        }
      ]
    },
    {
      "cell_type": "markdown",
      "source": [
        "HASIL PREDIKSI SETELAH RESAMPLING"
      ],
      "metadata": {
        "id": "4fFVCLSbnn60"
      }
    },
    {
      "cell_type": "code",
      "source": [
        "predict_gbm_smotenc=gbm_smotenc.predict(X_test)\n",
        "predict_gbm_smotenc\n",
        "\n",
        "#argmax() method\n",
        "y_pred_smotenc = [np.argmax(line) for line in predict_gbm]\n",
        "y_pred_smotenc\n",
        "\n",
        "accuracy_score(y_test, y_pred_smotenc)\n",
        "\n",
        "cnf_matrix_smotenc=confusion_matrix(y_test, y_pred_smotenc)\n",
        "cnf_matrix_smotenc\n",
        "\n",
        "cnf_matrix_smotenc = confusion_matrix(y_test, y_pred_smotenc, labels=labeles)\n",
        "\n",
        "f = sns.heatmap(cnf_matrix_smotenc, annot=True)\n",
        "\n",
        "print(classification_report(y_test, y_pred_smotenc))"
      ],
      "metadata": {
        "colab": {
          "base_uri": "https://localhost:8080/",
          "height": 456
        },
        "id": "LusBZKP6oNOL",
        "outputId": "8994ba9c-b2f4-48f7-83e4-15424459b09c"
      },
      "execution_count": 45,
      "outputs": [
        {
          "output_type": "stream",
          "name": "stdout",
          "text": [
            "              precision    recall  f1-score   support\n",
            "\n",
            "           0       0.67      0.67      0.67         3\n",
            "           1       0.93      0.93      0.93        14\n",
            "           2       1.00      1.00      1.00         2\n",
            "           3       1.00      1.00      1.00         3\n",
            "\n",
            "    accuracy                           0.91        22\n",
            "   macro avg       0.90      0.90      0.90        22\n",
            "weighted avg       0.91      0.91      0.91        22\n",
            "\n"
          ]
        },
        {
          "output_type": "display_data",
          "data": {
            "image/png": "[encoded data removed]",
            "text/plain": [
              "<Figure size 432x288 with 2 Axes>"
            ]
          },
          "metadata": {
            "needs_background": "light"
          }
        }
      ]
    },
    {
      "cell_type": "markdown",
      "source": [
        "FEATURE IMPORTANT HASIL KLASIFIKASI - RESAMPLING"
      ],
      "metadata": {
        "id": "fIIfcCFroc9h"
      }
    },
    {
      "cell_type": "code",
      "source": [
        "lgb.plot_importance(gbm_smotenc)\n",
        "lgb.plot_tree(gbm_smotenc)\n"
      ],
      "metadata": {
        "colab": {
          "base_uri": "https://localhost:8080/",
          "height": 413
        },
        "id": "KAkIeP_Foj1P",
        "outputId": "b10c5670-5a31-4458-9021-a17d64298a30"
      },
      "execution_count": 46,
      "outputs": [
        {
          "output_type": "execute_result",
          "data": {
            "text/plain": [
              "<matplotlib.axes._subplots.AxesSubplot at 0x7f565644e490>"
            ]
          },
          "metadata": {},
          "execution_count": 46
        },
        {
          "output_type": "display_data",
          "data": {
            "image/png": "[encoded data removed]",
            "text/plain": [
              "<Figure size 432x288 with 1 Axes>"
            ]
          },
          "metadata": {
            "needs_background": "light"
          }
        },
        {
          "output_type": "display_data",
          "data": {
            "image/png": "[encoded data removed]",
            "text/plain": [
              "<Figure size 432x288 with 1 Axes>"
            ]
          },
          "metadata": {
            "needs_background": "light"
          }
        }
      ]
    },
    {
      "cell_type": "markdown",
      "source": [
        "**ROC-AUC - AFTER RESAMPLING**"
      ],
      "metadata": {
        "id": "7z4nTDFjo27-"
      }
    },
    {
      "cell_type": "code",
      "source": [
        "clf_smotenc = lgb.LGBMClassifier(boosting_type='gbdt', objective='multiclass',\n",
        "                         colsample_bytree=1.0, n_estimators=100,\n",
        "                         num_class=4, metric='multi_logloss', learning_rate = 0.1, max_depth = 1, num_leaves = 4)"
      ],
      "metadata": {
        "id": "oCY49t6ko28A"
      },
      "execution_count": 47,
      "outputs": []
    },
    {
      "cell_type": "markdown",
      "source": [
        "HASIL PROBS"
      ],
      "metadata": {
        "id": "xs9nH11go28B"
      }
    },
    {
      "cell_type": "code",
      "source": [
        "y_prob_smotenc = clf_smotenc.fit(x_smotenc, y_smotenc).predict_proba(X_test)\n",
        "ybin_smotenc = label_binarize(y_test, classes=[0, 1, 2, 3])\n",
        "n_classes = ybin_smotenc.shape[1]\n"
      ],
      "metadata": {
        "id": "-6G_rh4Eo28C"
      },
      "execution_count": 48,
      "outputs": []
    },
    {
      "cell_type": "code",
      "source": [
        "# Compute ROC curve and ROC area for each class\n",
        "fpr = dict()\n",
        "tpr = dict()\n",
        "roc_auc = dict()\n",
        "for i in range(n_classes):\n",
        "    fpr[i], tpr[i], _ = roc_curve(ybin_smotenc[:, i], y_prob_smotenc[:, i])\n",
        "    roc_auc[i] = auc(fpr[i], tpr[i])\n",
        "\n",
        "# Compute micro-average ROC curve and ROC area\n",
        "fpr[\"micro\"], tpr[\"micro\"], _ = roc_curve(ybin_smotenc.ravel(), y_prob_smotenc.ravel())\n",
        "roc_auc[\"micro\"] = auc(fpr[\"micro\"], tpr[\"micro\"])\n",
        "\n",
        "plt.figure()\n",
        "lw = 2\n",
        "plt.plot(fpr[2], tpr[2], color='darkorange',\n",
        "         lw=lw, label='ROC curve (area = %0.2f)' % roc_auc[2])\n",
        "plt.plot([0, 1], [0, 1], color='navy', lw=lw, linestyle='--')\n",
        "plt.xlim([0.0, 1.0])\n",
        "plt.ylim([0.0, 1.05])\n",
        "plt.xlabel('False Positive Rate')\n",
        "plt.ylabel('True Positive Rate')\n",
        "plt.title('Receiver operating characteristic example')\n",
        "plt.legend(loc=\"lower right\")\n",
        "plt.show()"
      ],
      "metadata": {
        "colab": {
          "base_uri": "https://localhost:8080/",
          "height": 295
        },
        "id": "dBlBjbIQo28D",
        "outputId": "807bd303-a23c-40a8-fbc0-6a910c28840b"
      },
      "execution_count": 49,
      "outputs": [
        {
          "output_type": "display_data",
          "data": {
            "image/png": "[encoded data removed]",
            "text/plain": [
              "<Figure size 432x288 with 1 Axes>"
            ]
          },
          "metadata": {
            "needs_background": "light"
          }
        }
      ]
    },
    {
      "cell_type": "code",
      "source": [
        "# First aggregate all false positive rates\n",
        "all_fpr = np.unique(np.concatenate([fpr[i] for i in range(n_classes)]))\n",
        "\n",
        "# Then interpolate all ROC curves at this points\n",
        "mean_tpr = np.zeros_like(all_fpr)\n",
        "for i in range(n_classes):\n",
        "    mean_tpr += interp(all_fpr, fpr[i], tpr[i])\n",
        "\n",
        "# Finally average it and compute AUC\n",
        "mean_tpr /= n_classes\n",
        "\n",
        "fpr[\"macro\"] = all_fpr\n",
        "tpr[\"macro\"] = mean_tpr\n",
        "roc_auc[\"macro\"] = auc(fpr[\"macro\"], tpr[\"macro\"])\n",
        "\n",
        "# Plot all ROC curves\n",
        "plt.figure()\n",
        "plt.plot(fpr[\"micro\"], tpr[\"micro\"],\n",
        "         label='micro-average ROC curve (area = {0:0.2f})'\n",
        "               ''.format(roc_auc[\"micro\"]),\n",
        "         color='deeppink', linestyle=':', linewidth=4)\n",
        "\n",
        "plt.plot(fpr[\"macro\"], tpr[\"macro\"],\n",
        "         label='macro-average ROC curve (area = {0:0.2f})'\n",
        "               ''.format(roc_auc[\"macro\"]),\n",
        "         color='navy', linestyle=':', linewidth=4)\n",
        "\n",
        "colors = cycle(['aqua', 'darkorange', 'cornflowerblue', 'red'])\n",
        "for i, color in zip(range(n_classes), colors):\n",
        "    plt.plot(fpr[i], tpr[i], color=color, lw=lw,\n",
        "             label='ROC curve of class {0} (area = {1:0.2f})'\n",
        "             ''.format(i, roc_auc[i]))\n",
        "\n",
        "plt.plot([0, 1], [0, 1], 'k--', lw=lw)\n",
        "plt.xlim([0.0, 1.0])\n",
        "plt.ylim([0.0, 1.05])\n",
        "plt.xlabel('False Positive Rate')\n",
        "plt.ylabel('True Positive Rate')\n",
        "plt.title('Plot ROC Model LightGBM setelah resampling')\n",
        "plt.legend(loc=\"lower right\")\n",
        "plt.show()"
      ],
      "metadata": {
        "colab": {
          "base_uri": "https://localhost:8080/",
          "height": 350
        },
        "id": "_2k91hT2o28E",
        "outputId": "940643fe-5a1a-4bc1-8c35-594909c14a7f"
      },
      "execution_count": 50,
      "outputs": [
        {
          "output_type": "stream",
          "name": "stderr",
          "text": [
            "/usr/local/lib/python3.7/dist-packages/ipykernel_launcher.py:7: DeprecationWarning: scipy.interp is deprecated and will be removed in SciPy 2.0.0, use numpy.interp instead\n",
            "  import sys\n"
          ]
        },
        {
          "output_type": "display_data",
          "data": {
            "image/png": "[encoded data removed]",
            "text/plain": [
              "<Figure size 432x288 with 1 Axes>"
            ]
          },
          "metadata": {
            "needs_background": "light"
          }
        }
      ]
    },
    {
      "cell_type": "markdown",
      "source": [
        " **BANDINGKAN HASIL ORIGINAL DENGAN RESAMPLING**"
      ],
      "metadata": {
        "id": "mSfjFjbSt08o"
      }
    },
    {
      "cell_type": "code",
      "source": [
        "#ORIGINAL\n",
        "predict_grid = gs.predict(X_test)\n",
        "print(\"nilai f-1 score     : %0.3f\"% metrics.f1_score(y_test, predict_grid, average='macro'))\n",
        "print(\"nilai akurasi        : %0.3f\"% metrics.accuracy_score(y_test, predict_grid))\n",
        "\n",
        "print('Original Results:',classification_report(y_test, predict_grid))\n",
        "print(confusion_matrix(y_test, predict_grid))\n",
        "print('Akurasi Original Result = ', accuracy_score(y_test, predict_grid))"
      ],
      "metadata": {
        "colab": {
          "base_uri": "https://localhost:8080/"
        },
        "id": "A9Mt70syt5v2",
        "outputId": "bcba6066-d572-4104-f6ba-598bd7a759e4"
      },
      "execution_count": 51,
      "outputs": [
        {
          "output_type": "stream",
          "name": "stdout",
          "text": [
            "nilai f-1 score     : 0.899\n",
            "nilai akurasi        : 0.909\n",
            "Original Results:               precision    recall  f1-score   support\n",
            "\n",
            "           0       0.67      0.67      0.67         3\n",
            "           1       0.93      0.93      0.93        14\n",
            "           2       1.00      1.00      1.00         2\n",
            "           3       1.00      1.00      1.00         3\n",
            "\n",
            "    accuracy                           0.91        22\n",
            "   macro avg       0.90      0.90      0.90        22\n",
            "weighted avg       0.91      0.91      0.91        22\n",
            "\n",
            "[[ 2  1  0  0]\n",
            " [ 1 13  0  0]\n",
            " [ 0  0  2  0]\n",
            " [ 0  0  0  3]]\n",
            "Akurasi Original Result =  0.9090909090909091\n"
          ]
        }
      ]
    },
    {
      "cell_type": "code",
      "source": [
        "#SMOTENC\n",
        "predict_grid_smotenc = gs_smotenc.predict(X_test)\n",
        "print(\"nilai f-1 score AFTER SMOTENC     : %0.3f\"% metrics.f1_score(y_test, predict_grid_smotenc, average='macro'))\n",
        "print(\"nilai akurasi AFTER SMOTENC        : %0.3f\"% metrics.accuracy_score(y_test, predict_grid_smotenc))\n",
        "\n",
        "print('Combination SMOTENC Results:',classification_report_imbalanced(y_test, predict_grid_smotenc))\n",
        "print(confusion_matrix(y_test, predict_grid_smotenc))\n",
        "print('Akurasi Combination SMOTENC = ', accuracy_score(y_test, predict_grid_smotenc))"
      ],
      "metadata": {
        "colab": {
          "base_uri": "https://localhost:8080/"
        },
        "outputId": "a1b8ed3a-81da-4c9a-95e7-1f4c5ea5a172",
        "id": "skCijmcsuCn0"
      },
      "execution_count": 52,
      "outputs": [
        {
          "output_type": "stream",
          "name": "stdout",
          "text": [
            "nilai f-1 score AFTER SMOTENC     : 0.815\n",
            "nilai akurasi AFTER SMOTENC        : 0.864\n",
            "Combination SMOTENC Results:                    pre       rec       spe        f1       geo       iba       sup\n",
            "\n",
            "          0       0.67      0.67      0.95      0.67      0.79      0.61         3\n",
            "          1       0.93      0.93      0.88      0.93      0.90      0.82        14\n",
            "          2       1.00      1.00      1.00      1.00      1.00      1.00         2\n",
            "          3       0.67      0.67      0.95      0.67      0.79      0.61         3\n",
            "\n",
            "avg / total       0.86      0.86      0.91      0.86      0.88      0.78        22\n",
            "\n",
            "[[ 2  0  0  1]\n",
            " [ 1 13  0  0]\n",
            " [ 0  0  2  0]\n",
            " [ 0  1  0  2]]\n",
            "Akurasi Combination SMOTENC =  0.8636363636363636\n"
          ]
        }
      ]
    },
    {
      "cell_type": "markdown",
      "source": [
        "MULTICLASSOVA - RESAMPLING "
      ],
      "metadata": {
        "id": "bPQUYXzrzlWw"
      }
    },
    {
      "cell_type": "code",
      "source": [
        "clf_smotenc2 = lgb.LGBMClassifier(boosting_type='gbdt', objective='multiclassova',\n",
        "                         colsample_bytree=1.0, n_estimators=100,\n",
        "                         num_class=4, metric='multi_logloss', learning_rate = 0.1, max_depth = 1, num_leaves = 4)"
      ],
      "metadata": {
        "id": "ymClpqZuzlWw"
      },
      "execution_count": 53,
      "outputs": []
    },
    {
      "cell_type": "code",
      "source": [
        "y_pred_smotenc2 = clf_smotenc2.fit(x_smotenc, y_smotenc).predict(X_test)\n",
        "y_pred_smotenc2"
      ],
      "metadata": {
        "colab": {
          "base_uri": "https://localhost:8080/"
        },
        "outputId": "4e8f7dff-d53a-4a13-fb5f-fcabf809f694",
        "id": "TNG9-hwKzlWx"
      },
      "execution_count": 54,
      "outputs": [
        {
          "output_type": "execute_result",
          "data": {
            "text/plain": [
              "array([3, 1, 0, 1, 1, 3, 3, 1, 1, 0, 1, 1, 1, 1, 0, 1, 1, 1, 2, 1, 2, 1])"
            ]
          },
          "metadata": {},
          "execution_count": 54
        }
      ]
    },
    {
      "cell_type": "code",
      "source": [
        "y_proba_smotenc2 = clf_smotenc2.fit(x_smotenc, y_smotenc).predict_proba(X_test)\n",
        "y_proba_smotenc2"
      ],
      "metadata": {
        "colab": {
          "base_uri": "https://localhost:8080/"
        },
        "outputId": "3885af69-5b02-4c9c-ee59-fad994b8346c",
        "id": "RpsOo0m1zlWy"
      },
      "execution_count": 55,
      "outputs": [
        {
          "output_type": "execute_result",
          "data": {
            "text/plain": [
              "array([[9.99542876e-01, 1.47506030e-03, 1.36605472e-05, 9.99961368e-01],\n",
              "       [3.60872902e-05, 9.97543596e-01, 1.36605472e-05, 1.36605472e-05],\n",
              "       [9.10220798e-01, 1.83781038e-04, 1.36605472e-05, 1.36605472e-05],\n",
              "       [5.04598741e-05, 9.99850617e-01, 1.36605472e-05, 1.36605472e-05],\n",
              "       [2.19679776e-04, 1.31994425e-03, 1.36605472e-05, 1.36605472e-05],\n",
              "       [3.68881536e-04, 1.81836478e-04, 1.36605472e-05, 9.99961368e-01],\n",
              "       [1.63263172e-04, 3.85595093e-05, 1.36605472e-05, 9.99961368e-01],\n",
              "       [3.60872902e-05, 9.99850617e-01, 1.36605472e-05, 1.36605472e-05],\n",
              "       [1.27508583e-04, 9.14581685e-01, 1.36605472e-05, 1.36605472e-05],\n",
              "       [9.90294851e-01, 3.41079776e-01, 1.36605472e-05, 1.36605472e-05],\n",
              "       [1.38623768e-02, 6.67272570e-01, 1.36605472e-05, 1.36605472e-05],\n",
              "       [5.04598741e-05, 9.99785098e-01, 1.36605472e-05, 1.36605472e-05],\n",
              "       [3.60872902e-05, 9.99850617e-01, 1.36605472e-05, 1.36605472e-05],\n",
              "       [5.04598741e-05, 9.99850617e-01, 1.36605472e-05, 1.36605472e-05],\n",
              "       [9.98786155e-01, 3.07310236e-04, 1.36605472e-05, 1.36605472e-05],\n",
              "       [1.19825184e-03, 9.99783189e-01, 1.36605472e-05, 1.36605472e-05],\n",
              "       [1.02642410e-04, 9.99724119e-01, 1.36605472e-05, 1.36605472e-05],\n",
              "       [1.21635456e-04, 9.99850617e-01, 1.36605472e-05, 1.36605472e-05],\n",
              "       [1.48957648e-03, 1.51347310e-04, 9.99961368e-01, 1.36605472e-05],\n",
              "       [5.04598741e-05, 9.99850617e-01, 1.36605472e-05, 1.36605472e-05],\n",
              "       [1.53680924e-03, 1.41174725e-03, 9.99961368e-01, 1.36605472e-05],\n",
              "       [9.41635470e-04, 9.99688105e-01, 1.36605472e-05, 1.36605472e-05]])"
            ]
          },
          "metadata": {},
          "execution_count": 55
        }
      ]
    },
    {
      "cell_type": "code",
      "source": [
        "y_prob_smotenc2 = clf_smotenc2.fit(x_smotenc, y_smotenc).predict_proba(X_test)\n",
        "ybin = label_binarize(y_test, classes=[0, 1, 2, 3])\n",
        "n_classes = ybin.shape[1]\n",
        "CLASS_NAMES = [ 'Group 3', 'Group 4', 'SHH', 'WNT']\n",
        "NUM_CLASSES = len(CLASS_NAMES)"
      ],
      "metadata": {
        "id": "TZsFkHglzlWy"
      },
      "execution_count": 56,
      "outputs": []
    },
    {
      "cell_type": "code",
      "source": [
        "y_prob_smotenc2.shape,ybin.shape"
      ],
      "metadata": {
        "colab": {
          "base_uri": "https://localhost:8080/"
        },
        "outputId": "3951d60d-f347-4757-bd2c-261131858de6",
        "id": "tGXhcgsHzlWz"
      },
      "execution_count": 57,
      "outputs": [
        {
          "output_type": "execute_result",
          "data": {
            "text/plain": [
              "((22, 4), (22, 4))"
            ]
          },
          "metadata": {},
          "execution_count": 57
        }
      ]
    },
    {
      "cell_type": "markdown",
      "source": [
        "**ROC-AUC FOR EACH CLASS (THRESHOLDS)**"
      ],
      "metadata": {
        "id": "qmDEvdsRzlWz"
      }
    },
    {
      "cell_type": "code",
      "source": [
        "def compute_AUCs(ybin, y_prob_smotenc2):\n",
        "\tAUROCs = []\n",
        "\ty_np = ybin\n",
        "\tpred_np = y_prob_smotenc2\n",
        "\tfor i in range(len(y_np[0])):\n",
        "\t\tAUROCs.append(roc_auc_score(y_np[:, i], pred_np[:, i]))\n",
        "\treturn AUROCs\n",
        "\n",
        "def compute_ROCs(ybin, y_prob_smotenc2):\n",
        "\ty_np = ybin\n",
        "\tpred_np = y_prob_smotenc2\n",
        "\n",
        "\tresults = {\n",
        "\t\t'fpr' : [],\n",
        "\t\t'tpr' : [],\n",
        "\t\t'thresholds': [],\n",
        "\t\t'gmeans': [],\n",
        "\t\t'idmax': [],\n",
        "\t\t'optimal_threshold': []\n",
        "\t}\n",
        "\n",
        "\tfor i in range(len(y_np[0])):\n",
        "\t\tfpr, tpr, thresholds = roc_curve(y_np[:, i], pred_np[:, i])\n",
        "\t\tgmeans = np.sqrt(tpr * (1-fpr))\n",
        "\t\tix = np.argmax(gmeans)\n",
        "\t\tresults['fpr'].append(fpr.tolist())\n",
        "\t\tresults['tpr'].append(tpr.tolist())\n",
        "\t\tresults['thresholds'].append(thresholds.tolist())\n",
        "\t\tresults['gmeans'].append(gmeans.tolist())\n",
        "\t\tresults['idmax'].append(int(ix))\n",
        "\t\tresults['optimal_threshold'].append(float(thresholds[ix]))\n",
        "\n",
        "\treturn results\n",
        "\n",
        "def get_threshold(ybin, y_prob_smotenc2):\n",
        "\ty_np = ybin\n",
        "\tpred_np = y_prob_smotenc2\n",
        "\n",
        "\tresults = []\n",
        "\tfor i in range(len(y_np[0])):\n",
        "\t\tfpr, tpr, thresholds = roc_curve(y_np[:, i], pred_np[:, i])\n",
        "\t\tgmeans = np.sqrt(tpr * (1-fpr))\n",
        "\t\tix = np.argmax(gmeans)\n",
        "\t\tresults.append(thresholds[ix])\n",
        "\n",
        "\treturn results\n",
        "\n",
        "def create_roc_curve(ybin, y_prob_smotenc2):\n",
        "\ty_np = ybin\n",
        "\tpred_np = y_prob_smotenc2\n",
        "\n",
        "\tcolors = [\n",
        "\t'#0033cc', '#ff0000', '#ff9933', '#993399']\n",
        "\n",
        "\tlinestyles = [\n",
        "\t'solid', 'dotted', 'dashed', 'dashdot']\n",
        "\n",
        "\tfor i in range(len(y_np[0])):\n",
        "\t\tfpr, tpr, thresholds = roc_curve(y_np[:, i], pred_np[:, i])\n",
        "\t\tgmeans = np.sqrt(tpr * (1-fpr))\n",
        "\t\tix = np.argmax(gmeans)\n",
        "\t\tplt.plot([0,1], [0,1], linestyle='--')\n",
        "\t\tplt.plot(fpr, tpr, linestyle=linestyles[i], color=colors[i], label='{} t={:.5f}'.format(CLASS_NAMES[i], thresholds[ix]))\n",
        "\t\tplt.scatter(fpr[ix], tpr[ix], marker='o', color=colors[i])\n",
        "\n",
        "\tplt.xlabel('False Positive Rate')\n",
        "\tplt.ylabel('True Positive Rate')\n",
        "\tplt.legend()\n",
        "\tplt.show()\n"
      ],
      "metadata": {
        "id": "0VYxRf1kzlW0"
      },
      "execution_count": 58,
      "outputs": []
    },
    {
      "cell_type": "code",
      "source": [
        "y_np = ybin\n",
        "pred_np = y_prob_smotenc2\n",
        "print(y_np)\n",
        "print(pred_np)"
      ],
      "metadata": {
        "colab": {
          "base_uri": "https://localhost:8080/"
        },
        "outputId": "e1743a1e-f154-4902-ef56-82c957065499",
        "id": "sL6Chi03zlW2"
      },
      "execution_count": 59,
      "outputs": [
        {
          "output_type": "stream",
          "name": "stdout",
          "text": [
            "[[1 0 0 0]\n",
            " [0 1 0 0]\n",
            " [0 1 0 0]\n",
            " [0 1 0 0]\n",
            " [0 0 0 1]\n",
            " [0 0 0 1]\n",
            " [0 0 0 1]\n",
            " [0 1 0 0]\n",
            " [0 1 0 0]\n",
            " [1 0 0 0]\n",
            " [0 1 0 0]\n",
            " [0 1 0 0]\n",
            " [0 1 0 0]\n",
            " [0 1 0 0]\n",
            " [1 0 0 0]\n",
            " [0 1 0 0]\n",
            " [0 1 0 0]\n",
            " [0 1 0 0]\n",
            " [0 0 1 0]\n",
            " [0 1 0 0]\n",
            " [0 0 1 0]\n",
            " [0 1 0 0]]\n",
            "[[9.99542876e-01 1.47506030e-03 1.36605472e-05 9.99961368e-01]\n",
            " [3.60872902e-05 9.97543596e-01 1.36605472e-05 1.36605472e-05]\n",
            " [9.10220798e-01 1.83781038e-04 1.36605472e-05 1.36605472e-05]\n",
            " [5.04598741e-05 9.99850617e-01 1.36605472e-05 1.36605472e-05]\n",
            " [2.19679776e-04 1.31994425e-03 1.36605472e-05 1.36605472e-05]\n",
            " [3.68881536e-04 1.81836478e-04 1.36605472e-05 9.99961368e-01]\n",
            " [1.63263172e-04 3.85595093e-05 1.36605472e-05 9.99961368e-01]\n",
            " [3.60872902e-05 9.99850617e-01 1.36605472e-05 1.36605472e-05]\n",
            " [1.27508583e-04 9.14581685e-01 1.36605472e-05 1.36605472e-05]\n",
            " [9.90294851e-01 3.41079776e-01 1.36605472e-05 1.36605472e-05]\n",
            " [1.38623768e-02 6.67272570e-01 1.36605472e-05 1.36605472e-05]\n",
            " [5.04598741e-05 9.99785098e-01 1.36605472e-05 1.36605472e-05]\n",
            " [3.60872902e-05 9.99850617e-01 1.36605472e-05 1.36605472e-05]\n",
            " [5.04598741e-05 9.99850617e-01 1.36605472e-05 1.36605472e-05]\n",
            " [9.98786155e-01 3.07310236e-04 1.36605472e-05 1.36605472e-05]\n",
            " [1.19825184e-03 9.99783189e-01 1.36605472e-05 1.36605472e-05]\n",
            " [1.02642410e-04 9.99724119e-01 1.36605472e-05 1.36605472e-05]\n",
            " [1.21635456e-04 9.99850617e-01 1.36605472e-05 1.36605472e-05]\n",
            " [1.48957648e-03 1.51347310e-04 9.99961368e-01 1.36605472e-05]\n",
            " [5.04598741e-05 9.99850617e-01 1.36605472e-05 1.36605472e-05]\n",
            " [1.53680924e-03 1.41174725e-03 9.99961368e-01 1.36605472e-05]\n",
            " [9.41635470e-04 9.99688105e-01 1.36605472e-05 1.36605472e-05]]\n"
          ]
        }
      ]
    },
    {
      "cell_type": "markdown",
      "source": [
        "AUROCS GLOBAL"
      ],
      "metadata": {
        "id": "ugDa0I3YzlW2"
      }
    },
    {
      "cell_type": "code",
      "source": [
        "\tAUROCs_global = compute_AUCs(ybin, y_prob_smotenc2)\n",
        "\tAUROCs_global_avg = np.array(AUROCs_global[:4]).mean()\n",
        "\n",
        "\tROCs_global = compute_ROCs(ybin, y_prob_smotenc2)\n",
        "\n",
        "\tAUROCs_local = [0. for a in range(NUM_CLASSES)]\n",
        "\tAUROCs_local_avg = 0.\n",
        "\tAUROCs_fusion = [0. for a in range(NUM_CLASSES)]\n",
        "\tAUROCs_fusion_avg = 0.\n"
      ],
      "metadata": {
        "id": "osmOxhD0zlW3"
      },
      "execution_count": 60,
      "outputs": []
    },
    {
      "cell_type": "code",
      "source": [
        "print(AUROCs_global)\n",
        "print(AUROCs_global_avg)\n",
        "print(ROCs_global)\n"
      ],
      "metadata": {
        "colab": {
          "base_uri": "https://localhost:8080/"
        },
        "outputId": "782793b7-b875-4352-fd7b-e6ae63fcc49e",
        "id": "f7eitFOZzlW4"
      },
      "execution_count": 61,
      "outputs": [
        {
          "output_type": "stream",
          "name": "stdout",
          "text": [
            "[1.0, 0.9553571428571429, 1.0, 0.8070175438596492]\n",
            "0.940593671679198\n",
            "{'fpr': [[0.0, 0.0, 0.0, 0.631578947368421, 0.8421052631578947, 1.0], [0.0, 0.0, 0.0, 0.625, 0.625, 1.0], [0.0, 0.0, 1.0], [0.0, 0.05263157894736842, 1.0]], 'tpr': [[0.0, 0.3333333333333333, 1.0, 1.0, 1.0, 1.0], [0.0, 0.42857142857142855, 0.9285714285714286, 0.9285714285714286, 1.0, 1.0], [0.0, 1.0, 1.0], [0.0, 0.6666666666666666, 1.0]], 'thresholds': [[1.9995428756143245, 0.9995428756143245, 0.9902948514883126, 0.00010264240975214859, 5.045987411998112e-05, 3.608729022366471e-05], [1.9998506173799235, 0.9998506173799236, 0.6672725702732374, 0.0003073102361651723, 0.00018378103769527035, 3.8559509318335236e-05], [1.9999613681000885, 0.9999613681000886, 1.3660547230668057e-05], [1.9999613681000885, 0.9999613681000886, 1.3660547230668057e-05]], 'gmeans': [[0.0, 0.5773502691896257, 1.0, 0.606976978666884, 0.3973597071195132, 0.0], [0.0, 0.6546536707079771, 0.9636241116594315, 0.5900968443520823, 0.6123724356957945, 0.0], [0.0, 1.0, 0.0], [0.0, 0.7947194142390263, 0.0]], 'idmax': [2, 2, 1, 1], 'optimal_threshold': [0.9902948514883126, 0.6672725702732374, 0.9999613681000886, 0.9999613681000886]}\n"
          ]
        }
      ]
    },
    {
      "cell_type": "code",
      "source": [
        "print(create_roc_curve(ybin,y_prob_smotenc2))"
      ],
      "metadata": {
        "colab": {
          "base_uri": "https://localhost:8080/",
          "height": 297
        },
        "outputId": "6807712f-37bd-4412-d6a2-d35491bf7dba",
        "id": "Z0qrhgJ_zlW5"
      },
      "execution_count": 62,
      "outputs": [
        {
          "output_type": "display_data",
          "data": {
            "image/png": "[encoded data removed]",
            "text/plain": [
              "<Figure size 432x288 with 1 Axes>"
            ]
          },
          "metadata": {
            "needs_background": "light"
          }
        },
        {
          "output_type": "stream",
          "name": "stdout",
          "text": [
            "None\n"
          ]
        }
      ]
    },
    {
      "cell_type": "markdown",
      "source": [
        "**PRECISION-RECALL CURVE**"
      ],
      "metadata": {
        "id": "NRJF6topzlW5"
      }
    },
    {
      "cell_type": "code",
      "source": [
        "def create_precision_recall_curve(ybin, y_prob_smotenc2):\n",
        "\ty_np = ybin\n",
        "\tpred_np = y_prob_smotenc2\n",
        "\n",
        "\tcolors = [\n",
        "\t'#0033cc', '#ff0000', '#ff9933', '#993399']\n",
        "\n",
        "\tlinestyles = [\n",
        "\t'solid', 'dotted', 'dashed', 'dashdot']\n",
        "\n",
        "\tfor i in range(len(y_np[0])):\n",
        "\t\tprecision, recall, thresholds = precision_recall_curve(y_np[:, i], pred_np[:, i])\n",
        "\t\tfscore = (2 * precision * recall) / (precision + recall)\n",
        "\t\tix = np.argmax(fscore)\n",
        "\t\tplt.plot([0,1], [0,1], linestyle='--')\n",
        "\t\tplt.plot(recall, precision, linestyle=linestyles[i], color=colors[i], label='{} t={:.5f} F={:.3f}'.format(CLASS_NAMES[i], thresholds[ix], fscore[ix]))\n",
        "\t\tplt.scatter(recall[ix], precision[ix], marker='o', color=colors[i])\n",
        "\n",
        "\tplt.xlabel('False Positive Rate')\n",
        "\tplt.ylabel('True Positive Rate')\n",
        "\tplt.legend()\n",
        "\tplt.show()"
      ],
      "metadata": {
        "id": "F-1tmQyJzlW6"
      },
      "execution_count": 63,
      "outputs": []
    },
    {
      "cell_type": "code",
      "source": [
        "print(create_precision_recall_curve(ybin,y_prob_smotenc2))"
      ],
      "metadata": {
        "colab": {
          "base_uri": "https://localhost:8080/",
          "height": 297
        },
        "outputId": "d66a71ad-3dc0-45b5-c26a-0a9151d0e99f",
        "id": "gUJ7xXG4zlW7"
      },
      "execution_count": 64,
      "outputs": [
        {
          "output_type": "display_data",
          "data": {
            "image/png": "[encoded data removed]",
            "text/plain": [
              "<Figure size 432x288 with 1 Axes>"
            ]
          },
          "metadata": {
            "needs_background": "light"
          }
        },
        {
          "output_type": "stream",
          "name": "stdout",
          "text": [
            "None\n"
          ]
        }
      ]
    }
  ]
}